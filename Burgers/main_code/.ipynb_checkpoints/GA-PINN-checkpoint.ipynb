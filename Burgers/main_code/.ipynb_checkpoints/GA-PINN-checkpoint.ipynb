{
 "cells": [
  {
   "cell_type": "code",
   "execution_count": 1,
   "id": "29f54deb",
   "metadata": {
    "ExecuteTime": {
     "end_time": "2025-02-10T15:27:32.410726Z",
     "start_time": "2025-02-10T15:27:31.071476Z"
    }
   },
   "outputs": [],
   "source": [
    "import numpy as np\n",
    "import torch\n",
    "from torch import nn, optim, autograd\n",
    "from torch.nn import functional as F\n",
    "from pyDOE import lhs\n",
    "import scipy.io\n",
    "import matplotlib.pyplot as plt\n",
    "import matplotlib as mpl\n",
    "import matplotlib.gridspec as gridspec\n",
    "%matplotlib inline\n",
    "from mpl_toolkits.axes_grid1 import make_axes_locatable\n",
    "\n",
    "from utils_training import *\n",
    "\n",
    "#Paper reproduction\n",
    "torch.manual_seed(1234)\n",
    "torch.cuda.manual_seed(1234)\n",
    "np.random.seed(1234)"
   ]
  },
  {
   "cell_type": "code",
   "execution_count": 2,
   "id": "f40b62b9",
   "metadata": {
    "ExecuteTime": {
     "end_time": "2025-02-10T15:27:35.880400Z",
     "start_time": "2025-02-10T15:27:32.413688Z"
    }
   },
   "outputs": [
    {
     "name": "stdout",
     "output_type": "stream",
     "text": [
      "x_inside: Column 0: range from -0.9999616961099242 to 0.9999978533771987\n",
      "t_inside: Column 0: range from 6.22108771039832e-05 to 0.9999811550774386\n"
     ]
    }
   ],
   "source": [
    "N_train = 10000\n",
    "N_bound = 200\n",
    "\n",
    "# x,t\n",
    "\n",
    "la = np.array([1,1])\n",
    "lb = np.array([-1,0])\n",
    "\n",
    "traindata = lb+(la-lb)*lhs(2,N_train)\n",
    "x_inside = traindata[:,0:1]\n",
    "t_inside = traindata[:,1:2]\n",
    "\n",
    "x_inside = numpy_to_tensor(x_inside, var_name=\"x_inside\", value_range_dim = True, to_torch = True, to_cuda = True, requires_grad = True)\n",
    "t_inside = numpy_to_tensor(t_inside, var_name=\"t_inside\", value_range_dim = True, to_torch = True, to_cuda = True, requires_grad = True)"
   ]
  },
  {
   "cell_type": "code",
   "execution_count": 3,
   "id": "36a5c8ed",
   "metadata": {
    "ExecuteTime": {
     "end_time": "2025-02-10T15:27:35.890368Z",
     "start_time": "2025-02-10T15:27:35.883696Z"
    }
   },
   "outputs": [
    {
     "data": {
      "text/plain": [
       "array([[ 0.5635325 ,  0.63299415],\n",
       "       [ 0.6388297 ,  0.44501308],\n",
       "       [-0.52425906,  0.90165352],\n",
       "       ...,\n",
       "       [ 0.1062178 ,  0.24035958],\n",
       "       [ 0.17746499,  0.73244566],\n",
       "       [ 0.2875921 ,  0.15004772]])"
      ]
     },
     "execution_count": 3,
     "metadata": {},
     "output_type": "execute_result"
    }
   ],
   "source": [
    "traindata"
   ]
  },
  {
   "cell_type": "code",
   "execution_count": 4,
   "id": "22ce215b",
   "metadata": {
    "ExecuteTime": {
     "end_time": "2025-02-10T15:27:35.896971Z",
     "start_time": "2025-02-10T15:27:35.892362Z"
    }
   },
   "outputs": [],
   "source": [
    "import scipy.io\n",
    "data = scipy.io.loadmat('./burgers_shock.mat')\n",
    "t_exact = data['t'].flatten()[:,None]\n",
    "x_exact = data['x'].flatten()[:,None]\n",
    "Exact_u = np.real(data['usol'])"
   ]
  },
  {
   "cell_type": "code",
   "execution_count": 5,
   "id": "eedd5fae",
   "metadata": {
    "ExecuteTime": {
     "end_time": "2025-02-10T15:27:35.902799Z",
     "start_time": "2025-02-10T15:27:35.898997Z"
    }
   },
   "outputs": [
    {
     "name": "stdout",
     "output_type": "stream",
     "text": [
      "t: (100, 1)\n",
      "x: (256, 1)\n",
      "Exact_u: (256, 100)\n"
     ]
    }
   ],
   "source": [
    "print('t:',t_exact.shape)\n",
    "print('x:',x_exact.shape)\n",
    "print('Exact_u:',Exact_u.shape)"
   ]
  },
  {
   "cell_type": "code",
   "execution_count": 6,
   "id": "27d7907b",
   "metadata": {
    "ExecuteTime": {
     "end_time": "2025-02-10T15:27:35.909464Z",
     "start_time": "2025-02-10T15:27:35.905198Z"
    }
   },
   "outputs": [
    {
     "name": "stdout",
     "output_type": "stream",
     "text": [
      "T_exact: (256, 100)\n",
      "X_exact: (256, 100)\n"
     ]
    }
   ],
   "source": [
    "T_exact, X_exact = np.meshgrid(t_exact,x_exact)\n",
    "print('T_exact:',T_exact.shape)\n",
    "print('X_exact:',X_exact.shape)"
   ]
  },
  {
   "cell_type": "code",
   "execution_count": 7,
   "id": "19e8e5ef",
   "metadata": {
    "ExecuteTime": {
     "end_time": "2025-02-10T15:27:35.915700Z",
     "start_time": "2025-02-10T15:27:35.911554Z"
    }
   },
   "outputs": [],
   "source": [
    "T_exact_flatten = T_exact.flatten()[:,None]\n",
    "X_exact_flatten = X_exact.flatten()[:,None]\n",
    "data_star = np.hstack((X_exact_flatten,T_exact_flatten))\n",
    "u_star = Exact_u.flatten()[:,None]  "
   ]
  },
  {
   "cell_type": "code",
   "execution_count": 8,
   "id": "b9d32f32",
   "metadata": {
    "ExecuteTime": {
     "end_time": "2025-02-10T15:27:35.927726Z",
     "start_time": "2025-02-10T15:27:35.917611Z"
    }
   },
   "outputs": [
    {
     "name": "stdout",
     "output_type": "stream",
     "text": [
      "observe_data: Column 0: range from -0.9921568627450981 to 1.0\n",
      "observe_data: Column 1: range from 0.0 to 0.99\n",
      "observe_clear_u: Column 0: range from -0.99772670660646 to 0.9984270657408356\n",
      "observe_u: Column 0: range from -0.99772670660646 to 0.9984270657408356\n",
      "J: 100\n"
     ]
    }
   ],
   "source": [
    "random_seed = 1234\n",
    "np.random.seed(random_seed)\n",
    "number_observe_data = 100\n",
    "\n",
    "index_t = (lhs(1,number_observe_data))*len(t_exact)\n",
    "index_t = np.floor(index_t).reshape(number_observe_data,).astype(int)\n",
    "observe_t = t_exact[index_t]\n",
    "\n",
    "index_x = (lhs(1,number_observe_data))*len(x_exact)\n",
    "index_x = np.floor(index_x).reshape(number_observe_data,).astype(int)\n",
    "observe_x = x_exact[index_x]\n",
    "\n",
    "observe_data = np.hstack((observe_x,observe_t))\n",
    "observe_clear_u = Exact_u[index_x,index_t].reshape(-1,1)\n",
    "\n",
    "observe_u = observe_clear_u\n",
    "\n",
    "observe_data = numpy_to_tensor(observe_data, var_name=\"observe_data\", value_range_dim = True, to_torch = True, to_cuda = True, requires_grad = True)\n",
    "observe_clear_u = numpy_to_tensor(observe_clear_u, var_name=\"observe_clear_u\", value_range_dim = True, to_torch = True, to_cuda = True, requires_grad = True)\n",
    "observe_u = numpy_to_tensor(observe_u, var_name=\"observe_u\", value_range_dim = True, to_torch = True, to_cuda = True, requires_grad = True)\n",
    "print('J:',len(observe_u))\n",
    "\n",
    "observe_data_x_inside = observe_data[:,0:1]\n",
    "observe_data_t_inside = observe_data[:,1:2]"
   ]
  },
  {
   "cell_type": "code",
   "execution_count": 9,
   "id": "1745db2e",
   "metadata": {
    "ExecuteTime": {
     "end_time": "2025-02-10T15:27:35.947630Z",
     "start_time": "2025-02-10T15:27:35.931467Z"
    }
   },
   "outputs": [
    {
     "name": "stdout",
     "output_type": "stream",
     "text": [
      "test_data: Column 0: range from -1.0 to 1.0\n",
      "test_data: Column 1: range from 0.0 to 0.99\n",
      "test_u: Column 0: range from -0.9993967270742482 to 0.999396727074248\n"
     ]
    }
   ],
   "source": [
    "np.random.seed(5678)\n",
    "n_test_data = 10000\n",
    "\n",
    "index_test_data = (lhs(1,n_test_data))*len(data_star)\n",
    "index_test_data = np.floor(index_test_data).reshape(n_test_data,).astype(int)\n",
    "\n",
    "index_t = (lhs(1,n_test_data))*len(t_exact)\n",
    "index_t = np.floor(index_t).reshape(n_test_data,).astype(int)\n",
    "test_data_t = t_exact[index_t]\n",
    "\n",
    "index_x = (lhs(1,n_test_data))*len(x_exact)\n",
    "index_x = np.floor(index_x).reshape(n_test_data,).astype(int)\n",
    "test_data_x = x_exact[index_x]\n",
    "\n",
    "test_data = np.hstack((test_data_x,test_data_t))\n",
    "test_u = Exact_u[index_x,index_t].reshape(-1,1)\n",
    "\n",
    "test_data = numpy_to_tensor(test_data, var_name=\"test_data\", value_range_dim = True, to_torch = True, to_cuda = True, requires_grad = True)\n",
    "test_u = numpy_to_tensor(test_u, var_name=\"test_u\", value_range_dim = True, to_torch = True, to_cuda = True, requires_grad = True)\n",
    "\n",
    "test_data_x_inside = test_data[:,0:1]\n",
    "test_data_t_inside = test_data[:,1:2]"
   ]
  },
  {
   "cell_type": "code",
   "execution_count": 10,
   "id": "7d2c6107",
   "metadata": {
    "ExecuteTime": {
     "end_time": "2025-02-10T15:27:35.954186Z",
     "start_time": "2025-02-10T15:27:35.949559Z"
    }
   },
   "outputs": [],
   "source": [
    "def output_transform(data_input, u_input):\n",
    "    \n",
    "    x_in = data_input[:, 0:1]\n",
    "    t_in = data_input[:, 1:2]\n",
    "\n",
    "    return (1 - x_in) * (1 + x_in) * (1 - torch.exp(-t_in)) * u_input - torch.sin(np.pi * x_in)"
   ]
  },
  {
   "cell_type": "code",
   "execution_count": 11,
   "id": "7489d95c",
   "metadata": {
    "ExecuteTime": {
     "end_time": "2025-02-10T15:27:35.959343Z",
     "start_time": "2025-02-10T15:27:35.956412Z"
    }
   },
   "outputs": [],
   "source": [
    "C1 = torch.tensor(0.5, requires_grad=True)"
   ]
  },
  {
   "cell_type": "code",
   "execution_count": 12,
   "id": "2a78db83",
   "metadata": {
    "ExecuteTime": {
     "end_time": "2025-02-10T15:27:35.967044Z",
     "start_time": "2025-02-10T15:27:35.961437Z"
    }
   },
   "outputs": [],
   "source": [
    "def get_loss_f(x_grad,t_grad,PINNs,C,return_sequence='not'):\n",
    "    \n",
    "    ########### loss f  ###########\n",
    "    E_inside = PINNs(torch.cat((x_grad,t_grad),1)) \n",
    "    E_inside = output_transform(torch.cat((x_grad,t_grad),1),E_inside) \n",
    "    \n",
    "    E_x = compute_higher_order_derivatives(E_inside, [x_grad])\n",
    "    E_xx = compute_higher_order_derivatives(E_x, [x_grad])\n",
    "    E_t = compute_higher_order_derivatives(E_inside, [t_grad])\n",
    "\n",
    "\n",
    "    if return_sequence=='yes':\n",
    "        return torch.square(E_t+E_inside*E_x-C*(E_xx))\n",
    "    else:\n",
    "        return torch.mean(torch.square(E_t+E_inside*E_x-C*(E_xx)))"
   ]
  },
  {
   "cell_type": "code",
   "execution_count": 13,
   "id": "5178151a",
   "metadata": {
    "ExecuteTime": {
     "end_time": "2025-02-10T15:27:35.972691Z",
     "start_time": "2025-02-10T15:27:35.969198Z"
    }
   },
   "outputs": [],
   "source": [
    "#Paper reproduction\n",
    "torch.manual_seed(1234)\n",
    "torch.cuda.manual_seed(1234)\n",
    "np.random.seed(1234)"
   ]
  },
  {
   "cell_type": "code",
   "execution_count": 14,
   "id": "5c052897",
   "metadata": {
    "ExecuteTime": {
     "end_time": "2025-02-10T15:27:35.982925Z",
     "start_time": "2025-02-10T15:27:35.974904Z"
    }
   },
   "outputs": [],
   "source": [
    "torch.manual_seed(1234)\n",
    "torch.cuda.manual_seed(1234)\n",
    "np.random.seed(1234)\n",
    "\n",
    "net_settings_for_PINNs1 = NetSetting(input_dims=2, hidden_neurons_list=[20]*8, \n",
    "                                     output_dims=1, hidden_activation='tanh', \n",
    "                                     output_activation=None, initializer_method='xavier')\n",
    "\n",
    "PINNs1 = get_mlp_pinn(net_settings_for_PINNs1)\n",
    "PINNs1.cuda()  \n",
    "\n",
    "initialize_weights(PINNs1, net_settings_for_PINNs1.initializer_method)\n",
    "   \n",
    "optimizer1 = optim.Adam(PINNs1.parameters(), lr=0.001,betas=(0.9, 0.999), eps=1e-08, weight_decay=0, amsgrad=False)    \n",
    "optimizer1.add_param_group({'params': [C1], 'lr': 0.001})"
   ]
  },
  {
   "cell_type": "code",
   "execution_count": 15,
   "id": "2de58f70",
   "metadata": {
    "ExecuteTime": {
     "end_time": "2025-02-10T15:27:35.989189Z",
     "start_time": "2025-02-10T15:27:35.984816Z"
    }
   },
   "outputs": [],
   "source": [
    "x_inside_all = torch.cat((x_inside,observe_data[:,0:1]),axis=0)\n",
    "t_inside_all = torch.cat((t_inside,observe_data[:,1:2]),axis=0)"
   ]
  },
  {
   "cell_type": "code",
   "execution_count": 16,
   "id": "8335446c",
   "metadata": {
    "ExecuteTime": {
     "end_time": "2025-02-10T15:27:35.997638Z",
     "start_time": "2025-02-10T15:27:35.991562Z"
    }
   },
   "outputs": [],
   "source": [
    "net_settings_for_discriminator1 = NetSetting(input_dims=3, hidden_neurons_list=[20]*4, \n",
    "                                     output_dims=1, hidden_activation='sigmoid(tanh)', \n",
    "                                     output_activation='sigmoid(tanh)', initializer_method='xavier')\n",
    "\n",
    "discriminator1 = get_mlp_pinn(net_settings_for_discriminator1)\n",
    "discriminator1.cuda() \n",
    "initialize_weights(discriminator1, net_settings_for_discriminator1.initializer_method)\n",
    "\n",
    "optimizer2 = optim.Adam(discriminator1.parameters(), lr=1e-3,betas=(0.9, 0.999), eps=1e-08, weight_decay=0.001, amsgrad=False)"
   ]
  },
  {
   "cell_type": "code",
   "execution_count": 17,
   "id": "3dc5d3a5",
   "metadata": {
    "ExecuteTime": {
     "end_time": "2025-02-10T15:27:36.003829Z",
     "start_time": "2025-02-10T15:27:35.999942Z"
    }
   },
   "outputs": [],
   "source": [
    "def train_optimizer1(PINNs,C,discriminator):\n",
    "    \n",
    "    for param in PINNs.parameters():\n",
    "        param.requires_grad = True\n",
    "    \n",
    "    C.requires_grad = True\n",
    "    \n",
    "    for param in discriminator.parameters():\n",
    "        param.requires_grad = False"
   ]
  },
  {
   "cell_type": "code",
   "execution_count": 18,
   "id": "b6a32b05",
   "metadata": {
    "ExecuteTime": {
     "end_time": "2025-02-10T15:27:36.009918Z",
     "start_time": "2025-02-10T15:27:36.006375Z"
    }
   },
   "outputs": [],
   "source": [
    "def train_optimizer2(PINNs,C,discriminator):\n",
    "    \n",
    "    for param in PINNs.parameters():\n",
    "        param.requires_grad = False\n",
    "    \n",
    "    C.requires_grad = False\n",
    "    \n",
    "    for param in discriminator.parameters():\n",
    "        param.requires_grad = True"
   ]
  },
  {
   "cell_type": "code",
   "execution_count": 19,
   "id": "ecc4eeb4",
   "metadata": {
    "ExecuteTime": {
     "end_time": "2025-02-10T15:27:36.019233Z",
     "start_time": "2025-02-10T15:27:36.012174Z"
    }
   },
   "outputs": [],
   "source": [
    "def train_for_gan(PINNs,C,discriminator,observe_data_input,observe_u_input):\n",
    "    \n",
    "    ############ loss D ###########\n",
    "    train_optimizer2(PINNs,C,discriminator)\n",
    "    \n",
    "    pre_H = PINNs(observe_data_input)\n",
    "    pre_H = output_transform(observe_data_input, pre_H) \n",
    "    \n",
    "    d_fake = discriminator(torch.cat((observe_data_input,pre_H),1))\n",
    "    d_real = discriminator(torch.cat((observe_data_input,observe_u_input),1))\n",
    "\n",
    "    loss_D = torch.mean(1-d_real)+torch.mean(d_fake)\n",
    "\n",
    "    optimizer2.zero_grad()\n",
    "    loss_D .backward()\n",
    "    optimizer2.step()  \n",
    "\n",
    "    ############ loss G ###########\n",
    "    train_optimizer1(PINNs,C,discriminator)\n",
    "    \n",
    "    pre_H = PINNs(observe_data_input)\n",
    "    pre_H = output_transform(observe_data_input, pre_H) \n",
    "    \n",
    "    d_fake = discriminator(torch.cat((observe_data_input,pre_H),1))\n",
    "\n",
    "    loss_G = torch.mean(1-d_fake)+torch.mean(torch.square(pre_H - observe_u_input))\n",
    "\n",
    "    optimizer1.zero_grad()\n",
    "    loss_G.backward()\n",
    "    optimizer1.step()  \n",
    "    \n",
    "    return PINNs,C,discriminator"
   ]
  },
  {
   "cell_type": "code",
   "execution_count": 20,
   "id": "a8067044",
   "metadata": {
    "ExecuteTime": {
     "end_time": "2025-02-10T15:31:21.706069Z",
     "start_time": "2025-02-10T15:27:36.021553Z"
    },
    "scrolled": false
   },
   "outputs": [
    {
     "name": "stdout",
     "output_type": "stream",
     "text": [
      "It: 0 train_loss: 14.753241539001465 test_loss: 0.5929485559463501\n",
      "C1 tensor(0.5000, requires_grad=True)\n",
      "It: 1000 train_loss: 0.05458613857626915 test_loss: 0.07803838700056076\n",
      "C1 tensor(0.0091, requires_grad=True)\n",
      "It: 2000 train_loss: 0.007555721327662468 test_loss: 0.0356314443051815\n",
      "C1 tensor(0.0050, requires_grad=True)\n",
      "It: 3000 train_loss: 0.0025394409894943237 test_loss: 0.019409187138080597\n",
      "C1 tensor(0.0041, requires_grad=True)\n",
      "It: 4000 train_loss: 0.0054723299108445644 test_loss: 0.01390264555811882\n",
      "C1 tensor(0.0038, requires_grad=True)\n",
      "It: 5000 train_loss: 0.0009465861367061734 test_loss: 0.012197203934192657\n",
      "C1 tensor(0.0038, requires_grad=True)\n",
      "It: 6000 train_loss: 0.001016896334476769 test_loss: 0.012042956426739693\n",
      "C1 tensor(0.0037, requires_grad=True)\n",
      "It: 7000 train_loss: 0.0008663879125379026 test_loss: 0.009018599055707455\n",
      "C1 tensor(0.0037, requires_grad=True)\n",
      "It: 8000 train_loss: 0.012435505166649818 test_loss: 0.014459268189966679\n",
      "C1 tensor(0.0036, requires_grad=True)\n",
      "It: 9000 train_loss: 0.0004480839997995645 test_loss: 0.00983011070638895\n",
      "C1 tensor(0.0037, requires_grad=True)\n",
      "Final: train_loss: 0.00037651072489097714 test_loss: 0.008425233885645866\n"
     ]
    }
   ],
   "source": [
    "############## Record list ###############\n",
    "loss_all_1 = []\n",
    "loss_f_1 = []\n",
    "loss_f_for_collocation_1 = []\n",
    "loss_f_for_T_1 = []\n",
    "loss_f_excapt_T_1 = []\n",
    "loss_T_1 = []\n",
    "loss_T_clear_1 = []\n",
    "loss_T_1_test_data = []\n",
    "test_loss_1 = []\n",
    "C1_list = []\n",
    "############## Record list ###############\n",
    "\n",
    "\n",
    "# C1 = torch.tensor(0.01/np.pi, requires_grad=False)\n",
    "nIter1 = 10000\n",
    "it = 0\n",
    "\n",
    "while it<nIter1:\n",
    "    \n",
    "    if it<2000:\n",
    "        ######### GAN  #########\n",
    "        PINNs1,C1,discriminator1 = train_for_gan(PINNs1,C1,discriminator1,observe_data,observe_u)    \n",
    "\n",
    "    #########loss f #########\n",
    "    loss_f = get_loss_f(x_inside_all,t_inside_all,PINNs1,C1, return_sequence='not')\n",
    "\n",
    "    #########loss T observation#########        \n",
    "    E_observation = PINNs1(observe_data) \n",
    "    E_observation = output_transform(observe_data,E_observation) \n",
    "    loss_observation = torch.mean(torch.square(E_observation-observe_u))            \n",
    "\n",
    "    #########loss PI#########\n",
    "    loss = loss_f+10*loss_observation\n",
    "\n",
    "    #########test_loss NRMSE#########\n",
    "    pre_u = PINNs1(test_data)\n",
    "    pre_u = output_transform(test_data,pre_u) \n",
    "    test_loss = relative_l2_torch(pre_u,test_u)\n",
    "    #########test_loss NRMSE#########\n",
    "    \n",
    "    #########Record#########\n",
    "    C1_list.append(C1.item())   \n",
    "    loss_T_1.append(loss_observation.item()) \n",
    "    test_loss_1.append(test_loss)\n",
    "    #########Record#########\n",
    "        \n",
    "    if it % 1000 == 0:\n",
    "        print('It:', it, 'train_loss:', loss.item(), 'test_loss:', test_loss)\n",
    "        print('C1',C1)   \n",
    "        \n",
    "    optimizer1.zero_grad()\n",
    "    loss.backward()\n",
    "    optimizer1.step()\n",
    "    \n",
    "    it = it + 1        \n",
    "\n",
    "print('Final:', 'train_loss:', loss.item(), 'test_loss:', test_loss)"
   ]
  },
  {
   "cell_type": "code",
   "execution_count": 21,
   "id": "5602dfea",
   "metadata": {
    "ExecuteTime": {
     "end_time": "2025-02-10T15:31:21.720795Z",
     "start_time": "2025-02-10T15:31:21.710406Z"
    }
   },
   "outputs": [],
   "source": [
    "import os\n",
    "folder_path = '../experimental_data/GA_PINN/'\n",
    "if not os.path.exists(folder_path):\n",
    "    os.makedirs(folder_path)\n",
    "\n",
    "np.save(os.path.join(folder_path, 'loss_T_1.npy'), loss_T_1)\n",
    "np.save(os.path.join(folder_path, 'test_loss_1.npy'), test_loss_1)\n",
    "np.save(os.path.join(folder_path, 'C1_list.npy'), C1_list)"
   ]
  },
  {
   "cell_type": "code",
   "execution_count": null,
   "id": "07e7f988",
   "metadata": {},
   "outputs": [],
   "source": []
  },
  {
   "cell_type": "code",
   "execution_count": null,
   "id": "7233a9c6",
   "metadata": {},
   "outputs": [],
   "source": []
  }
 ],
 "metadata": {
  "kernelspec": {
   "display_name": "GA-PINNs",
   "language": "python",
   "name": "gapings"
  },
  "language_info": {
   "codemirror_mode": {
    "name": "ipython",
    "version": 3
   },
   "file_extension": ".py",
   "mimetype": "text/x-python",
   "name": "python",
   "nbconvert_exporter": "python",
   "pygments_lexer": "ipython3",
   "version": "3.7.12"
  },
  "toc": {
   "base_numbering": 1,
   "nav_menu": {},
   "number_sections": true,
   "sideBar": true,
   "skip_h1_title": false,
   "title_cell": "Table of Contents",
   "title_sidebar": "Contents",
   "toc_cell": false,
   "toc_position": {},
   "toc_section_display": true,
   "toc_window_display": false
  },
  "varInspector": {
   "cols": {
    "lenName": 16,
    "lenType": 16,
    "lenVar": 40
   },
   "kernels_config": {
    "python": {
     "delete_cmd_postfix": "",
     "delete_cmd_prefix": "del ",
     "library": "var_list.py",
     "varRefreshCmd": "print(var_dic_list())"
    },
    "r": {
     "delete_cmd_postfix": ") ",
     "delete_cmd_prefix": "rm(",
     "library": "var_list.r",
     "varRefreshCmd": "cat(var_dic_list()) "
    }
   },
   "types_to_exclude": [
    "module",
    "function",
    "builtin_function_or_method",
    "instance",
    "_Feature"
   ],
   "window_display": false
  }
 },
 "nbformat": 4,
 "nbformat_minor": 5
}
