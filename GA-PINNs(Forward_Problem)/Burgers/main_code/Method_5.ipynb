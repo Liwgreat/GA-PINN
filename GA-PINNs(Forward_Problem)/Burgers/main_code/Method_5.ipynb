{
 "cells": [
  {
   "cell_type": "markdown",
   "metadata": {},
   "source": [
    "\\begin{aligned}\n",
    "&u_{t}+u u_{x}-(0.01 / \\pi) u_{x x}=0, \\quad x \\in[-1,1], \\quad t \\in[0,1] \\\\\n",
    "&u(0, x)=-\\sin (\\pi x) \\\\\n",
    "&u(t,-1)=u(t, 1)=0\n",
    "\\end{aligned}"
   ]
  },
  {
   "cell_type": "code",
   "execution_count": null,
   "metadata": {
    "ExecuteTime": {
     "end_time": "2024-02-11T11:19:13.590565Z",
     "start_time": "2024-02-11T11:19:12.377366Z"
    }
   },
   "outputs": [],
   "source": [
    "import numpy as np\n",
    "import torch\n",
    "from torch import nn, optim, autograd\n",
    "from torch.nn import functional as F\n",
    "from pyDOE import lhs\n",
    "import scipy.io\n",
    "import matplotlib.pyplot as plt\n",
    "import matplotlib as mpl\n",
    "import matplotlib.gridspec as gridspec\n",
    "%matplotlib inline\n",
    "from mpl_toolkits.axes_grid1 import make_axes_locatable\n",
    "\n",
    "from models_all import *\n",
    "\n",
    "#Paper reproduction\n",
    "torch.manual_seed(1234)\n",
    "torch.cuda.manual_seed(1234)\n",
    "np.random.seed(1234)"
   ]
  },
  {
   "cell_type": "markdown",
   "metadata": {},
   "source": [
    "# Data For PINNs"
   ]
  },
  {
   "cell_type": "code",
   "execution_count": null,
   "metadata": {
    "ExecuteTime": {
     "end_time": "2024-02-11T11:19:13.603865Z",
     "start_time": "2024-02-11T11:19:13.593288Z"
    }
   },
   "outputs": [],
   "source": [
    "N_train = 10000\n",
    "N_bound = 100\n",
    "\n",
    "la = np.array([1,1])\n",
    "lb = np.array([-1,0])\n",
    "np.random.seed(123)\n",
    "traindata = lb+(la-lb)*lhs(2,N_train)\n",
    "np.random.seed(1234)\n",
    "bound_x = -1+(1-(-1))*lhs(1,N_bound)\n",
    "np.random.seed(12345)\n",
    "bound_t = 0+(1-(0))*lhs(1,N_bound)"
   ]
  },
  {
   "cell_type": "code",
   "execution_count": null,
   "metadata": {
    "ExecuteTime": {
     "end_time": "2024-02-11T11:19:13.622766Z",
     "start_time": "2024-02-11T11:19:13.606891Z"
    }
   },
   "outputs": [],
   "source": [
    "#x,t  #u,v\n",
    "X_train = torch.from_numpy(traindata).float()\n",
    "x_bound = torch.from_numpy(bound_x).float()\n",
    "t_bound = torch.from_numpy(bound_t).float()\n",
    "x = X_train[:,0:1]\n",
    "t = X_train[:,1:2]\n",
    "\n",
    "x.requires_grad_()\n",
    "t.requires_grad_()"
   ]
  },
  {
   "cell_type": "markdown",
   "metadata": {},
   "source": [
    "## Get Data"
   ]
  },
  {
   "cell_type": "code",
   "execution_count": null,
   "metadata": {
    "ExecuteTime": {
     "end_time": "2024-02-11T11:19:13.629713Z",
     "start_time": "2024-02-11T11:19:13.624907Z"
    }
   },
   "outputs": [],
   "source": [
    "import scipy.io\n",
    "data = scipy.io.loadmat('./burgers_shock.mat')\n",
    "t_ = data['t'].flatten()[:,None]\n",
    "x_ = data['x'].flatten()[:,None]\n",
    "Exact = np.real(data['usol']).T\n",
    "\n",
    "X, T = np.meshgrid(x_,t_)\n",
    "\n",
    "X_star = np.hstack((T.flatten()[:,None], X.flatten()[:,None]))\n",
    "u_star = Exact.flatten()[:,None]  "
   ]
  },
  {
   "cell_type": "markdown",
   "metadata": {},
   "source": [
    "### Labeled Data"
   ]
  },
  {
   "cell_type": "code",
   "execution_count": null,
   "metadata": {
    "ExecuteTime": {
     "end_time": "2024-02-11T11:19:13.635121Z",
     "start_time": "2024-02-11T11:19:13.631227Z"
    }
   },
   "outputs": [],
   "source": [
    "np.random.seed(1234)\n",
    "index_t = (lhs(1,10))*len(t_)\n",
    "index_t = index_t.astype(int).reshape(10,)\n",
    "t_star = t_[index_t]\n",
    "index_x = (lhs(1,10))*len(x_)\n",
    "index_x = index_x.astype(int).reshape(10,)\n",
    "x_star = x_[index_x]\n",
    "t_x_star = np.hstack((t_star, x_star))"
   ]
  },
  {
   "cell_type": "code",
   "execution_count": null,
   "metadata": {
    "ExecuteTime": {
     "end_time": "2024-02-11T11:19:13.638877Z",
     "start_time": "2024-02-11T11:19:13.636826Z"
    }
   },
   "outputs": [],
   "source": [
    "u_star_ = Exact[index_t,index_x]\n",
    "n=10"
   ]
  },
  {
   "cell_type": "code",
   "execution_count": null,
   "metadata": {
    "ExecuteTime": {
     "end_time": "2024-02-11T11:19:13.643158Z",
     "start_time": "2024-02-11T11:19:13.640522Z"
    }
   },
   "outputs": [],
   "source": [
    "gan_data_x_t = t_x_star\n",
    "gan_data_u = u_star_.reshape(-1,1)\n",
    "gan_data_x_t = torch.from_numpy(gan_data_x_t).float()\n",
    "gan_data_u = torch.from_numpy(gan_data_u).float()"
   ]
  },
  {
   "cell_type": "markdown",
   "metadata": {},
   "source": [
    "### The Image With Labeled Sample"
   ]
  },
  {
   "cell_type": "code",
   "execution_count": null,
   "metadata": {
    "ExecuteTime": {
     "end_time": "2024-02-11T11:19:13.807929Z",
     "start_time": "2024-02-11T11:19:13.644953Z"
    }
   },
   "outputs": [],
   "source": [
    "fig, ax = plt.subplots()\n",
    "gs0 = gridspec.GridSpec(1, 2)\n",
    "gs0.update(top=1-0.06, bottom=1-1/3, left=0.15, right=0.85, wspace=0)\n",
    "ax = plt.subplot(gs0[:, :])\n",
    "ax.plot(gan_data_x_t[:,0:1], gan_data_x_t[:,1:2],  'kx',alpha=1,markersize = 4)\n",
    "h = ax.imshow(Exact.T, interpolation='nearest', cmap='rainbow',  extent=[0, 1, -1, 1],\n",
    "            origin='lower', aspect='auto')\n",
    "divider = make_axes_locatable(ax)\n",
    "cax = divider.append_axes(\"right\", size=\"5%\", pad=0.05)\n",
    "fig.colorbar(h, cax=cax)\n",
    "plt.show()"
   ]
  },
  {
   "cell_type": "markdown",
   "metadata": {},
   "source": [
    "# Test Data"
   ]
  },
  {
   "cell_type": "code",
   "execution_count": null,
   "metadata": {
    "ExecuteTime": {
     "end_time": "2024-02-11T11:19:13.820465Z",
     "start_time": "2024-02-11T11:19:13.811316Z"
    }
   },
   "outputs": [],
   "source": [
    "np.random.seed(5678)\n",
    "index_t = (lhs(1,10000))*len(t_)\n",
    "index_t = index_t.astype(int).reshape(10000,)\n",
    "t_star = t_[index_t]\n",
    "index_x = (lhs(1,10000))*len(x_)\n",
    "index_x = index_x.astype(int).reshape(10000,)\n",
    "x_star = x_[index_x]\n",
    "t_x_star = np.hstack((t_star, x_star))"
   ]
  },
  {
   "cell_type": "code",
   "execution_count": null,
   "metadata": {
    "ExecuteTime": {
     "end_time": "2024-02-11T11:19:13.825104Z",
     "start_time": "2024-02-11T11:19:13.822336Z"
    }
   },
   "outputs": [],
   "source": [
    "u_star_ = Exact[index_t,index_x]"
   ]
  },
  {
   "cell_type": "code",
   "execution_count": null,
   "metadata": {
    "ExecuteTime": {
     "end_time": "2024-02-11T11:19:13.830209Z",
     "start_time": "2024-02-11T11:19:13.826941Z"
    }
   },
   "outputs": [],
   "source": [
    "test_data = t_x_star\n",
    "test_u = u_star_.reshape(-1,1)\n",
    "test_data = torch.from_numpy(test_data).float()"
   ]
  },
  {
   "cell_type": "code",
   "execution_count": null,
   "metadata": {
    "ExecuteTime": {
     "end_time": "2024-02-11T11:19:13.836133Z",
     "start_time": "2024-02-11T11:19:13.832029Z"
    },
    "scrolled": false
   },
   "outputs": [],
   "source": [
    "test_u"
   ]
  },
  {
   "cell_type": "code",
   "execution_count": null,
   "metadata": {},
   "outputs": [],
   "source": []
  },
  {
   "cell_type": "code",
   "execution_count": null,
   "metadata": {},
   "outputs": [],
   "source": []
  },
  {
   "cell_type": "code",
   "execution_count": null,
   "metadata": {},
   "outputs": [],
   "source": []
  },
  {
   "cell_type": "markdown",
   "metadata": {},
   "source": [
    "# Method5 \n",
    "$\\text { GA - PINN* }$\n",
    "<div class=\"alert alert-info\">objective function：<br>\n",
    "Pre_training：<br>\n",
    "$\n",
    "\\overline{\\mathrm{L}}_{\\text {PINN }} =\\mathrm{L}_{\\text {PINN }}+\\lambda_2\\mathrm{L}_T\n",
    "$\n",
    "<br>\n",
    "Follow-up training：<br>\n",
    "$\n",
    "\\mathrm{L}_D=\\frac{1}{J} \\sum_{j=1}^J\\left(1-D\\left[\\left(\\mathbf{x}_T^{(j)}, u_T^{(j)}\\right)\\right]\\right)+D\\left[\\left(x_L^{(j)}, G\\left[x_L^{(j)}\\right]\\right)\\right] \\\\\n",
    "\\mathrm{L}_G=\\mathrm{L}_T+\\frac{1}{J} \\sum_{j=1}^J\\left(1-D\\left[\\left(x_T^{(j)}, G\\left[x_T^{(j)}\\right]\\right)\\right]\\right)\\\\\n",
    "\\overline{\\mathrm{L}}_{\\text {PINN }} =\\mathrm{L}_{\\text {PINN }}+\\lambda_2\\mathrm{L}_T$\n",
    "\n",
    "</div>"
   ]
  },
  {
   "cell_type": "code",
   "execution_count": null,
   "metadata": {
    "ExecuteTime": {
     "end_time": "2024-02-11T11:31:52.389103Z",
     "start_time": "2024-02-11T11:19:13.838415Z"
    },
    "scrolled": true
   },
   "outputs": [],
   "source": [
    "torch.manual_seed(1234)\n",
    "torch.cuda.manual_seed(1234)\n",
    "np.random.seed(1234)\n",
    "\n",
    "\n",
    "PINNs5 = NN_H2(2, 20, 7, 1)\n",
    "PINNs5.apply(weights_init)\n",
    "optimizer1 = optim.Adam(PINNs5.parameters(), lr=0.001,betas=(0.9, 0.999), eps=1e-08, weight_decay=0, amsgrad=False)\n",
    "\n",
    "discriminator = get_discriminator(3, 20, 8, 1)\n",
    "discriminator.apply(weights_init)\n",
    "\n",
    "optimizer2 = optim.Adam([{'params': discriminator.parameters(), 'weight_decay': 0.001}], lr=5e-3)\n",
    "\n",
    "nIter1 = 10000\n",
    "\n",
    "loss_all_5 = []\n",
    "test_loss_5 = []\n",
    "\n",
    "\n",
    "loss1_value = 1\n",
    "it = 0\n",
    "while  loss1_value>0.0001 and it<5000:\n",
    "    \n",
    "    \n",
    "    ##### loss_Bi  ######\n",
    "    E_bound = PINNs5(torch.cat((torch.zeros_like(x_bound),x_bound),1))\n",
    "    real_bound = -torch.sin(torch.pi*x_bound)\n",
    "    loss_bound = torch.mean(torch.square(E_bound-real_bound))+\\\n",
    "                 torch.mean(torch.square(PINNs5(torch.cat((t_bound,torch.ones_like(t_bound)),1))))+\\\n",
    "                 torch.mean(torch.square(PINNs5(torch.cat((t_bound,-torch.ones_like(t_bound)),1))))\n",
    "    \n",
    "    ##### loss f  ######\n",
    "    pre_H = PINNs5(gan_data_x_t)\n",
    "    \n",
    "    E_inside = PINNs5(torch.cat((t,x),1))\n",
    "    E_x = autograd.grad(outputs=E_inside, inputs=x,\n",
    "                              grad_outputs=torch.ones_like(E_inside),\n",
    "                              create_graph=True, retain_graph=True, only_inputs=True)[0]\n",
    "    E_xx = autograd.grad(outputs=E_x, inputs=x,\n",
    "                              grad_outputs=torch.ones_like(E_x),\n",
    "                              create_graph=True, retain_graph=True, only_inputs=True)[0]\n",
    "    E_t = autograd.grad(outputs=E_inside, inputs=t,\n",
    "                              grad_outputs=torch.ones_like(E_inside),\n",
    "                              create_graph=True, retain_graph=True, only_inputs=True)[0]     \n",
    "\n",
    "    loss_f = torch.mean(torch.square(E_t+E_inside*E_x-0.01/torch.pi*(E_xx)))\n",
    "           \n",
    "    loss_g = loss_f+ loss_bound+10*torch.mean(torch.square(pre_H - gan_data_u)) \n",
    "\n",
    "    loss_p = loss_f+loss_bound\n",
    "    \n",
    "    loss1_value = loss_p.item()\n",
    "    loss_all_5.append(loss1_value) \n",
    "    ###########################\n",
    "\n",
    "    optimizer1.zero_grad()\n",
    "    loss_g.backward()\n",
    "    optimizer1.step()\n",
    "    \n",
    "    #########  test_loss NRMSE  #########\n",
    "    test_loss = relative_l2(PINNs5(test_data).detach().numpy(),test_u)\n",
    "    test_loss_5.append(test_loss)    \n",
    "    \n",
    "    if it % 100 == 0:\n",
    "        print('It:', it, 'Loss:', loss_p.item())\n",
    "    it = it + 1        \n",
    "loss1_value    "
   ]
  },
  {
   "cell_type": "code",
   "execution_count": null,
   "metadata": {
    "ExecuteTime": {
     "end_time": "2024-02-11T12:36:29.702618Z",
     "start_time": "2024-02-11T11:31:52.391556Z"
    },
    "scrolled": true
   },
   "outputs": [],
   "source": [
    "while  loss1_value>0.0001:\n",
    "    \n",
    "    ######## loss D #######\n",
    "    pre_H = PINNs5(gan_data_x_t)\n",
    "    d_fake = discriminator(torch.cat((gan_data_x_t,pre_H.detach()),1))\n",
    "    d_real = discriminator(torch.cat((gan_data_x_t,gan_data_u),1))\n",
    "\n",
    "    loss_d = torch.mean(1-d_real)+torch.mean(d_fake)\n",
    "    #loss_d = torch.mean(1-d_real)\n",
    "    \n",
    "    optimizer2.zero_grad()\n",
    "    loss_d .backward()\n",
    "    optimizer2.step()  \n",
    "    \n",
    "    ######## loss G #######\n",
    "    \n",
    "    \n",
    "    pre_H = PINNs5(gan_data_x_t)\n",
    "    d_fake = discriminator(torch.cat((gan_data_x_t,pre_H),1))\n",
    "        \n",
    "    loss_L = torch.mean(1-d_fake)+torch.mean(torch.square(pre_H - gan_data_u))\n",
    "    \n",
    "    optimizer1.zero_grad()\n",
    "    loss_L.backward()\n",
    "    optimizer1.step()\n",
    "        \n",
    "    pre_H = PINNs5(gan_data_x_t)\n",
    "    ##### loss_Bi  ######\n",
    "    E_bound = PINNs5(torch.cat((torch.zeros_like(x_bound),x_bound),1))\n",
    "    real_bound = -torch.sin(torch.pi*x_bound)\n",
    "    loss_bound = torch.mean(torch.square(E_bound-real_bound))+\\\n",
    "                 torch.mean(torch.square(PINNs5(torch.cat((t_bound,torch.ones_like(t_bound)),1))))+\\\n",
    "                 torch.mean(torch.square(PINNs5(torch.cat((t_bound,-torch.ones_like(t_bound)),1))))\n",
    "    \n",
    "    ##### loss f  ######\n",
    "    \n",
    "    E_inside = PINNs5(torch.cat((t,x),1))\n",
    "    E_x = autograd.grad(outputs=E_inside, inputs=x,\n",
    "                              grad_outputs=torch.ones_like(E_inside),\n",
    "                              create_graph=True, retain_graph=True, only_inputs=True)[0]\n",
    "    E_xx = autograd.grad(outputs=E_x, inputs=x,\n",
    "                              grad_outputs=torch.ones_like(E_x),\n",
    "                              create_graph=True, retain_graph=True, only_inputs=True)[0]\n",
    "    E_t = autograd.grad(outputs=E_inside, inputs=t,\n",
    "                              grad_outputs=torch.ones_like(E_inside),\n",
    "                              create_graph=True, retain_graph=True, only_inputs=True)[0]     \n",
    "\n",
    "    loss_f = torch.mean(torch.square(E_t+E_inside*E_x-0.01/torch.pi*(E_xx)))\n",
    "           \n",
    "    loss_teacher = loss_f+ loss_bound+10*torch.mean(torch.square(pre_H - gan_data_u)) \n",
    "\n",
    "    loss_p = loss_f+loss_bound\n",
    "    \n",
    "    loss1_value = loss_p.item()\n",
    "    loss_all_5.append(loss1_value) \n",
    "    ###########################\n",
    "    \n",
    "    optimizer1.zero_grad()\n",
    "    loss_teacher.backward()\n",
    "    optimizer1.step()\n",
    "\n",
    "    #########  test_loss NRMSE  #########\n",
    "    test_loss = relative_l2(PINNs5(test_data).detach().numpy(),test_u)\n",
    "    test_loss_5.append(test_loss)    \n",
    "    \n",
    "    if it % 100 == 0:\n",
    "        print('It:', it, 'Loss:', loss_p.item())\n",
    "    it = it + 1        \n",
    "loss1_value    "
   ]
  },
  {
   "cell_type": "code",
   "execution_count": null,
   "metadata": {},
   "outputs": [],
   "source": []
  },
  {
   "cell_type": "markdown",
   "metadata": {},
   "source": [
    "# Results"
   ]
  },
  {
   "cell_type": "markdown",
   "metadata": {},
   "source": [
    "## Save data"
   ]
  },
  {
   "cell_type": "code",
   "execution_count": null,
   "metadata": {
    "ExecuteTime": {
     "end_time": "2024-10-28T12:28:15.391092Z",
     "start_time": "2024-10-28T12:28:15.385930Z"
    }
   },
   "outputs": [],
   "source": [
    "# np.save('../experimental_data/method_5/test_loss_5',test_loss_5)\n",
    "# np.save('../experimental_data/method_5/loss_all_5',loss_all_5)\n",
    "# torch.save(PINNs5,'../saved_model/PINNs5')"
   ]
  },
  {
   "cell_type": "markdown",
   "metadata": {},
   "source": [
    "## Epoch and NRMSE"
   ]
  },
  {
   "cell_type": "code",
   "execution_count": null,
   "metadata": {
    "ExecuteTime": {
     "end_time": "2024-10-28T12:28:15.695200Z",
     "start_time": "2024-10-28T12:28:15.634724Z"
    }
   },
   "outputs": [],
   "source": [
    "Epochs = len(test_loss_5)\n",
    "NRMSE = relative_l2(PINNs5(test_data).detach().numpy(),test_u)\n",
    "\n",
    "print('Epochs:',Epochs,'NRMSE:',NRMSE)"
   ]
  },
  {
   "cell_type": "code",
   "execution_count": null,
   "metadata": {},
   "outputs": [],
   "source": []
  },
  {
   "cell_type": "code",
   "execution_count": null,
   "metadata": {},
   "outputs": [],
   "source": []
  }
 ],
 "metadata": {
  "kernelspec": {
   "display_name": "GA-PINNs",
   "language": "python",
   "name": "gapings"
  },
  "language_info": {
   "codemirror_mode": {
    "name": "ipython",
    "version": 3
   },
   "file_extension": ".py",
   "mimetype": "text/x-python",
   "name": "python",
   "nbconvert_exporter": "python",
   "pygments_lexer": "ipython3",
   "version": "3.7.12"
  },
  "toc": {
   "base_numbering": 1,
   "nav_menu": {},
   "number_sections": true,
   "sideBar": true,
   "skip_h1_title": false,
   "title_cell": "Table of Contents",
   "title_sidebar": "Contents",
   "toc_cell": false,
   "toc_position": {
    "height": "calc(100% - 180px)",
    "left": "10px",
    "top": "150px",
    "width": "294px"
   },
   "toc_section_display": true,
   "toc_window_display": false
  },
  "varInspector": {
   "cols": {
    "lenName": 16,
    "lenType": 16,
    "lenVar": 40
   },
   "kernels_config": {
    "python": {
     "delete_cmd_postfix": "",
     "delete_cmd_prefix": "del ",
     "library": "var_list.py",
     "varRefreshCmd": "print(var_dic_list())"
    },
    "r": {
     "delete_cmd_postfix": ") ",
     "delete_cmd_prefix": "rm(",
     "library": "var_list.r",
     "varRefreshCmd": "cat(var_dic_list()) "
    }
   },
   "types_to_exclude": [
    "module",
    "function",
    "builtin_function_or_method",
    "instance",
    "_Feature"
   ],
   "window_display": false
  }
 },
 "nbformat": 4,
 "nbformat_minor": 2
}
