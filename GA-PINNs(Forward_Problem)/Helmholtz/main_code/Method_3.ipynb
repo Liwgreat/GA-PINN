{
 "cells": [
  {
   "cell_type": "code",
   "execution_count": null,
   "metadata": {
    "ExecuteTime": {
     "end_time": "2024-10-28T14:02:03.048254Z",
     "start_time": "2024-10-28T14:02:01.669152Z"
    }
   },
   "outputs": [],
   "source": [
    "import numpy as np\n",
    "import torch\n",
    "from torch import nn, optim, autograd\n",
    "from torch.nn import functional as F\n",
    "from pyDOE import lhs\n",
    "import scipy.io\n",
    "import matplotlib.pyplot as plt\n",
    "import matplotlib as mpl\n",
    "import matplotlib.gridspec as gridspec\n",
    "%matplotlib inline\n",
    "from mpl_toolkits.axes_grid1 import make_axes_locatable\n",
    "\n",
    "from models_all import *\n",
    "\n",
    "#Paper reproduction\n",
    "torch.manual_seed(1234)\n",
    "torch.cuda.manual_seed(1234)\n",
    "np.random.seed(1234)"
   ]
  },
  {
   "cell_type": "markdown",
   "metadata": {},
   "source": [
    "# Data For PINNs"
   ]
  },
  {
   "cell_type": "code",
   "execution_count": null,
   "metadata": {
    "ExecuteTime": {
     "end_time": "2024-10-28T14:02:03.057154Z",
     "start_time": "2024-10-28T14:02:03.050836Z"
    }
   },
   "outputs": [],
   "source": [
    "N_train = 20000\n",
    "N_bound = 200\n",
    "\n",
    "np.random.seed(2345)\n",
    "X_train = np.random.uniform(0,1,(N_train,2))\n",
    "X_bound_zero_one = np.concatenate((np.zeros((int(N_bound/4),1)),np.ones((int(N_bound/4),1))),0)\n",
    "np.random.seed(3456)\n",
    "X_bound1 = np.concatenate((np.random.uniform(0,1,(int(N_bound/2),1)),X_bound_zero_one),1)\n",
    "np.random.seed(5678)\n",
    "X_bound2 = np.concatenate((X_bound_zero_one,np.random.uniform(0,1,(int(N_bound/2),1))),1)\n",
    "\n",
    "X_bound = np.concatenate((X_bound1,X_bound2),0)"
   ]
  },
  {
   "cell_type": "code",
   "execution_count": null,
   "metadata": {
    "ExecuteTime": {
     "end_time": "2024-10-28T14:02:03.067636Z",
     "start_time": "2024-10-28T14:02:03.059869Z"
    }
   },
   "outputs": [],
   "source": [
    "#x,t  #u,v\n",
    "X_train = torch.from_numpy(X_train).float()\n",
    "X_bound = torch.from_numpy(X_bound).float()\n",
    "x = X_train[:,0:1]\n",
    "t = X_train[:,1:2]"
   ]
  },
  {
   "cell_type": "markdown",
   "metadata": {},
   "source": [
    "### Labeled Data"
   ]
  },
  {
   "cell_type": "code",
   "execution_count": null,
   "metadata": {
    "ExecuteTime": {
     "end_time": "2024-10-28T14:02:03.073350Z",
     "start_time": "2024-10-28T14:02:03.069669Z"
    }
   },
   "outputs": [],
   "source": [
    "np.random.seed(1234)\n",
    "k = 5\n",
    "gan_data_x_t = lhs(2,3)\n",
    "gan_data_x_t = torch.from_numpy(gan_data_x_t).float()\n",
    "gan_data_u = torch.sin(k*gan_data_x_t[:,0:1])"
   ]
  },
  {
   "cell_type": "markdown",
   "metadata": {},
   "source": [
    "### The Image With  Labeled Data"
   ]
  },
  {
   "cell_type": "code",
   "execution_count": null,
   "metadata": {
    "ExecuteTime": {
     "end_time": "2024-10-28T14:02:03.238494Z",
     "start_time": "2024-10-28T14:02:03.075540Z"
    }
   },
   "outputs": [],
   "source": [
    "traindata = np.concatenate((np.linspace(0,1,200).reshape(-1,1),np.linspace(0,1,200).reshape(-1,1)),1)\n",
    "x_ = traindata[:,0:1]\n",
    "y_ = traindata[:,1:2]\n",
    "xx,yy = np.meshgrid(x_,y_)\n",
    "data_numpy = np.concatenate((xx.reshape(-1,1),yy.reshape(-1,1)),1)\n",
    "data_tensor = torch.from_numpy(data_numpy).float()\n",
    "aa = torch.sin(k*data_tensor[:,0:1])\n",
    "\n",
    "fig, ax = plt.subplots()\n",
    "gs0 = gridspec.GridSpec(1, 2)\n",
    "gs0.update(top=1-0.06, bottom=1-1/3, left=0.15, right=0.85, wspace=0)\n",
    "ax = plt.subplot(gs0[:, :])\n",
    "ax.plot(gan_data_x_t[:,0:1], gan_data_x_t[:,1:2],  'kx',alpha=1,markersize = 4)\n",
    "h = ax.imshow(aa.reshape(200,200), interpolation='nearest', cmap='rainbow',  extent=[0, 1, -1, 1],\n",
    "            origin='lower', aspect='auto')\n",
    "divider = make_axes_locatable(ax)\n",
    "cax = divider.append_axes(\"right\", size=\"5%\", pad=0.05)\n",
    "fig.colorbar(h, cax=cax)\n",
    "plt.show()"
   ]
  },
  {
   "cell_type": "markdown",
   "metadata": {},
   "source": [
    "# Test Data"
   ]
  },
  {
   "cell_type": "code",
   "execution_count": null,
   "metadata": {
    "ExecuteTime": {
     "end_time": "2024-10-28T14:02:03.252500Z",
     "start_time": "2024-10-28T14:02:03.247567Z"
    }
   },
   "outputs": [],
   "source": [
    "np.random.seed(123)\n",
    "test_x = torch.from_numpy(lhs(2,2000)).float()"
   ]
  },
  {
   "cell_type": "code",
   "execution_count": null,
   "metadata": {
    "ExecuteTime": {
     "end_time": "2024-10-28T14:02:03.257699Z",
     "start_time": "2024-10-28T14:02:03.254314Z"
    }
   },
   "outputs": [],
   "source": [
    "test_u = np.sin(k*test_x[:,0:1].numpy())"
   ]
  },
  {
   "cell_type": "markdown",
   "metadata": {},
   "source": [
    "# Method3\n",
    "$\\text { PINN }^{\\dagger}$\n",
    "\n",
    "<div class=\"alert alert-info\">`loss_function：`\n",
    "\n",
    "$\\overline{\\mathrm{L}}_{\\text {PINN }} =\\mathrm{L}_{\\text {PINN }}+\\lambda_2\\mathrm{L}_T$\n",
    "\n",
    "\n",
    "\n",
    "</div>"
   ]
  },
  {
   "cell_type": "code",
   "execution_count": null,
   "metadata": {
    "ExecuteTime": {
     "end_time": "2024-10-28T14:03:10.623619Z",
     "start_time": "2024-10-28T14:02:03.260901Z"
    },
    "scrolled": true
   },
   "outputs": [],
   "source": [
    "torch.manual_seed(1234)\n",
    "torch.cuda.manual_seed(1234)\n",
    "np.random.seed(1234)\n",
    "\n",
    "\n",
    "PINNs3 = NN_H2(2, 100, 4, 1)\n",
    "PINNs3.apply(weights_init)\n",
    "optimizer1 = optim.Adam([{'params': PINNs3.parameters()}], lr=1e-3)\n",
    "nIter2 = 3000\n",
    "\n",
    "k=5\n",
    "\n",
    "x.requires_grad_()\n",
    "t.requires_grad_()\n",
    "\n",
    "###########GPU###########\n",
    "gan_data_x_t = gan_data_x_t.cuda()\n",
    "gan_data_u = gan_data_u.cuda()\n",
    "real_bound = torch.sin(k*X_bound[:,0:1])\n",
    "real_bound = real_bound.cuda()\n",
    "X_bound = X_bound.cuda()\n",
    "x = x.cuda()\n",
    "t = t.cuda()\n",
    "###########GPU###########\n",
    "\n",
    "\n",
    "loss_all_3 = []\n",
    "test_loss_3 = []\n",
    "\n",
    "loss1_value = 1\n",
    "it = 0\n",
    "while loss1_value > 1e-2 :\n",
    "    PINNs3.cuda()\n",
    "    \n",
    "    \n",
    "    ##### loss_Bi  ######\n",
    "    E_bound = PINNs3(X_bound)\n",
    "    \n",
    "    loss_bound = torch.mean(torch.square(E_bound-real_bound))\n",
    "    \n",
    "    \n",
    "    ##### loss f  ######\n",
    "    \n",
    "    E_inside = PINNs3(torch.cat((x,t),1))\n",
    "    E_x = autograd.grad(outputs=E_inside, inputs=x,\n",
    "                              grad_outputs=torch.ones_like(E_inside),\n",
    "                              create_graph=True, retain_graph=True, only_inputs=True)[0]\n",
    "    E_xx = autograd.grad(outputs=E_x, inputs=x,\n",
    "                              grad_outputs=torch.ones_like(E_x),\n",
    "                              create_graph=True, retain_graph=True, only_inputs=True)[0]\n",
    "    E_t = autograd.grad(outputs=E_inside, inputs=t,\n",
    "                              grad_outputs=torch.ones_like(E_inside),\n",
    "                              create_graph=True, retain_graph=True, only_inputs=True)[0]\n",
    "    E_tt = autograd.grad(outputs=E_t, inputs=t,\n",
    "                              grad_outputs=torch.ones_like(E_t),\n",
    "                              create_graph=True, retain_graph=True, only_inputs=True)[0]       \n",
    "    deata_E = E_xx+E_tt\n",
    "    loss_f = torch.mean(torch.square(deata_E+k*k*E_inside))\n",
    "     \n",
    "\n",
    "    loss = 20*loss_bound+loss_f\n",
    "    \n",
    "    pre_H = PINNs3(gan_data_x_t)\n",
    "    loss_p = loss+1*torch.mean(torch.square(pre_H - gan_data_u))\n",
    "    \n",
    "    loss_all_3.append(loss.item())\n",
    "    \n",
    "    loss1_value = loss.item()\n",
    "    optimizer1.zero_grad()\n",
    "    loss_p.backward()\n",
    "    optimizer1.step()\n",
    "    \n",
    "    #########  test_loss NRMSE  #########\n",
    "    PINNs3.cpu()\n",
    "    e1 = relative_l2(PINNs3(test_x).detach().numpy(),test_u)\n",
    "    test_loss_3.append(e1)\n",
    "    \n",
    "    \n",
    "    if it % 100 == 0:\n",
    "        print('It:', it, 'Loss:', loss.item())\n",
    "    it = it + 1        \n",
    "loss1_value    "
   ]
  },
  {
   "cell_type": "code",
   "execution_count": null,
   "metadata": {},
   "outputs": [],
   "source": []
  },
  {
   "cell_type": "markdown",
   "metadata": {},
   "source": [
    "# Results"
   ]
  },
  {
   "cell_type": "markdown",
   "metadata": {},
   "source": [
    "## Save data"
   ]
  },
  {
   "cell_type": "code",
   "execution_count": null,
   "metadata": {
    "ExecuteTime": {
     "end_time": "2024-10-28T14:30:28.599744Z",
     "start_time": "2024-10-28T14:30:28.594691Z"
    }
   },
   "outputs": [],
   "source": [
    "# np.save('../experimental_data/method_3/test_loss_3',test_loss_3)\n",
    "# np.save('../experimental_data/method_3/loss_all_3',loss_all_3)\n",
    "#torch.save(PINNs3,'../saved_model/PINNs3')"
   ]
  },
  {
   "cell_type": "markdown",
   "metadata": {},
   "source": [
    "## Epoch and NRMSE"
   ]
  },
  {
   "cell_type": "code",
   "execution_count": null,
   "metadata": {
    "ExecuteTime": {
     "end_time": "2024-10-28T14:30:28.946514Z",
     "start_time": "2024-10-28T14:30:28.886454Z"
    }
   },
   "outputs": [],
   "source": [
    "Epochs = len(test_loss_3)\n",
    "NRMSE = relative_l2(PINNs3(test_x).detach().numpy(),test_u)\n",
    "\n",
    "print('Epochs:',Epochs,'NRMSE:',NRMSE)"
   ]
  },
  {
   "cell_type": "code",
   "execution_count": null,
   "metadata": {},
   "outputs": [],
   "source": []
  },
  {
   "cell_type": "code",
   "execution_count": null,
   "metadata": {},
   "outputs": [],
   "source": []
  },
  {
   "cell_type": "code",
   "execution_count": null,
   "metadata": {},
   "outputs": [],
   "source": []
  }
 ],
 "metadata": {
  "kernelspec": {
   "display_name": "GA-PINNs",
   "language": "python",
   "name": "gapings"
  },
  "language_info": {
   "codemirror_mode": {
    "name": "ipython",
    "version": 3
   },
   "file_extension": ".py",
   "mimetype": "text/x-python",
   "name": "python",
   "nbconvert_exporter": "python",
   "pygments_lexer": "ipython3",
   "version": "3.7.12"
  },
  "toc": {
   "base_numbering": 1,
   "nav_menu": {},
   "number_sections": true,
   "sideBar": true,
   "skip_h1_title": false,
   "title_cell": "Table of Contents",
   "title_sidebar": "Contents",
   "toc_cell": false,
   "toc_position": {
    "height": "calc(100% - 180px)",
    "left": "10px",
    "top": "150px",
    "width": "234px"
   },
   "toc_section_display": true,
   "toc_window_display": false
  },
  "varInspector": {
   "cols": {
    "lenName": 16,
    "lenType": 16,
    "lenVar": 40
   },
   "kernels_config": {
    "python": {
     "delete_cmd_postfix": "",
     "delete_cmd_prefix": "del ",
     "library": "var_list.py",
     "varRefreshCmd": "print(var_dic_list())"
    },
    "r": {
     "delete_cmd_postfix": ") ",
     "delete_cmd_prefix": "rm(",
     "library": "var_list.r",
     "varRefreshCmd": "cat(var_dic_list()) "
    }
   },
   "types_to_exclude": [
    "module",
    "function",
    "builtin_function_or_method",
    "instance",
    "_Feature"
   ],
   "window_display": false
  }
 },
 "nbformat": 4,
 "nbformat_minor": 2
}
