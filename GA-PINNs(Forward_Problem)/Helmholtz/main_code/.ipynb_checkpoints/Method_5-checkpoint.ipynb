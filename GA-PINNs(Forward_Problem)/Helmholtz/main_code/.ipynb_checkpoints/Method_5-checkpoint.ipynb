{
 "cells": [
  {
   "cell_type": "markdown",
   "metadata": {},
   "source": [
    "$\\begin{aligned} \\Delta E+k^{2} E &=0 \\quad \\text { in } \\Omega \\\\ E &=E_{w} \\quad \\text { on } \\partial \\Omega \\end{aligned}$"
   ]
  },
  {
   "cell_type": "code",
   "execution_count": null,
   "metadata": {
    "ExecuteTime": {
     "end_time": "2024-10-28T14:19:20.078225Z",
     "start_time": "2024-10-28T14:19:18.673038Z"
    }
   },
   "outputs": [],
   "source": [
    "import numpy as np\n",
    "import torch\n",
    "from torch import nn, optim, autograd\n",
    "from torch.nn import functional as F\n",
    "from pyDOE import lhs\n",
    "import scipy.io\n",
    "import matplotlib.pyplot as plt\n",
    "import matplotlib as mpl\n",
    "import matplotlib.gridspec as gridspec\n",
    "%matplotlib inline\n",
    "from mpl_toolkits.axes_grid1 import make_axes_locatable\n",
    "\n",
    "from models_all import *\n",
    "\n",
    "#Paper reproduction\n",
    "torch.manual_seed(1234)\n",
    "torch.cuda.manual_seed(1234)\n",
    "np.random.seed(1234)"
   ]
  },
  {
   "cell_type": "markdown",
   "metadata": {},
   "source": [
    "# Data For PINNs"
   ]
  },
  {
   "cell_type": "code",
   "execution_count": null,
   "metadata": {
    "ExecuteTime": {
     "end_time": "2024-10-28T14:19:20.086800Z",
     "start_time": "2024-10-28T14:19:20.080959Z"
    }
   },
   "outputs": [],
   "source": [
    "N_train = 20000\n",
    "N_bound = 200\n",
    "\n",
    "np.random.seed(2345)\n",
    "X_train = np.random.uniform(0,1,(N_train,2))\n",
    "X_bound_zero_one = np.concatenate((np.zeros((int(N_bound/4),1)),np.ones((int(N_bound/4),1))),0)\n",
    "np.random.seed(3456)\n",
    "X_bound1 = np.concatenate((np.random.uniform(0,1,(int(N_bound/2),1)),X_bound_zero_one),1)\n",
    "np.random.seed(5678)\n",
    "X_bound2 = np.concatenate((X_bound_zero_one,np.random.uniform(0,1,(int(N_bound/2),1))),1)\n",
    "\n",
    "X_bound = np.concatenate((X_bound1,X_bound2),0)"
   ]
  },
  {
   "cell_type": "code",
   "execution_count": null,
   "metadata": {
    "ExecuteTime": {
     "end_time": "2024-10-28T14:19:20.118246Z",
     "start_time": "2024-10-28T14:19:20.088431Z"
    }
   },
   "outputs": [],
   "source": [
    "#x,t  #u,v\n",
    "X_train = torch.from_numpy(X_train).float()\n",
    "X_bound = torch.from_numpy(X_bound).float()\n",
    "x = X_train[:,0:1]\n",
    "t = X_train[:,1:2]"
   ]
  },
  {
   "cell_type": "markdown",
   "metadata": {},
   "source": [
    "### Labeled Data"
   ]
  },
  {
   "cell_type": "code",
   "execution_count": null,
   "metadata": {
    "ExecuteTime": {
     "end_time": "2024-10-28T14:19:20.127897Z",
     "start_time": "2024-10-28T14:19:20.121998Z"
    }
   },
   "outputs": [],
   "source": [
    "np.random.seed(1234)\n",
    "k = 5\n",
    "gan_data_x_t = lhs(2,3)\n",
    "gan_data_x_t = torch.from_numpy(gan_data_x_t).float()\n",
    "gan_data_u = torch.sin(k*gan_data_x_t[:,0:1])"
   ]
  },
  {
   "cell_type": "markdown",
   "metadata": {},
   "source": [
    "### The Image With  Labeled Data"
   ]
  },
  {
   "cell_type": "code",
   "execution_count": null,
   "metadata": {
    "ExecuteTime": {
     "end_time": "2024-10-28T14:19:20.291004Z",
     "start_time": "2024-10-28T14:19:20.130143Z"
    }
   },
   "outputs": [],
   "source": [
    "traindata = np.concatenate((np.linspace(0,1,200).reshape(-1,1),np.linspace(0,1,200).reshape(-1,1)),1)\n",
    "x_ = traindata[:,0:1]\n",
    "y_ = traindata[:,1:2]\n",
    "xx,yy = np.meshgrid(x_,y_)\n",
    "data_numpy = np.concatenate((xx.reshape(-1,1),yy.reshape(-1,1)),1)\n",
    "data_tensor = torch.from_numpy(data_numpy).float()\n",
    "aa = torch.sin(k*data_tensor[:,0:1])\n",
    "\n",
    "fig, ax = plt.subplots()\n",
    "gs0 = gridspec.GridSpec(1, 2)\n",
    "gs0.update(top=1-0.06, bottom=1-1/3, left=0.15, right=0.85, wspace=0)\n",
    "ax = plt.subplot(gs0[:, :])\n",
    "ax.plot(gan_data_x_t[:,0:1], gan_data_x_t[:,1:2],  'kx',alpha=1,markersize = 4)\n",
    "h = ax.imshow(aa.reshape(200,200), interpolation='nearest', cmap='rainbow',  extent=[0, 1, -1, 1],\n",
    "            origin='lower', aspect='auto')\n",
    "divider = make_axes_locatable(ax)\n",
    "cax = divider.append_axes(\"right\", size=\"5%\", pad=0.05)\n",
    "fig.colorbar(h, cax=cax)\n",
    "plt.show()"
   ]
  },
  {
   "cell_type": "markdown",
   "metadata": {},
   "source": [
    "# Test Data"
   ]
  },
  {
   "cell_type": "code",
   "execution_count": null,
   "metadata": {
    "ExecuteTime": {
     "end_time": "2024-10-28T14:19:20.311251Z",
     "start_time": "2024-10-28T14:19:20.303929Z"
    }
   },
   "outputs": [],
   "source": [
    "\n",
    "np.random.seed(123)\n",
    "test_x = torch.from_numpy(lhs(2,2000)).float()"
   ]
  },
  {
   "cell_type": "code",
   "execution_count": null,
   "metadata": {
    "ExecuteTime": {
     "end_time": "2024-10-28T14:19:20.316844Z",
     "start_time": "2024-10-28T14:19:20.313364Z"
    }
   },
   "outputs": [],
   "source": [
    "test_u = np.sin(k*test_x[:,0:1].numpy())"
   ]
  },
  {
   "cell_type": "markdown",
   "metadata": {},
   "source": [
    "# Method5 \n",
    "$\\text { GA - PINN* }$\n",
    "<div class=\"alert alert-info\">`loss_function：`<br>\n",
    "`Pre_training：`<br>\n",
    "$\n",
    "\\overline{\\mathrm{L}}_{\\text {PINN }} =\\mathrm{L}_{\\text {PINN }}+\\lambda_2\\mathrm{L}_T\n",
    "$\n",
    "<br>\n",
    "`Follow-up training：`<br>\n",
    "$\n",
    "\\mathrm{L}_D=\\frac{1}{J} \\sum_{j=1}^J\\left(1-D\\left[\\left(\\mathbf{x}_T^{(j)}, u_T^{(j)}\\right)\\right]\\right)+D\\left[\\left(x_L^{(j)}, G\\left[x_L^{(j)}\\right]\\right)\\right] \\\\\n",
    "\\mathrm{L}_G=\\mathrm{L}_T+\\frac{1}{J} \\sum_{j=1}^J\\left(1-D\\left[\\left(x_T^{(j)}, G\\left[x_T^{(j)}\\right]\\right)\\right]\\right)\\\\\n",
    "\\overline{\\mathrm{L}}_{\\text {PINN }} =\\mathrm{L}_{\\text {PINN }}+\\lambda_2\\mathrm{L}_T$\n",
    "\n",
    "</div>"
   ]
  },
  {
   "cell_type": "code",
   "execution_count": null,
   "metadata": {
    "ExecuteTime": {
     "end_time": "2024-10-28T14:19:40.345097Z",
     "start_time": "2024-10-28T14:19:20.318837Z"
    }
   },
   "outputs": [],
   "source": [
    "torch.manual_seed(1234)\n",
    "torch.cuda.manual_seed(1234)\n",
    "np.random.seed(1234)\n",
    "\n",
    "\n",
    "PINNs5 = NN_H2(2, 100, 4, 1)\n",
    "PINNs5.apply(weights_init)\n",
    "optimizer1 = optim.Adam([{'params': PINNs5.parameters()}], lr=1e-3)\n",
    "nIter2 = 3000\n",
    "\n",
    "k=5\n",
    "\n",
    "x.requires_grad_()\n",
    "t.requires_grad_()\n",
    "\n",
    "###########GPU###########\n",
    "gan_data_x_t = gan_data_x_t.cuda()\n",
    "gan_data_u = gan_data_u.cuda()\n",
    "real_bound = torch.sin(k*X_bound[:,0:1])\n",
    "real_bound = real_bound.cuda()\n",
    "X_bound = X_bound.cuda()\n",
    "x = x.cuda()\n",
    "t = t.cuda()\n",
    "###########GPU###########\n",
    "\n",
    "\n",
    "discriminator = get_discriminator(3, 100, 1, 1)\n",
    "discriminator.apply(weights_init)\n",
    "discriminator.cuda()\n",
    "\n",
    "optimizer2 = optim.Adam([{'params': discriminator.parameters(), 'weight_decay': 0.001}], lr=5e-5)\n",
    "\n",
    "\n",
    "\n",
    "loss_all_5 = []\n",
    "test_loss_5 = []\n",
    "\n",
    "loss1_value = 1\n",
    "it = 0\n",
    "while loss1_value > 1e-2 and it<400 :\n",
    "    PINNs5.cuda()\n",
    "    \n",
    "    \n",
    "    ##### loss_Bi  ######\n",
    "    E_bound = PINNs5(X_bound)\n",
    "    \n",
    "    loss_bound = torch.mean(torch.square(E_bound-real_bound))\n",
    "    \n",
    "    \n",
    "    ##### loss f  ######\n",
    "    \n",
    "    E_inside = PINNs5(torch.cat((x,t),1))\n",
    "    E_x = autograd.grad(outputs=E_inside, inputs=x,\n",
    "                              grad_outputs=torch.ones_like(E_inside),\n",
    "                              create_graph=True, retain_graph=True, only_inputs=True)[0]\n",
    "    E_xx = autograd.grad(outputs=E_x, inputs=x,\n",
    "                              grad_outputs=torch.ones_like(E_x),\n",
    "                              create_graph=True, retain_graph=True, only_inputs=True)[0]\n",
    "    E_t = autograd.grad(outputs=E_inside, inputs=t,\n",
    "                              grad_outputs=torch.ones_like(E_inside),\n",
    "                              create_graph=True, retain_graph=True, only_inputs=True)[0]\n",
    "    E_tt = autograd.grad(outputs=E_t, inputs=t,\n",
    "                              grad_outputs=torch.ones_like(E_t),\n",
    "                              create_graph=True, retain_graph=True, only_inputs=True)[0]       \n",
    "    deata_E = E_xx+E_tt\n",
    "    loss_f = torch.mean(torch.square(deata_E+k*k*E_inside))\n",
    "     \n",
    "\n",
    "    loss = 20*loss_bound+loss_f\n",
    "    \n",
    "    pre_H = PINNs5(gan_data_x_t)\n",
    "    loss_p = loss+5*torch.mean(torch.square(pre_H - gan_data_u))\n",
    "    \n",
    "    loss_all_5.append(loss.item())\n",
    "    \n",
    "    loss1_value = loss.item()\n",
    "    optimizer1.zero_grad()\n",
    "    loss_p.backward()\n",
    "    optimizer1.step()\n",
    "    \n",
    "    #########  test_loss NRMSE  #########\n",
    "    PINNs5.cpu()\n",
    "    e1 = relative_l2(PINNs5(test_x).detach().numpy(),test_u)\n",
    "    test_loss_5.append(e1)\n",
    "    \n",
    "    \n",
    "    if it % 100 == 0:\n",
    "        print('It:', it, 'Loss:', loss.item())\n",
    "    it = it + 1        \n",
    "loss1_value    "
   ]
  },
  {
   "cell_type": "code",
   "execution_count": null,
   "metadata": {
    "ExecuteTime": {
     "end_time": "2024-10-28T14:21:38.377348Z",
     "start_time": "2024-10-28T14:19:40.349713Z"
    }
   },
   "outputs": [],
   "source": [
    "while loss1_value > 1e-2 :\n",
    "    PINNs5.cuda()\n",
    " \n",
    "    ##########loss D###########\n",
    "    pre_H = PINNs5(gan_data_x_t)\n",
    "    d_fake = discriminator(torch.cat((gan_data_x_t,pre_H.detach()),1))\n",
    "    d_real = discriminator(torch.cat((gan_data_x_t,gan_data_u),1))\n",
    "    \n",
    "    loss_d = torch.mean(1-d_real)+torch.mean(d_fake)\n",
    "    \n",
    "    optimizer2.zero_grad()\n",
    "    loss_d .backward()\n",
    "    optimizer2.step()      \n",
    "    \n",
    "    ###########loss G###########\n",
    "    for param_group in optimizer1.param_groups:\n",
    "        param_group[\"lr\"]=1e-5\n",
    "    pre_H = PINNs5(gan_data_x_t)\n",
    "    d_fake = discriminator(torch.cat((gan_data_x_t,pre_H.detach()),1))\n",
    "    loss_g = (torch.mean(1-d_fake)+torch.mean(torch.square(pre_H - gan_data_u)))\n",
    "    \n",
    "    optimizer1.zero_grad()\n",
    "    loss_g.backward()\n",
    "    optimizer1.step()\n",
    "\n",
    "    ###########loss PINN#########\n",
    "    for param_group in optimizer1.param_groups:\n",
    "        param_group[\"lr\"]=1e-3\n",
    "        \n",
    "    ##### loss_Bi  ######\n",
    "    E_bound = PINNs5(X_bound)\n",
    "    \n",
    "    loss_bound = torch.mean(torch.square(E_bound-real_bound))\n",
    "    \n",
    "    \n",
    "    ##### loss f  ######\n",
    "    \n",
    "    E_inside = PINNs5(torch.cat((x,t),1))\n",
    "    E_x = autograd.grad(outputs=E_inside, inputs=x,\n",
    "                              grad_outputs=torch.ones_like(E_inside),\n",
    "                              create_graph=True, retain_graph=True, only_inputs=True)[0]\n",
    "    E_xx = autograd.grad(outputs=E_x, inputs=x,\n",
    "                              grad_outputs=torch.ones_like(E_x),\n",
    "                              create_graph=True, retain_graph=True, only_inputs=True)[0]\n",
    "    E_t = autograd.grad(outputs=E_inside, inputs=t,\n",
    "                              grad_outputs=torch.ones_like(E_inside),\n",
    "                              create_graph=True, retain_graph=True, only_inputs=True)[0]\n",
    "    E_tt = autograd.grad(outputs=E_t, inputs=t,\n",
    "                              grad_outputs=torch.ones_like(E_t),\n",
    "                              create_graph=True, retain_graph=True, only_inputs=True)[0]       \n",
    "    deata_E = E_xx+E_tt\n",
    "    loss_f = torch.mean(torch.square(deata_E+k*k*E_inside))\n",
    "     \n",
    "\n",
    "    loss = 20*loss_bound+loss_f\n",
    "    pre_H = PINNs5(gan_data_x_t)\n",
    "    loss_p = loss+5*torch.mean(torch.square(pre_H - gan_data_u))    \n",
    "    \n",
    "    \n",
    "    loss_real = loss\n",
    "    \n",
    "    loss_all_5.append(loss_real.item())\n",
    "    \n",
    "    loss1_value = loss_real.item()\n",
    "    optimizer1.zero_grad()\n",
    "    loss_p.backward()\n",
    "    optimizer1.step()\n",
    "    \n",
    "    #########  test_loss NRMSE  #########\n",
    "    PINNs5.cpu()\n",
    "    e1 = relative_l2(PINNs5(test_x).detach().numpy(),test_u)\n",
    "    test_loss_5.append(e1)\n",
    "    \n",
    "\n",
    "    if it % 100 == 0:\n",
    "        print('It:', it, 'Loss:', loss_real.item())\n",
    "    it = it + 1        \n",
    "loss1_value    "
   ]
  },
  {
   "cell_type": "code",
   "execution_count": null,
   "metadata": {},
   "outputs": [],
   "source": []
  },
  {
   "cell_type": "markdown",
   "metadata": {},
   "source": [
    "# Results"
   ]
  },
  {
   "cell_type": "markdown",
   "metadata": {},
   "source": [
    "## Save data"
   ]
  },
  {
   "cell_type": "code",
   "execution_count": null,
   "metadata": {
    "ExecuteTime": {
     "end_time": "2024-10-28T14:32:33.247296Z",
     "start_time": "2024-10-28T14:32:33.242184Z"
    }
   },
   "outputs": [],
   "source": [
    "# np.save('../experimental_data/method_5/test_loss_5',test_loss_5)\n",
    "# np.save('../experimental_data/method_5/loss_all_5',loss_all_5)\n",
    "#torch.save(PINNs5,'../saved_model/PINNs5')"
   ]
  },
  {
   "cell_type": "markdown",
   "metadata": {},
   "source": [
    "## Epoch and NRMSE"
   ]
  },
  {
   "cell_type": "code",
   "execution_count": null,
   "metadata": {
    "ExecuteTime": {
     "end_time": "2024-10-28T14:32:33.581412Z",
     "start_time": "2024-10-28T14:32:33.523359Z"
    }
   },
   "outputs": [],
   "source": [
    "Epochs = len(test_loss_5)\n",
    "NRMSE = relative_l2(PINNs5(test_x).detach().numpy(),test_u)\n",
    "\n",
    "print('Epochs:',Epochs,'NRMSE:',NRMSE)"
   ]
  },
  {
   "cell_type": "code",
   "execution_count": null,
   "metadata": {},
   "outputs": [],
   "source": []
  },
  {
   "cell_type": "code",
   "execution_count": null,
   "metadata": {},
   "outputs": [],
   "source": []
  }
 ],
 "metadata": {
  "kernelspec": {
   "display_name": "GA-PINNs",
   "language": "python",
   "name": "gapings"
  },
  "language_info": {
   "codemirror_mode": {
    "name": "ipython",
    "version": 3
   },
   "file_extension": ".py",
   "mimetype": "text/x-python",
   "name": "python",
   "nbconvert_exporter": "python",
   "pygments_lexer": "ipython3",
   "version": "3.7.12"
  },
  "toc": {
   "base_numbering": 1,
   "nav_menu": {},
   "number_sections": true,
   "sideBar": true,
   "skip_h1_title": false,
   "title_cell": "Table of Contents",
   "title_sidebar": "Contents",
   "toc_cell": false,
   "toc_position": {
    "height": "calc(100% - 180px)",
    "left": "10px",
    "top": "150px",
    "width": "234px"
   },
   "toc_section_display": true,
   "toc_window_display": false
  },
  "varInspector": {
   "cols": {
    "lenName": 16,
    "lenType": 16,
    "lenVar": 40
   },
   "kernels_config": {
    "python": {
     "delete_cmd_postfix": "",
     "delete_cmd_prefix": "del ",
     "library": "var_list.py",
     "varRefreshCmd": "print(var_dic_list())"
    },
    "r": {
     "delete_cmd_postfix": ") ",
     "delete_cmd_prefix": "rm(",
     "library": "var_list.r",
     "varRefreshCmd": "cat(var_dic_list()) "
    }
   },
   "types_to_exclude": [
    "module",
    "function",
    "builtin_function_or_method",
    "instance",
    "_Feature"
   ],
   "window_display": false
  }
 },
 "nbformat": 4,
 "nbformat_minor": 2
}
