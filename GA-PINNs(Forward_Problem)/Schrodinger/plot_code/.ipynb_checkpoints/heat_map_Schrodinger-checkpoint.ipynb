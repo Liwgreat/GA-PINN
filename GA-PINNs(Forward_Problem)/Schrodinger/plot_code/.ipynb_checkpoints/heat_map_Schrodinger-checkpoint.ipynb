{
 "cells": [
  {
   "cell_type": "code",
   "execution_count": 1,
   "id": "6e38c1bc",
   "metadata": {
    "ExecuteTime": {
     "end_time": "2024-02-08T04:59:03.405098Z",
     "start_time": "2024-02-08T04:59:02.249636Z"
    }
   },
   "outputs": [],
   "source": [
    "import numpy as np\n",
    "import torch\n",
    "from torch import nn, optim, autograd\n",
    "from torch.nn import functional as F\n",
    "from pyDOE import lhs\n",
    "import scipy.io\n",
    "import matplotlib.pyplot as plt\n",
    "import matplotlib as mpl\n",
    "import matplotlib.gridspec as gridspec\n",
    "%matplotlib inline\n",
    "from mpl_toolkits.axes_grid1 import make_axes_locatable\n",
    "\n",
    "from models_all import *\n",
    "\n",
    "#Paper reproduction\n",
    "torch.manual_seed(1234)\n",
    "torch.cuda.manual_seed(1234)\n",
    "np.random.seed(1234)"
   ]
  },
  {
   "cell_type": "code",
   "execution_count": 2,
   "id": "1929dd28",
   "metadata": {
    "ExecuteTime": {
     "end_time": "2024-02-08T04:59:03.416820Z",
     "start_time": "2024-02-08T04:59:03.407561Z"
    }
   },
   "outputs": [],
   "source": [
    "PINNs1 = torch.load('../saved_model/PINNs1')\n",
    "PINNs2 = torch.load('../saved_model/PINNs2')\n",
    "PINNs3 = torch.load('../saved_model/PINNs3')\n",
    "PINNs4 = torch.load('../saved_model/PINNs4')\n",
    "PINNs5 = torch.load('../saved_model/PINNs5')"
   ]
  },
  {
   "cell_type": "code",
   "execution_count": 3,
   "id": "2ea44992",
   "metadata": {
    "ExecuteTime": {
     "end_time": "2024-02-08T04:59:03.445125Z",
     "start_time": "2024-02-08T04:59:03.419908Z"
    }
   },
   "outputs": [],
   "source": [
    "data = scipy.io.loadmat('./NLS.mat')\n",
    "\n",
    "t = data['tt'].flatten()[:,None]\n",
    "x = data['x'].flatten()[:,None]\n",
    "Exact = data['uu']\n",
    "Exact_u = np.real(Exact)\n",
    "Exact_v = np.imag(Exact)\n",
    "Exact_h = np.sqrt(Exact_u**2 + Exact_v**2)\n",
    "\n",
    "X, T = np.meshgrid(x,t)\n",
    "\n",
    "X_star = np.hstack((T.flatten()[:,None], X.flatten()[:,None]))\n",
    "u_star = Exact_u.T.flatten()[:,None]\n",
    "v_star = Exact_v.T.flatten()[:,None]\n",
    "h_star = Exact_h.T.flatten()[:,None]\n",
    "X_star = torch.from_numpy(X_star).float()"
   ]
  },
  {
   "cell_type": "code",
   "execution_count": 4,
   "id": "05a96dd5",
   "metadata": {
    "ExecuteTime": {
     "end_time": "2024-02-08T04:59:03.746345Z",
     "start_time": "2024-02-08T04:59:03.447610Z"
    }
   },
   "outputs": [],
   "source": [
    "aa = np.sqrt(PINNs1(X_star).detach().numpy()[:,0:1]**2 + PINNs1(X_star).detach().numpy()[:,1:2]**2)\n",
    "e1 = np.square(aa-h_star)\n",
    "\n",
    "aa = np.sqrt(PINNs2(X_star).detach().numpy()[:,0:1]**2 + PINNs2(X_star).detach().numpy()[:,1:2]**2)\n",
    "e2 = np.square(aa-h_star)\n",
    "\n",
    "aa = np.sqrt(PINNs3(X_star).detach().numpy()[:,0:1]**2 + PINNs3(X_star).detach().numpy()[:,1:2]**2)\n",
    "e3 = np.square(aa-h_star)\n",
    "\n",
    "aa = np.sqrt(PINNs4(X_star).detach().numpy()[:,0:1]**2 + PINNs4(X_star).detach().numpy()[:,1:2]**2)\n",
    "e4 = np.square(aa-h_star)\n",
    "\n",
    "aa = np.sqrt(PINNs5(X_star).detach().numpy()[:,0:1]**2 + PINNs5(X_star).detach().numpy()[:,1:2]**2)\n",
    "e5 = np.square(aa-h_star)"
   ]
  },
  {
   "cell_type": "code",
   "execution_count": 5,
   "id": "343f63dd",
   "metadata": {
    "ExecuteTime": {
     "end_time": "2024-02-08T04:59:03.753465Z",
     "start_time": "2024-02-08T04:59:03.748924Z"
    }
   },
   "outputs": [],
   "source": [
    "e_values = [e1, e2, e3, e4, e5]\n",
    "vmin=np.min(e_values)\n",
    "vmax=np.max(e_values)"
   ]
  },
  {
   "cell_type": "code",
   "execution_count": 6,
   "id": "d6d6a50a",
   "metadata": {
    "ExecuteTime": {
     "end_time": "2024-02-08T04:59:03.759381Z",
     "start_time": "2024-02-08T04:59:03.755633Z"
    }
   },
   "outputs": [],
   "source": [
    "lb = np.array([-5.0, 0.0])\n",
    "ub = np.array([5.0, np.pi/2])"
   ]
  },
  {
   "cell_type": "code",
   "execution_count": 7,
   "id": "41023b91",
   "metadata": {
    "ExecuteTime": {
     "end_time": "2024-02-08T04:59:04.061104Z",
     "start_time": "2024-02-08T04:59:03.761368Z"
    }
   },
   "outputs": [
    {
     "data": {
      "image/png": "[encoded data removed]",
      "text/plain": [
       "<Figure size 640x480 with 1 Axes>"
      ]
     },
     "metadata": {},
     "output_type": "display_data"
    }
   ],
   "source": [
    "PINNs1.cpu()\n",
    "fig, ax = plt.subplots()\n",
    "gs0 = gridspec.GridSpec(1, 2)\n",
    "gs0.update(top=1-0.06, bottom=1-1/3, left=0.15, right=0.85, wspace=0)\n",
    "ax = plt.subplot(gs0[:, :])\n",
    "# ax.set_xlabel('$t$', fontsize = 14)\n",
    "# ax.set_ylabel('$x$', fontsize = 14)\n",
    "h = ax.imshow(e1.reshape(Exact_h.T.shape).T, interpolation='nearest',\n",
    "              extent=[lb[1], ub[1], lb[0], ub[0]], \n",
    "              origin='lower', aspect='auto', cmap='rainbow',vmin=vmin,\n",
    "vmax=vmax)\n",
    "\n",
    "# divider = make_axes_locatable(ax)\n",
    "# cax = divider.append_axes(\"right\", size=\"5%\", pad=0.05)\n",
    "# fig.colorbar(h, cax=cax)\n",
    "\n",
    "plt.savefig('../figures/Schrodinger_abs_loss_1.pdf',format='pdf',dpi=100, bbox_inches = 'tight')\n",
    "plt.show()"
   ]
  },
  {
   "cell_type": "code",
   "execution_count": 8,
   "id": "44396d00",
   "metadata": {
    "ExecuteTime": {
     "end_time": "2024-02-08T04:59:04.344355Z",
     "start_time": "2024-02-08T04:59:04.063912Z"
    }
   },
   "outputs": [
    {
     "data": {
      "image/png": "[encoded data removed]",
      "text/plain": [
       "<Figure size 640x480 with 1 Axes>"
      ]
     },
     "metadata": {},
     "output_type": "display_data"
    }
   ],
   "source": [
    "PINNs2.cpu()\n",
    "fig, ax = plt.subplots()\n",
    "gs0 = gridspec.GridSpec(1, 2)\n",
    "gs0.update(top=1-0.06, bottom=1-1/3, left=0.15, right=0.85, wspace=0)\n",
    "ax = plt.subplot(gs0[:, :])\n",
    "# ax.set_xlabel('$t$', fontsize = 14)\n",
    "# ax.set_ylabel('$x$', fontsize = 14)\n",
    "h = ax.imshow(e2.reshape(Exact_h.T.shape).T, interpolation='nearest',\n",
    "              extent=[lb[1], ub[1], lb[0], ub[0]], \n",
    "              origin='lower', aspect='auto', cmap='rainbow',vmin=vmin,\n",
    "vmax=vmax)\n",
    "# divider = make_axes_locatable(ax)\n",
    "# cax = divider.append_axes(\"right\", size=\"5%\", pad=0.05)\n",
    "# fig.colorbar(h, cax=cax)\n",
    "\n",
    "plt.savefig('../figures/Schrodinger_abs_loss_2.pdf',format='pdf',dpi=100, bbox_inches = 'tight')\n",
    "plt.show()"
   ]
  },
  {
   "cell_type": "code",
   "execution_count": 9,
   "id": "91cf64b8",
   "metadata": {
    "ExecuteTime": {
     "end_time": "2024-02-08T04:59:04.556128Z",
     "start_time": "2024-02-08T04:59:04.348861Z"
    }
   },
   "outputs": [
    {
     "data": {
      "image/png": "[encoded data removed]",
      "text/plain": [
       "<Figure size 640x480 with 1 Axes>"
      ]
     },
     "metadata": {},
     "output_type": "display_data"
    }
   ],
   "source": [
    "PINNs3.cpu()\n",
    "fig, ax = plt.subplots()\n",
    "gs0 = gridspec.GridSpec(1, 2)\n",
    "gs0.update(top=1-0.06, bottom=1-1/3, left=0.15, right=0.85, wspace=0)\n",
    "ax = plt.subplot(gs0[:, :])\n",
    "# ax.set_xlabel('$t$', fontsize = 14)\n",
    "# ax.set_ylabel('$x$', fontsize = 14)\n",
    "h = ax.imshow(e3.reshape(Exact_h.T.shape).T, interpolation='nearest',\n",
    "              extent=[lb[1], ub[1], lb[0], ub[0]], \n",
    "              origin='lower', aspect='auto', cmap='rainbow',vmin=vmin,\n",
    "vmax=vmax)\n",
    "# divider = make_axes_locatable(ax)\n",
    "# cax = divider.append_axes(\"right\", size=\"5%\", pad=0.05)\n",
    "# fig.colorbar(h, cax=cax)\n",
    "\n",
    "plt.savefig('../figures/Schrodinger_abs_loss_3.pdf',format='pdf',dpi=100, bbox_inches = 'tight')\n",
    "plt.show()"
   ]
  },
  {
   "cell_type": "code",
   "execution_count": 10,
   "id": "68a58475",
   "metadata": {
    "ExecuteTime": {
     "end_time": "2024-02-08T04:59:04.763872Z",
     "start_time": "2024-02-08T04:59:04.558775Z"
    }
   },
   "outputs": [
    {
     "data": {
      "image/png": "[encoded data removed]",
      "text/plain": [
       "<Figure size 640x480 with 1 Axes>"
      ]
     },
     "metadata": {},
     "output_type": "display_data"
    }
   ],
   "source": [
    "PINNs4.cpu()\n",
    "fig, ax = plt.subplots()\n",
    "gs0 = gridspec.GridSpec(1, 2)\n",
    "gs0.update(top=1-0.06, bottom=1-1/3, left=0.15, right=0.85, wspace=0)\n",
    "ax = plt.subplot(gs0[:, :])\n",
    "# ax.set_xlabel('$t$', fontsize = 14)\n",
    "# ax.set_ylabel('$x$', fontsize = 14)\n",
    "h = ax.imshow(e4.reshape(Exact_h.T.shape).T, interpolation='nearest',\n",
    "              extent=[lb[1], ub[1], lb[0], ub[0]], \n",
    "              origin='lower', aspect='auto', cmap='rainbow',vmin=vmin,\n",
    "vmax=vmax)\n",
    "# divider = make_axes_locatable(ax)\n",
    "# cax = divider.append_axes(\"right\", size=\"5%\", pad=0.05)\n",
    "# fig.colorbar(h, cax=cax)\n",
    "\n",
    "plt.savefig('../figures/Schrodinger_abs_loss_4.pdf',format='pdf',dpi=100, bbox_inches = 'tight')\n",
    "plt.show()"
   ]
  },
  {
   "cell_type": "code",
   "execution_count": 11,
   "id": "f4721927",
   "metadata": {
    "ExecuteTime": {
     "end_time": "2024-02-08T04:59:04.979193Z",
     "start_time": "2024-02-08T04:59:04.766521Z"
    }
   },
   "outputs": [
    {
     "data": {
      "image/png": "[encoded data removed]",
      "text/plain": [
       "<Figure size 640x480 with 1 Axes>"
      ]
     },
     "metadata": {},
     "output_type": "display_data"
    }
   ],
   "source": [
    "PINNs5.cpu()\n",
    "fig, ax = plt.subplots()\n",
    "gs0 = gridspec.GridSpec(1, 2)\n",
    "gs0.update(top=1-0.06, bottom=1-1/3, left=0.15, right=0.85, wspace=0)\n",
    "ax = plt.subplot(gs0[:, :])\n",
    "# ax.set_xlabel('$t$', fontsize = 14)\n",
    "# ax.set_ylabel('$x$', fontsize = 14)\n",
    "h = ax.imshow(e5.reshape(Exact_h.T.shape).T, interpolation='nearest',\n",
    "              extent=[lb[1], ub[1], lb[0], ub[0]], \n",
    "              origin='lower', aspect='auto', cmap='rainbow',vmin=vmin,\n",
    "vmax=vmax)\n",
    "# divider = make_axes_locatable(ax)\n",
    "# cax = divider.append_axes(\"right\", size=\"5%\", pad=0.05)\n",
    "# fig.colorbar(h, cax=cax)\n",
    "plt.savefig('../figures/Schrodinger_abs_loss_5.pdf',format='pdf',dpi=100, bbox_inches = 'tight')\n",
    "plt.show()"
   ]
  },
  {
   "cell_type": "code",
   "execution_count": 12,
   "id": "097b1a2a",
   "metadata": {
    "ExecuteTime": {
     "end_time": "2024-02-08T04:59:05.116705Z",
     "start_time": "2024-02-08T04:59:04.981849Z"
    }
   },
   "outputs": [
    {
     "data": {
      "image/png": "[encoded data removed]",
      "text/plain": [
       "<Figure size 640x480 with 2 Axes>"
      ]
     },
     "metadata": {},
     "output_type": "display_data"
    }
   ],
   "source": [
    "# 初始化画布和网格规格\n",
    "fig = plt.figure()\n",
    "gs0 = gridspec.GridSpec(1, 2)\n",
    "gs0.update(top=1-0.06, bottom=1-1/3, left=0.15, right=0.85, wspace=0)\n",
    "\n",
    "# 创建一个轴，但不用于显示图像\n",
    "ax = plt.subplot(gs0[:, :])\n",
    "ax.axis('off')  # 隐藏轴\n",
    "\n",
    "h = ax.imshow(e5.reshape(Exact_h.T.shape).T, interpolation='nearest',\n",
    "              extent=[lb[1], ub[1], lb[0], ub[0]], \n",
    "              origin='lower', aspect='auto', cmap='rainbow',vmin=vmin,\n",
    "vmax=vmax)\n",
    "\n",
    "h.set_visible(False)  # 隐藏图像\n",
    "\n",
    "\n",
    "# 添加颜色条\n",
    "divider = make_axes_locatable(ax)\n",
    "cax = divider.append_axes(\"right\", size=\"5%\", pad=0.05)\n",
    "cb = fig.colorbar(h, cax=cax)\n",
    "cb.ax.tick_params(labelsize=13)  # 设置颜色条刻度字体大小\n",
    "\n",
    "# 设置颜色条的刻度密集程度\n",
    "#ticks = np.linspace(vmin, vmax, num=3)  # 生成20个从vmin到vmax等间距的刻度值\n",
    "ticks = [0.004,0.003,0.002,0.001]\n",
    "cb.set_ticks(ticks)  # 设置颜色条的刻度\n",
    "cb.ax.tick_params(labelsize=13)  # 设置颜色条刻度字体大小\n",
    "\n",
    "# 保存图像\n",
    "plt.savefig('../figures/Schrodinger_abs_loss_bar.pdf', dpi=100, format='pdf', bbox_inches='tight')"
   ]
  },
  {
   "cell_type": "code",
   "execution_count": null,
   "id": "f42ffb6f",
   "metadata": {},
   "outputs": [],
   "source": []
  },
  {
   "cell_type": "code",
   "execution_count": null,
   "id": "2fdcb33e",
   "metadata": {},
   "outputs": [],
   "source": []
  }
 ],
 "metadata": {
  "kernelspec": {
   "display_name": "Python (deepxde)",
   "language": "python",
   "name": "test2"
  },
  "language_info": {
   "codemirror_mode": {
    "name": "ipython",
    "version": 3
   },
   "file_extension": ".py",
   "mimetype": "text/x-python",
   "name": "python",
   "nbconvert_exporter": "python",
   "pygments_lexer": "ipython3",
   "version": "3.7.12"
  },
  "toc": {
   "base_numbering": 1,
   "nav_menu": {},
   "number_sections": true,
   "sideBar": true,
   "skip_h1_title": false,
   "title_cell": "Table of Contents",
   "title_sidebar": "Contents",
   "toc_cell": false,
   "toc_position": {},
   "toc_section_display": true,
   "toc_window_display": false
  },
  "varInspector": {
   "cols": {
    "lenName": 16,
    "lenType": 16,
    "lenVar": 40
   },
   "kernels_config": {
    "python": {
     "delete_cmd_postfix": "",
     "delete_cmd_prefix": "del ",
     "library": "var_list.py",
     "varRefreshCmd": "print(var_dic_list())"
    },
    "r": {
     "delete_cmd_postfix": ") ",
     "delete_cmd_prefix": "rm(",
     "library": "var_list.r",
     "varRefreshCmd": "cat(var_dic_list()) "
    }
   },
   "types_to_exclude": [
    "module",
    "function",
    "builtin_function_or_method",
    "instance",
    "_Feature"
   ],
   "window_display": false
  }
 },
 "nbformat": 4,
 "nbformat_minor": 5
}
