{
 "cells": [
  {
   "cell_type": "markdown",
   "metadata": {},
   "source": [
    "$\n",
    "\\begin{aligned}\n",
    "&i h_{t}+0.5 h_{x x}+|h|^{2} h=0, \\quad x \\in[-5,5], \\quad t \\in[0, \\pi / 2] \\\\\n",
    "&h(0, x)=2 \\operatorname{sech}(x) \\\\\n",
    "&h(t,-5)=h(t, 5) \\\\\n",
    "&h_{x}(t,-5)=h_{x}(t, 5)\n",
    "\\end{aligned}\n",
    "$"
   ]
  },
  {
   "cell_type": "code",
   "execution_count": null,
   "metadata": {
    "ExecuteTime": {
     "end_time": "2024-03-07T04:22:58.301528Z",
     "start_time": "2024-03-07T04:22:57.134707Z"
    }
   },
   "outputs": [],
   "source": [
    "import numpy as np\n",
    "import torch\n",
    "from torch import nn, optim, autograd\n",
    "from torch.nn import functional as F\n",
    "from pyDOE import lhs\n",
    "import scipy.io\n",
    "import matplotlib.pyplot as plt\n",
    "import matplotlib as mpl\n",
    "import matplotlib.gridspec as gridspec\n",
    "%matplotlib inline\n",
    "from mpl_toolkits.axes_grid1 import make_axes_locatable\n",
    "\n",
    "from models_all import *\n",
    "\n",
    "#Paper reproduction\n",
    "torch.manual_seed(1234)\n",
    "torch.cuda.manual_seed(1234)\n",
    "np.random.seed(1234)"
   ]
  },
  {
   "cell_type": "markdown",
   "metadata": {},
   "source": [
    "# Training data"
   ]
  },
  {
   "cell_type": "code",
   "execution_count": null,
   "metadata": {
    "ExecuteTime": {
     "end_time": "2024-03-07T04:22:59.781044Z",
     "start_time": "2024-03-07T04:22:59.759667Z"
    }
   },
   "outputs": [],
   "source": [
    "data = scipy.io.loadmat('./NLS.mat')\n",
    "\n",
    "t = data['tt'].flatten()[:,None]\n",
    "x = data['x'].flatten()[:,None]\n",
    "Exact = data['uu']\n",
    "Exact_u = np.real(Exact)\n",
    "Exact_v = np.imag(Exact)\n",
    "Exact_h = np.sqrt(Exact_u**2 + Exact_v**2)\n",
    "\n",
    "X, T = np.meshgrid(x,t)\n",
    "\n",
    "X_star = np.hstack((T.flatten()[:,None], X.flatten()[:,None]))\n",
    "u_star = Exact_u.T.flatten()[:,None]\n",
    "v_star = Exact_v.T.flatten()[:,None]\n",
    "h_star = Exact_h.T.flatten()[:,None]"
   ]
  },
  {
   "cell_type": "code",
   "execution_count": null,
   "metadata": {
    "ExecuteTime": {
     "end_time": "2024-03-07T04:23:01.330355Z",
     "start_time": "2024-03-07T04:23:01.297393Z"
    }
   },
   "outputs": [],
   "source": [
    "X_star = torch.from_numpy(X_star).float()"
   ]
  },
  {
   "cell_type": "code",
   "execution_count": null,
   "metadata": {
    "ExecuteTime": {
     "end_time": "2024-03-07T04:23:02.329589Z",
     "start_time": "2024-03-07T04:23:02.324375Z"
    }
   },
   "outputs": [],
   "source": [
    "N_train = 20000 \n",
    "N_bound = 100 \n",
    "\n",
    "# idx_x = np.random.choice(x.shape[0], N_bound, replace=False)\n",
    "# x0 = x[idx_x,:]\n",
    "# u0 = Exact_u[idx_x,0:1]\n",
    "# v0 = Exact_v[idx_x,0:1]"
   ]
  },
  {
   "cell_type": "markdown",
   "metadata": {},
   "source": [
    "### Labeled Sample"
   ]
  },
  {
   "cell_type": "code",
   "execution_count": null,
   "metadata": {
    "ExecuteTime": {
     "end_time": "2024-03-07T04:23:04.177309Z",
     "start_time": "2024-03-07T04:23:04.168398Z"
    }
   },
   "outputs": [],
   "source": [
    "np.random.seed(1234)\n",
    "index_t = (lhs(1,10))*len(t)\n",
    "index_t = index_t.astype(int).reshape(10,)\n",
    "t_star = t[index_t]\n",
    "index_x = (lhs(1,10))*len(x)\n",
    "index_x = index_x.astype(int).reshape(10,)\n",
    "x_star = x[index_x]\n",
    "t_x_star = np.hstack((t_star, x_star))"
   ]
  },
  {
   "cell_type": "code",
   "execution_count": null,
   "metadata": {
    "ExecuteTime": {
     "end_time": "2024-03-07T04:23:05.047895Z",
     "start_time": "2024-03-07T04:23:05.040624Z"
    }
   },
   "outputs": [],
   "source": [
    "u_star_ = Exact[index_x,index_t]\n",
    "u_star_ = np.hstack((np.real(u_star_).reshape(-1,1), np.imag(u_star_).reshape(-1,1)))\n",
    "n=10"
   ]
  },
  {
   "cell_type": "code",
   "execution_count": null,
   "metadata": {
    "ExecuteTime": {
     "end_time": "2024-03-07T04:23:05.933537Z",
     "start_time": "2024-03-07T04:23:05.925799Z"
    },
    "scrolled": true
   },
   "outputs": [],
   "source": [
    "gan_data_x_t = t_x_star\n",
    "gan_data_u = u_star_.reshape(-1,2)\n",
    "gan_data_x_t = torch.from_numpy(gan_data_x_t).float()\n",
    "gan_data_u = torch.from_numpy(gan_data_u).float()"
   ]
  },
  {
   "cell_type": "code",
   "execution_count": null,
   "metadata": {
    "ExecuteTime": {
     "end_time": "2024-03-07T04:23:06.670886Z",
     "start_time": "2024-03-07T04:23:06.658829Z"
    },
    "scrolled": true
   },
   "outputs": [],
   "source": [
    "gan_data_x_t"
   ]
  },
  {
   "cell_type": "code",
   "execution_count": null,
   "metadata": {
    "ExecuteTime": {
     "end_time": "2024-03-07T04:23:07.374510Z",
     "start_time": "2024-03-07T04:23:07.361625Z"
    }
   },
   "outputs": [],
   "source": [
    "gan_data_u"
   ]
  },
  {
   "cell_type": "markdown",
   "metadata": {},
   "source": [
    "### The Image With Labeled Sample"
   ]
  },
  {
   "cell_type": "code",
   "execution_count": null,
   "metadata": {
    "ExecuteTime": {
     "end_time": "2024-03-07T04:23:09.684607Z",
     "start_time": "2024-03-07T04:23:09.363002Z"
    },
    "scrolled": true
   },
   "outputs": [],
   "source": [
    "gan_data_x_t = gan_data_x_t.cpu()\n",
    "lb = np.array([-5.0, 0.0])\n",
    "ub = np.array([5.0, np.pi/2])\n",
    "fig, ax = plt.subplots()\n",
    "gs0 = gridspec.GridSpec(1, 2)\n",
    "gs0.update(top=1-0.06, bottom=1-1/3, left=0.15, right=0.85, wspace=0)\n",
    "ax = plt.subplot(gs0[:, :])\n",
    "ax.plot(gan_data_x_t[:,0:1], gan_data_x_t[:,1:2],  'kx',alpha=1,markersize = 4)\n",
    "ax.set_xlabel('$t$')\n",
    "ax.set_ylabel('$x$')\n",
    "ax.set_title('$|h(t, x)|$', fontsize = 10)\n",
    "h = ax.imshow(Exact_h, interpolation='nearest', cmap='rainbow', \n",
    "              extent=[lb[1], ub[1], lb[0], ub[0]], \n",
    "              origin='lower', aspect='auto')\n",
    "divider = make_axes_locatable(ax)\n",
    "cax = divider.append_axes(\"right\", size=\"5%\", pad=0.05)\n",
    "fig.colorbar(h, cax=cax)\n",
    "plt.show()"
   ]
  },
  {
   "cell_type": "code",
   "execution_count": null,
   "metadata": {
    "ExecuteTime": {
     "end_time": "2024-02-05T12:55:07.662416Z",
     "start_time": "2024-02-05T12:55:07.658241Z"
    }
   },
   "outputs": [],
   "source": [
    "Exact_h.shape"
   ]
  },
  {
   "cell_type": "markdown",
   "metadata": {},
   "source": [
    "# Testing Data"
   ]
  },
  {
   "cell_type": "code",
   "execution_count": null,
   "metadata": {
    "ExecuteTime": {
     "end_time": "2024-02-05T12:55:07.668702Z",
     "start_time": "2024-02-05T12:55:07.664551Z"
    }
   },
   "outputs": [],
   "source": [
    "np.random.seed(5678)\n",
    "index = lhs(1,2000)*len(X_star)\n",
    "index = index.reshape(-1,).astype('int')"
   ]
  },
  {
   "cell_type": "code",
   "execution_count": null,
   "metadata": {
    "ExecuteTime": {
     "end_time": "2024-02-05T12:55:07.680117Z",
     "start_time": "2024-02-05T12:55:07.670677Z"
    }
   },
   "outputs": [],
   "source": [
    "test_x = X_star[index]\n",
    "test_u = h_star[index]"
   ]
  },
  {
   "cell_type": "code",
   "execution_count": null,
   "metadata": {
    "ExecuteTime": {
     "end_time": "2024-02-05T12:55:07.687646Z",
     "start_time": "2024-02-05T12:55:07.682554Z"
    }
   },
   "outputs": [],
   "source": [
    "test_x"
   ]
  },
  {
   "cell_type": "markdown",
   "metadata": {},
   "source": [
    "# Data For PINNs"
   ]
  },
  {
   "cell_type": "code",
   "execution_count": null,
   "metadata": {
    "ExecuteTime": {
     "end_time": "2024-02-05T12:55:07.692340Z",
     "start_time": "2024-02-05T12:55:07.689486Z"
    }
   },
   "outputs": [],
   "source": [
    "def sech(x):\n",
    "    h = 2/(np.exp(x)+np.exp(-x))\n",
    "    return h"
   ]
  },
  {
   "cell_type": "code",
   "execution_count": null,
   "metadata": {
    "ExecuteTime": {
     "end_time": "2024-02-05T12:55:07.713575Z",
     "start_time": "2024-02-05T12:55:07.694276Z"
    }
   },
   "outputs": [],
   "source": [
    "la = np.array([np.pi/2,5])\n",
    "lb = np.array([0,-5])\n",
    "\n",
    "\n",
    "t_limit = np.array([0,np.pi/2])\n",
    "x_limit = np.array([-5,5])\n",
    "\n",
    "np.random.seed(1234)\n",
    "traindata_f = lb+(la-lb)*lhs(2,N_train)\n",
    "\n",
    "traindata_f_t = traindata_f[:,0:1]\n",
    "traindata_f_x = traindata_f[:,1:2]\n",
    "\n",
    "np.random.seed(12345)\n",
    "traindata_x_bound = x_limit[0]+(x_limit[1]-x_limit[0])*lhs(1,N_bound)\n",
    "np.random.seed(123456)\n",
    "traindata_t_bound = t_limit[0]+(t_limit[1]-t_limit[0])*lhs(1,N_bound)\n",
    "\n",
    "data_h_0_x = np.concatenate((np.zeros(traindata_x_bound.shape),traindata_x_bound),axis = 1)\n",
    "\n",
    "data_h_0_x_u = np.concatenate((2*sech(traindata_x_bound),np.zeros(traindata_x_bound.shape)),axis = 1)\n",
    "\n",
    "data_h_t_5 = np.concatenate((traindata_t_bound,np.ones(traindata_t_bound.shape)*(5)),axis = 1)\n",
    "\n",
    "data_h_t_fu_5 = np.concatenate((traindata_t_bound,np.ones(traindata_t_bound.shape)*(-5)),axis = 1)\n",
    "\n",
    "\n",
    "data_5 = np.ones(traindata_t_bound.shape)*(5)\n",
    "\n",
    "data_fu_5 = np.ones(traindata_t_bound.shape)*(-5)\n",
    "\n",
    "traindata_f = torch.from_numpy(traindata_f).float()\n",
    "traindata_f_t = torch.from_numpy(traindata_f_t).float()\n",
    "traindata_f_x = torch.from_numpy(traindata_f_x).float()\n",
    "data_h_0_x = torch.from_numpy(data_h_0_x).float()\n",
    "traindata_t_bound = torch.from_numpy(traindata_t_bound).float()\n",
    "data_5 = torch.from_numpy(data_5).float()\n",
    "data_fu_5 = torch.from_numpy(data_fu_5).float()\n",
    "data_h_t_5 = torch.from_numpy(data_h_t_5).float()\n",
    "data_h_t_fu_5 = torch.from_numpy(data_h_t_fu_5).float()\n",
    "data_h_0_x_u = torch.from_numpy(data_h_0_x_u).float()"
   ]
  },
  {
   "cell_type": "code",
   "execution_count": null,
   "metadata": {},
   "outputs": [],
   "source": []
  },
  {
   "cell_type": "code",
   "execution_count": null,
   "metadata": {},
   "outputs": [],
   "source": []
  },
  {
   "cell_type": "code",
   "execution_count": null,
   "metadata": {},
   "outputs": [],
   "source": []
  },
  {
   "cell_type": "markdown",
   "metadata": {},
   "source": [
    "# Method1\n",
    "$\\text { PINN }$\n",
    "\n",
    "<div class=\"alert alert-info\">`loss_function：`\n",
    "$\\mathrm{L}_{\\text {PINN }}:=\\mathrm{L}_f+\\lambda_1 \\mathrm{~L}_b \\text { with } \\mathrm{L}_b:=\\sum_{i=1}^I \\mathrm{~L}_{b_i}$</div>"
   ]
  },
  {
   "cell_type": "code",
   "execution_count": null,
   "metadata": {
    "ExecuteTime": {
     "end_time": "2024-02-05T12:55:07.719176Z",
     "start_time": "2024-02-05T12:55:07.715853Z"
    }
   },
   "outputs": [],
   "source": [
    "#t x  ; u v"
   ]
  },
  {
   "cell_type": "code",
   "execution_count": null,
   "metadata": {
    "ExecuteTime": {
     "end_time": "2024-02-05T13:09:56.019940Z",
     "start_time": "2024-02-05T12:55:07.721537Z"
    },
    "scrolled": true
   },
   "outputs": [],
   "source": [
    "torch.manual_seed(1234)\n",
    "torch.cuda.manual_seed(1234)\n",
    "np.random.seed(1234)\n",
    "\n",
    "PINNs1 = NN_H2(2, 100, 4, 2)\n",
    "PINNs1.apply(weights_init)\n",
    "optimizer1 = optim.Adam([{'params': PINNs1.parameters()}], lr=1e-3)\n",
    "nIter2 = 20000\n",
    "\n",
    "traindata_f_t.requires_grad_()\n",
    "traindata_f_x.requires_grad_()\n",
    "data_5.requires_grad_()\n",
    "data_fu_5.requires_grad_()\n",
    "\n",
    "#############gpu##############\n",
    "\n",
    "traindata_t_bound = traindata_t_bound.cuda()\n",
    "traindata_f = traindata_f.cuda()\n",
    "traindata_f_t = traindata_f_t.cuda()\n",
    "traindata_f_x = traindata_f_x.cuda()\n",
    "data_h_0_x = data_h_0_x.cuda()\n",
    "traindata_t_bound = traindata_t_bound.cuda()\n",
    "data_5 = data_5.cuda()\n",
    "data_fu_5 = data_fu_5.cuda()\n",
    "data_h_t_5 = data_h_t_5.cuda()\n",
    "data_h_t_fu_5 = data_h_t_fu_5.cuda()\n",
    "data_h_0_x_u = data_h_0_x_u.cuda()\n",
    "############gpu###############\n",
    "\n",
    "\n",
    "\n",
    "\n",
    "loss_all_1 = []\n",
    "test_1 = []\n",
    "\n",
    "loss1_value = 1\n",
    "it = 0\n",
    "while loss1_value > 0.001:\n",
    "    PINNs1 = PINNs1.cuda()\n",
    "    ##### loss_Bi  ######\n",
    "    h_0_x = PINNs1(data_h_0_x)\n",
    "    h_t_5 = PINNs1(torch.cat((traindata_t_bound,data_5),1))\n",
    "    h_t_fu_5 = PINNs1(torch.cat((traindata_t_bound,data_fu_5),1))\n",
    "        \n",
    "    loss_h_0_x = torch.mean(torch.square(h_0_x-data_h_0_x_u))\n",
    "    loss_bound_h = torch.mean(torch.square(h_t_fu_5-h_t_5))\n",
    "    grad_h_5 = autograd.grad(outputs=h_t_5, inputs=data_5,\n",
    "                              grad_outputs=torch.ones_like(h_t_5),\n",
    "                              create_graph=True, retain_graph=True, only_inputs=True)[0]\n",
    "    grad_h_fu_5 = autograd.grad(outputs=h_t_fu_5, inputs=data_fu_5,\n",
    "                              grad_outputs=torch.ones_like(h_t_fu_5),\n",
    "                              create_graph=True, retain_graph=True, only_inputs=True)[0]\n",
    "    \n",
    "    loss_bound_h_x = torch.mean(torch.square(grad_h_5-grad_h_fu_5))\n",
    "    \n",
    "    ##### loss f  ######\n",
    "    h = PINNs1(torch.cat((traindata_f_t, traindata_f_x), 1))\n",
    "    u = h[:,0:1]\n",
    "    v = h[:,1:2]\n",
    "    u_x = autograd.grad(outputs=u, inputs=traindata_f_x,\n",
    "                              grad_outputs=torch.ones_like(u),\n",
    "                              create_graph=True, retain_graph=True, only_inputs=True)[0]\n",
    "    u_xx = autograd.grad(outputs=u_x, inputs=traindata_f_x,\n",
    "                              grad_outputs=torch.ones_like(u),\n",
    "                              create_graph=True, retain_graph=True, only_inputs=True)[0]\n",
    "    u_t = autograd.grad(outputs=u, inputs=traindata_f_t,\n",
    "                              grad_outputs=torch.ones_like(u),\n",
    "                              create_graph=True, retain_graph=True, only_inputs=True)[0]\n",
    "    v_x = autograd.grad(outputs=v, inputs=traindata_f_x,\n",
    "                              grad_outputs=torch.ones_like(v),\n",
    "                              create_graph=True, retain_graph=True, only_inputs=True)[0]\n",
    "    v_xx = autograd.grad(outputs=v_x, inputs=traindata_f_x,\n",
    "                              grad_outputs=torch.ones_like(v),\n",
    "                              create_graph=True, retain_graph=True, only_inputs=True)[0]    \n",
    "    v_t = autograd.grad(outputs=v, inputs=traindata_f_t,\n",
    "                              grad_outputs=torch.ones_like(v),\n",
    "                              create_graph=True, retain_graph=True, only_inputs=True)[0]    \n",
    "  \n",
    "    f_u = -v_t+0.5*u_xx+(u**2+v**2)*u\n",
    "    f_v = u_t+0.5*v_xx+(u**2+v**2)*v\n",
    "\n",
    "    loss_f = torch.mean(torch.square(f_u))+torch.mean(torch.square(f_v))    \n",
    "    \n",
    "        \n",
    "    #####loss PI#######\n",
    "    loss = (loss_h_0_x+loss_bound_h+loss_bound_h_x)*2+loss_f    \n",
    "    \n",
    "    \n",
    "    #######gpu#########\n",
    "    loss = loss.cuda()\n",
    "    \n",
    "    #######gpu#########\n",
    "    \n",
    "    \n",
    "    \n",
    "    loss_all_1.append(loss.item())\n",
    "    #loss = loss_f \n",
    "    loss1_value = loss.item()\n",
    "    optimizer1.zero_grad()\n",
    "    loss.backward()\n",
    "    optimizer1.step()\n",
    "    \n",
    "    #########  test_loss NRMSE  #########\n",
    "    PINNs1.cpu()\n",
    "    e1 = relative_l2(np.sqrt(PINNs1(test_x).detach().numpy()[:,0:1]**2 + PINNs1(test_x).detach().numpy()[:,1:2]**2),test_u)\n",
    "    test_1.append(e1)\n",
    "    \n",
    "    \n",
    "    if it % 100 == 0:\n",
    "        print('It:', it, 'Loss:', loss.item())\n",
    "    it = it + 1        \n",
    "loss1_value    "
   ]
  },
  {
   "cell_type": "code",
   "execution_count": null,
   "metadata": {},
   "outputs": [],
   "source": []
  },
  {
   "cell_type": "code",
   "execution_count": null,
   "metadata": {},
   "outputs": [],
   "source": []
  },
  {
   "cell_type": "markdown",
   "metadata": {},
   "source": [
    "# Epochs"
   ]
  },
  {
   "cell_type": "code",
   "execution_count": null,
   "metadata": {
    "ExecuteTime": {
     "end_time": "2024-02-05T13:09:56.060047Z",
     "start_time": "2024-02-05T13:09:56.024367Z"
    }
   },
   "outputs": [],
   "source": [
    "Epochs = len(test_1)\n",
    "NRMSE = relative_l2(np.sqrt(PINNs1(test_x).detach().numpy()[:,0:1]**2 + PINNs1(test_x).detach().numpy()[:,1:2]**2),test_u)\n",
    "\n",
    "print('Epochs:',Epochs,'NRMSE:',NRMSE)"
   ]
  },
  {
   "cell_type": "code",
   "execution_count": null,
   "metadata": {},
   "outputs": [],
   "source": []
  },
  {
   "cell_type": "markdown",
   "metadata": {},
   "source": [
    "# Save data"
   ]
  },
  {
   "cell_type": "code",
   "execution_count": null,
   "metadata": {
    "ExecuteTime": {
     "end_time": "2024-02-05T13:09:56.074377Z",
     "start_time": "2024-02-05T13:09:56.063919Z"
    }
   },
   "outputs": [],
   "source": [
    "np.save('../experimental_data/method_1/test_loss_1',test_1)\n",
    "np.save('../experimental_data/method_1/loss_all_1',loss_all_1)\n",
    "torch.save(PINNs1,'../saved_model/PINNs1')"
   ]
  },
  {
   "cell_type": "code",
   "execution_count": null,
   "metadata": {},
   "outputs": [],
   "source": []
  },
  {
   "cell_type": "code",
   "execution_count": null,
   "metadata": {},
   "outputs": [],
   "source": []
  },
  {
   "cell_type": "code",
   "execution_count": null,
   "metadata": {},
   "outputs": [],
   "source": []
  },
  {
   "cell_type": "code",
   "execution_count": null,
   "metadata": {},
   "outputs": [],
   "source": []
  }
 ],
 "metadata": {
  "kernelspec": {
   "display_name": "GA-PINNs",
   "language": "python",
   "name": "gapings"
  },
  "language_info": {
   "codemirror_mode": {
    "name": "ipython",
    "version": 3
   },
   "file_extension": ".py",
   "mimetype": "text/x-python",
   "name": "python",
   "nbconvert_exporter": "python",
   "pygments_lexer": "ipython3",
   "version": "3.7.12"
  },
  "toc": {
   "base_numbering": 1,
   "nav_menu": {},
   "number_sections": true,
   "sideBar": true,
   "skip_h1_title": false,
   "title_cell": "Table of Contents",
   "title_sidebar": "Contents",
   "toc_cell": false,
   "toc_position": {
    "height": "calc(100% - 180px)",
    "left": "10px",
    "top": "150px",
    "width": "294px"
   },
   "toc_section_display": true,
   "toc_window_display": true
  },
  "varInspector": {
   "cols": {
    "lenName": 16,
    "lenType": 16,
    "lenVar": 40
   },
   "kernels_config": {
    "python": {
     "delete_cmd_postfix": "",
     "delete_cmd_prefix": "del ",
     "library": "var_list.py",
     "varRefreshCmd": "print(var_dic_list())"
    },
    "r": {
     "delete_cmd_postfix": ") ",
     "delete_cmd_prefix": "rm(",
     "library": "var_list.r",
     "varRefreshCmd": "cat(var_dic_list()) "
    }
   },
   "types_to_exclude": [
    "module",
    "function",
    "builtin_function_or_method",
    "instance",
    "_Feature"
   ],
   "window_display": false
  }
 },
 "nbformat": 4,
 "nbformat_minor": 2
}
