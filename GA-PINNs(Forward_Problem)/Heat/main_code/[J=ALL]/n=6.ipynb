{
 "cells": [
  {
   "cell_type": "code",
   "execution_count": 1,
   "metadata": {
    "ExecuteTime": {
     "end_time": "2024-03-05T15:21:22.439970Z",
     "start_time": "2024-03-05T15:21:21.263559Z"
    }
   },
   "outputs": [],
   "source": [
    "import numpy as np\n",
    "import torch\n",
    "from torch import nn, optim, autograd\n",
    "from torch.nn import functional as F\n",
    "from pyDOE import lhs\n",
    "import scipy.io\n",
    "import matplotlib.pyplot as plt\n",
    "import matplotlib as mpl\n",
    "import matplotlib.gridspec as gridspec\n",
    "%matplotlib inline\n",
    "from mpl_toolkits.axes_grid1 import make_axes_locatable\n",
    "\n",
    "from models_all import *\n",
    "\n",
    "#Paper reproduction\n",
    "torch.manual_seed(1234)\n",
    "torch.cuda.manual_seed(1234)\n",
    "np.random.seed(1234)"
   ]
  },
  {
   "cell_type": "markdown",
   "metadata": {},
   "source": [
    "# Data For PINNs"
   ]
  },
  {
   "cell_type": "code",
   "execution_count": 2,
   "metadata": {
    "ExecuteTime": {
     "end_time": "2024-03-05T15:21:22.450444Z",
     "start_time": "2024-03-05T15:21:22.442479Z"
    }
   },
   "outputs": [],
   "source": [
    "N_train = 5000\n",
    "N_bound = 100\n",
    "\n",
    "np.random.seed(123)\n",
    "train_x_y_t = lhs(3,N_train)\n",
    "np.random.seed(12345)\n",
    "bound_x_y = lhs(2,N_bound)\n",
    "bound_x_y_t = np.concatenate((bound_x_y,np.zeros((N_bound,1))),1)"
   ]
  },
  {
   "cell_type": "code",
   "execution_count": 3,
   "metadata": {
    "ExecuteTime": {
     "end_time": "2024-03-05T15:21:22.465671Z",
     "start_time": "2024-03-05T15:21:22.452674Z"
    },
    "scrolled": true
   },
   "outputs": [
    {
     "data": {
      "text/plain": [
       "tensor([[0.3976],\n",
       "        [0.7691],\n",
       "        [0.9756],\n",
       "        ...,\n",
       "        [0.2023],\n",
       "        [0.6423],\n",
       "        [0.6873]], requires_grad=True)"
      ]
     },
     "execution_count": 3,
     "metadata": {},
     "output_type": "execute_result"
    }
   ],
   "source": [
    "train_x_y_t = torch.from_numpy(train_x_y_t).float()\n",
    "bound_x_y = torch.from_numpy(bound_x_y).float()\n",
    "bound_x_y_t = torch.from_numpy(bound_x_y_t).float()\n",
    "\n",
    "x = train_x_y_t[:,0:1]\n",
    "y = train_x_y_t[:,1:2]\n",
    "t = train_x_y_t[:,2:3]\n",
    "x.requires_grad_()\n",
    "y.requires_grad_()\n",
    "t.requires_grad_()"
   ]
  },
  {
   "cell_type": "markdown",
   "metadata": {},
   "source": [
    "## Get Data"
   ]
  },
  {
   "cell_type": "code",
   "execution_count": 4,
   "metadata": {
    "ExecuteTime": {
     "end_time": "2024-03-05T15:21:22.472100Z",
     "start_time": "2024-03-05T15:21:22.468835Z"
    }
   },
   "outputs": [],
   "source": [
    "def relative_l2(u_pred,u_real):\n",
    "    l2 = np.linalg.norm(u_real-u_pred,2)/np.linalg.norm(u_real,2)\n",
    "    return l2"
   ]
  },
  {
   "cell_type": "code",
   "execution_count": 5,
   "metadata": {
    "ExecuteTime": {
     "end_time": "2024-03-05T15:21:22.530325Z",
     "start_time": "2024-03-05T15:21:22.473685Z"
    }
   },
   "outputs": [],
   "source": [
    "import scipy.integrate\n",
    "from numpy import exp\n",
    "from math import sqrt\n",
    "import math\n",
    "def InIn(x_y_t):\n",
    "    x1 = x_y_t[:,0:1]\n",
    "    x2 = x_y_t[:,1:2]\n",
    "    t = x_y_t[:,2:3]\n",
    "    P = np.zeros_like(t)\n",
    "    for i in range(len(t)):\n",
    "        f = lambda y1,y2 : exp(-((x1[i]-y1)**2+(x2[i]-y2)**2)/(4*t[i]))*(y1-y2)\n",
    "        p,err= scipy.integrate.dblquad(f, -np.inf, np.inf, lambda g : -np.inf, lambda h : np.inf)\n",
    "        P[i] = p/(4*np.pi*t[i])\n",
    "    return P"
   ]
  },
  {
   "cell_type": "code",
   "execution_count": 6,
   "metadata": {
    "ExecuteTime": {
     "end_time": "2024-03-05T15:26:23.403692Z",
     "start_time": "2024-03-05T15:21:22.532665Z"
    }
   },
   "outputs": [],
   "source": [
    "np.random.seed(5678)\n",
    "test_x_y_t = lhs(3,500)\n",
    "x1 = test_x_y_t[:,0:1]\n",
    "x2 = test_x_y_t[:,1:2]\n",
    "t_ = test_x_y_t[:,2:3]\n",
    "test_u = np.zeros_like(t_)\n",
    "for i in range(len(t_)):\n",
    "    f = lambda y1,y2 : exp(-((x1[i]-y1)**2+(x2[i]-y2)**2)/(4*t_[i]))*(y1-y2)\n",
    "    p,err= scipy.integrate.dblquad(f, -np.inf, np.inf, lambda g : -np.inf, lambda h : np.inf)\n",
    "    test_u[i] = p/(4*np.pi*t_[i])\n"
   ]
  },
  {
   "cell_type": "code",
   "execution_count": 7,
   "metadata": {
    "ExecuteTime": {
     "end_time": "2024-03-05T15:26:23.411828Z",
     "start_time": "2024-03-05T15:26:23.407128Z"
    }
   },
   "outputs": [],
   "source": [
    "test_x_y_t = torch.from_numpy(test_x_y_t).float()"
   ]
  },
  {
   "cell_type": "markdown",
   "metadata": {},
   "source": [
    "### Labeled Data"
   ]
  },
  {
   "cell_type": "code",
   "execution_count": 8,
   "metadata": {
    "ExecuteTime": {
     "end_time": "2024-03-05T15:26:27.302780Z",
     "start_time": "2024-03-05T15:26:23.414478Z"
    },
    "scrolled": true
   },
   "outputs": [],
   "source": [
    "np.random.seed(234)\n",
    "n = 6\n",
    "gan_data_x_t = lhs(3,10)\n",
    "np.random.seed(1234)\n",
    "chosen_indices = np.random.choice(gan_data_x_t.shape[0], size=n, replace=False)\n",
    "gan_data_x_t = gan_data_x_t[chosen_indices, :]\n",
    "gan_data_u = InIn(gan_data_x_t)"
   ]
  },
  {
   "cell_type": "code",
   "execution_count": 9,
   "metadata": {
    "ExecuteTime": {
     "end_time": "2024-03-05T15:26:27.308979Z",
     "start_time": "2024-03-05T15:26:27.305206Z"
    }
   },
   "outputs": [],
   "source": [
    "gan_data_x_t = torch.from_numpy(gan_data_x_t).float()\n",
    "gan_data_u = torch.from_numpy(gan_data_u).float()"
   ]
  },
  {
   "cell_type": "code",
   "execution_count": null,
   "metadata": {},
   "outputs": [],
   "source": []
  },
  {
   "cell_type": "code",
   "execution_count": null,
   "metadata": {},
   "outputs": [],
   "source": []
  },
  {
   "cell_type": "markdown",
   "metadata": {},
   "source": [
    "# Method2\n",
    "**$\\text { GA - PINN }$**\n",
    "\n",
    "<div class=\"alert alert-info\">`loss_function：`\n",
    "\n",
    "$\\mathrm{L}_D=\\frac{1}{J} \\sum_{j=1}^J\\left(1-D\\left[\\left(\\mathbf{x}_T^{(j)}, u_T^{(j)}\\right)\\right]\\right)+D\\left[\\left(x_L^{(j)}, G\\left[x_L^{(j)}\\right]\\right)\\right] \\\\\n",
    "\\mathrm{L}_G=\\mathrm{L}_T+\\frac{1}{J} \\sum_{j=1}^J\\left(1-D\\left[\\left(x_T^{(j)}, G\\left[x_T^{(j)}\\right]\\right)\\right]\\right)\\\\\n",
    "\\mathrm{L}_{\\text {PINN }}:=\\mathrm{L}_f+\\lambda_1 \\mathrm{~L}_b \\text { with } \\mathrm{L}_b:=\\sum_{i=1}^I \\mathrm{~L}_{b_i}\n",
    "$\n",
    "\n",
    "\n",
    "\n",
    "</div>"
   ]
  },
  {
   "cell_type": "code",
   "execution_count": 10,
   "metadata": {
    "ExecuteTime": {
     "end_time": "2024-03-05T15:28:15.596073Z",
     "start_time": "2024-03-05T15:26:27.311355Z"
    }
   },
   "outputs": [
    {
     "name": "stdout",
     "output_type": "stream",
     "text": [
      "It: 0 Loss: 0.15083111822605133\n",
      "It: 100 Loss: 0.0007569971494376659\n",
      "It: 200 Loss: 0.00011366924445610493\n",
      "It: 300 Loss: 0.00015833126963116229\n",
      "It: 400 Loss: 5.048021921538748e-05\n",
      "It: 500 Loss: 0.0002168232313124463\n",
      "It: 600 Loss: 5.153549136593938e-05\n",
      "It: 700 Loss: 2.7267542463960126e-05\n",
      "It: 800 Loss: 5.165429683984257e-05\n",
      "It: 900 Loss: 2.594945726741571e-05\n",
      "It: 1000 Loss: 6.293693149928004e-05\n",
      "It: 1100 Loss: 2.4106269847834483e-05\n",
      "It: 1200 Loss: 6.696966738672927e-05\n",
      "It: 1300 Loss: 2.321913962077815e-05\n",
      "It: 1400 Loss: 5.954224616289139e-05\n",
      "It: 1500 Loss: 1.9700917619047686e-05\n",
      "It: 1600 Loss: 9.787188173504546e-05\n",
      "It: 1700 Loss: 2.1630852643284015e-05\n",
      "It: 1800 Loss: 6.484812183771282e-05\n",
      "It: 1900 Loss: 1.0329483302484732e-05\n",
      "It: 2000 Loss: 8.390376024181023e-06\n"
     ]
    },
    {
     "data": {
      "text/plain": [
       "4.9240279622608796e-06"
      ]
     },
     "execution_count": 10,
     "metadata": {},
     "output_type": "execute_result"
    }
   ],
   "source": [
    "torch.manual_seed(1234)\n",
    "torch.cuda.manual_seed(1234)\n",
    "np.random.seed(1234)\n",
    "\n",
    "PINNs2 = NN_H2(3, 100, 4, 1)\n",
    "PINNs2.apply(weights_init)\n",
    "optimizer1 = optim.Adam([{'params': PINNs2.parameters()}], lr=1e-3)\n",
    "\n",
    "discriminator= get_discriminator(4, 100, 1, 1)\n",
    "discriminator.apply(weights_init)\n",
    "optimizer2 = optim.Adam([{'params': discriminator.parameters(), 'weight_decay': 0.01}], lr=5e-3)\n",
    "\n",
    "loss_all_2 = []\n",
    "test_loss_2 = []\n",
    "\n",
    "#########gpu############\n",
    "discriminator.cuda()\n",
    "gan_data_x_t = gan_data_x_t.cuda()\n",
    "gan_data_u = gan_data_u.cuda()\n",
    "bound_x_y_t = bound_x_y_t.cuda()\n",
    "bound_x_y = bound_x_y.cuda()\n",
    "PINNs2.cuda()\n",
    "x = x.cuda()\n",
    "y = y.cuda()\n",
    "t = t.cuda()\n",
    "#########gpu############\n",
    "\n",
    "loss1_value = 1\n",
    "it = 0\n",
    "while  loss1_value>5e-6:\n",
    "    PINNs2.cuda()\n",
    "    \n",
    "    ##############loss D############\n",
    "    pre_H = PINNs2(gan_data_x_t)\n",
    "    d_fake = discriminator(torch.cat((gan_data_x_t,pre_H.detach()),1))\n",
    "    d_real = discriminator(torch.cat((gan_data_x_t,gan_data_u),1))\n",
    "    \n",
    "    loss_d = torch.mean(1-d_real)+torch.mean(d_fake)\n",
    "    \n",
    "    optimizer2.zero_grad()\n",
    "    loss_d .backward()\n",
    "    optimizer2.step()  \n",
    "    \n",
    "    ##############loss G ############\n",
    "    pre_H = PINNs2(gan_data_x_t)\n",
    "    d_fake = discriminator(torch.cat((gan_data_x_t,pre_H.detach()),1))\n",
    "    loss_L = torch.mean(torch.square(pre_H - gan_data_u))+torch.mean(1-d_fake)\n",
    "    \n",
    "    optimizer1.zero_grad()\n",
    "    loss_L.backward()\n",
    "    optimizer1.step()  \n",
    "    \n",
    "    ##### loss_Bi  ######\n",
    "    u_bound = PINNs2(bound_x_y_t)\n",
    "    \n",
    "    loss_bound = torch.mean(torch.square(u_bound-(bound_x_y[:,0:1]-bound_x_y[:,1:2])))\n",
    "  \n",
    "    ##### loss f  ######\n",
    "    \n",
    "    u_inside = PINNs2(torch.cat((x,y,t),1))\n",
    "    u_x = autograd.grad(outputs=u_inside, inputs=x,\n",
    "                              grad_outputs=torch.ones_like(u_inside),\n",
    "                              create_graph=True, retain_graph=True, only_inputs=True)[0]\n",
    "    u_xx = autograd.grad(outputs=u_x, inputs=x,\n",
    "                              grad_outputs=torch.ones_like(u_x),\n",
    "                              create_graph=True, retain_graph=True, only_inputs=True)[0]\n",
    "    u_y = autograd.grad(outputs=u_inside, inputs=y,\n",
    "                              grad_outputs=torch.ones_like(u_inside),\n",
    "                              create_graph=True, retain_graph=True, only_inputs=True)[0]\n",
    "    u_yy = autograd.grad(outputs=u_y, inputs=y,\n",
    "                              grad_outputs=torch.ones_like(u_y),\n",
    "                              create_graph=True, retain_graph=True, only_inputs=True)[0]  \n",
    "    u_t = autograd.grad(outputs=u_inside, inputs=t,\n",
    "                          grad_outputs=torch.ones_like(u_inside),\n",
    "                          create_graph=True, retain_graph=True, only_inputs=True)[0]\n",
    "    deata_u = u_xx+u_yy\n",
    "    loss_f = torch.mean(torch.square(deata_u-u_t))\n",
    "    \n",
    "\n",
    "    loss = loss_bound+loss_f\n",
    "    #loss = loss_f \n",
    "    loss1_value = loss.item()\n",
    "    \n",
    "    loss_all_2.append(loss1_value)\n",
    "    optimizer1.zero_grad()\n",
    "    loss.backward()\n",
    "    optimizer1.step()\n",
    "    \n",
    "    #########  test_loss NRMSE  #########\n",
    "    PINNs2.cpu()\n",
    "    test_loss =  relative_l2(PINNs2(test_x_y_t).detach().numpy(),test_u)\n",
    "    test_loss_2.append(test_loss)\n",
    "    \n",
    "    if it % 100 == 0:\n",
    "        print('It:', it, 'Loss:', loss.item())\n",
    "    it = it + 1        \n",
    "loss1_value    "
   ]
  },
  {
   "cell_type": "markdown",
   "metadata": {},
   "source": [
    "# Method3\n",
    "$\\text { PINN }^{\\dagger}$\n",
    "\n",
    "<div class=\"alert alert-info\">objective function：\n",
    "\n",
    "$\\overline{\\mathrm{L}}_{\\text {PINN }} =\\mathrm{L}_{\\text {PINN }}+\\lambda_2\\mathrm{L}_T$\n",
    "\n",
    "\n",
    "\n",
    "</div>"
   ]
  },
  {
   "cell_type": "code",
   "execution_count": 11,
   "metadata": {
    "ExecuteTime": {
     "end_time": "2024-03-05T15:28:15.604045Z",
     "start_time": "2024-03-05T15:28:15.599574Z"
    }
   },
   "outputs": [],
   "source": [
    "k = 2"
   ]
  },
  {
   "cell_type": "code",
   "execution_count": 12,
   "metadata": {
    "ExecuteTime": {
     "end_time": "2024-03-05T15:32:18.525318Z",
     "start_time": "2024-03-05T15:28:15.607012Z"
    },
    "scrolled": true
   },
   "outputs": [
    {
     "name": "stdout",
     "output_type": "stream",
     "text": [
      "It: 0 Loss: 0.32263725996017456 testloss: 0.87101925302898\n",
      "It: 100 Loss: 0.0015345608117058873 testloss: 0.10525667053468309\n",
      "It: 200 Loss: 0.0006534883286803961 testloss: 0.0842062301911943\n",
      "It: 300 Loss: 0.000306295114569366 testloss: 0.07748983904418336\n",
      "It: 400 Loss: 0.00013968560961075127 testloss: 0.061109594487760696\n",
      "It: 500 Loss: 7.779165753163397e-05 testloss: 0.06264984170348234\n",
      "It: 600 Loss: 5.682200571754947e-05 testloss: 0.06416518511107946\n",
      "It: 700 Loss: 0.0009080457966774702 testloss: 0.09049847162558756\n",
      "It: 800 Loss: 8.114730007946491e-05 testloss: 0.0532151282117644\n",
      "It: 900 Loss: 5.3114370530238375e-05 testloss: 0.056398095694341475\n",
      "It: 1000 Loss: 4.095479744137265e-05 testloss: 0.05797647543801355\n",
      "It: 1100 Loss: 3.4287601010873914e-05 testloss: 0.05860628737489541\n",
      "It: 1200 Loss: 0.0001038218688336201 testloss: 0.044067666739054066\n",
      "It: 1300 Loss: 5.197549762669951e-05 testloss: 0.048305893044671165\n",
      "It: 1400 Loss: 3.648856727522798e-05 testloss: 0.05060400666575947\n",
      "It: 1500 Loss: 2.9061267923680134e-05 testloss: 0.05169027057935611\n",
      "It: 1600 Loss: 0.0001369969977531582 testloss: 0.07462628133584731\n",
      "It: 1700 Loss: 5.245551801635884e-05 testloss: 0.04147225748855749\n",
      "It: 1800 Loss: 3.337244925205596e-05 testloss: 0.04430298430957024\n",
      "It: 1900 Loss: 2.5206460122717544e-05 testloss: 0.04575808007056757\n",
      "It: 2000 Loss: 0.00459536537528038 testloss: 0.10366648018673119\n",
      "It: 2100 Loss: 5.345142926671542e-05 testloss: 0.035555243935518586\n",
      "It: 2200 Loss: 3.094787825830281e-05 testloss: 0.03856514010588526\n",
      "It: 2300 Loss: 2.2049785911804065e-05 testloss: 0.04024885344222761\n",
      "It: 2400 Loss: 1.8244445527670905e-05 testloss: 0.04092803792990588\n",
      "It: 2500 Loss: 4.8027293814811856e-05 testloss: 0.0314052309979826\n",
      "It: 2600 Loss: 2.612625939946156e-05 testloss: 0.03441138483479477\n",
      "It: 2700 Loss: 1.8028491467703134e-05 testloss: 0.03595993142567838\n",
      "It: 2800 Loss: 0.0005600167205557227 testloss: 0.08840639727767005\n",
      "It: 2900 Loss: 4.45046134700533e-05 testloss: 0.026739767948848088\n",
      "It: 3000 Loss: 2.2595932023250498e-05 testloss: 0.029179476550856634\n",
      "It: 3100 Loss: 1.466143294237554e-05 testloss: 0.03053793263187611\n",
      "It: 3200 Loss: 1.0905110684689134e-05 testloss: 0.031196840825489153\n",
      "It: 3300 Loss: 3.563786594895646e-05 testloss: 0.024021610243138154\n",
      "It: 3400 Loss: 1.65302863024408e-05 testloss: 0.02600572826605567\n",
      "It: 3500 Loss: 1.0431540431454778e-05 testloss: 0.026893665191407543\n",
      "It: 3600 Loss: 7.70890255807899e-06 testloss: 0.027203451981057416\n",
      "It: 3700 Loss: 2.4460850909235887e-05 testloss: 0.022248876362835634\n",
      "It: 3800 Loss: 1.0219750038231723e-05 testloss: 0.02351204062285397\n",
      "It: 3900 Loss: 6.59132820146624e-06 testloss: 0.02383942637495382\n",
      "It: 4000 Loss: 5.203784894547425e-06 testloss: 0.023702413284758295\n"
     ]
    },
    {
     "data": {
      "text/plain": [
       "4.996566985937534e-06"
      ]
     },
     "execution_count": 12,
     "metadata": {},
     "output_type": "execute_result"
    }
   ],
   "source": [
    "torch.manual_seed(1234)\n",
    "torch.cuda.manual_seed(1234)\n",
    "np.random.seed(1234)\n",
    "\n",
    "PINNs3 = NN_H2(3, 100, 4, 1)\n",
    "PINNs3.apply(weights_init)\n",
    "optimizer1 = optim.Adam([{'params': PINNs3.parameters()}], lr=1e-3)\n",
    "\n",
    "loss_all_3 = []\n",
    "test_loss_3 = []\n",
    "\n",
    "#########gpu############\n",
    "bound_x_y_t = bound_x_y_t.cuda()\n",
    "bound_x_y = bound_x_y.cuda()\n",
    "PINNs3.cuda()\n",
    "x = x.cuda()\n",
    "y = y.cuda()\n",
    "t = t.cuda()\n",
    "gan_data_x_t = gan_data_x_t.cuda()\n",
    "gan_data_u = gan_data_u.cuda()\n",
    "#########gpu############\n",
    "\n",
    "loss1_value = 1\n",
    "it = 0\n",
    "while  loss1_value>5e-6:\n",
    "    PINNs3.cuda()\n",
    "    \n",
    "    ##### loss_Bi  ######\n",
    "    u_bound = PINNs3(bound_x_y_t)\n",
    "    \n",
    "    loss_bound = torch.mean(torch.square(u_bound-(bound_x_y[:,0:1]-bound_x_y[:,1:2])))\n",
    "  \n",
    "    ##### loss f  ######\n",
    "    u_inside = PINNs3(torch.cat((x,y,t),1))\n",
    "    u_x = autograd.grad(outputs=u_inside, inputs=x,\n",
    "                              grad_outputs=torch.ones_like(u_inside),\n",
    "                              create_graph=True, retain_graph=True, only_inputs=True)[0]\n",
    "    u_xx = autograd.grad(outputs=u_x, inputs=x,\n",
    "                              grad_outputs=torch.ones_like(u_x),\n",
    "                              create_graph=True, retain_graph=True, only_inputs=True)[0]\n",
    "    u_y = autograd.grad(outputs=u_inside, inputs=y,\n",
    "                              grad_outputs=torch.ones_like(u_inside),\n",
    "                              create_graph=True, retain_graph=True, only_inputs=True)[0]\n",
    "    u_yy = autograd.grad(outputs=u_y, inputs=y,\n",
    "                              grad_outputs=torch.ones_like(u_y),\n",
    "                              create_graph=True, retain_graph=True, only_inputs=True)[0]  \n",
    "    u_t = autograd.grad(outputs=u_inside, inputs=t,\n",
    "                          grad_outputs=torch.ones_like(u_inside),\n",
    "                          create_graph=True, retain_graph=True, only_inputs=True)[0]\n",
    "    deata_u = u_xx+u_yy\n",
    "    loss_f = torch.mean(torch.square(deata_u-u_t))\n",
    "\n",
    "    #####loss PI#######\n",
    "    loss = loss_bound+loss_f\n",
    "    pre_H = PINNs3(gan_data_x_t)\n",
    "    \n",
    "    loss_p = k*torch.mean(torch.square(pre_H - gan_data_u))+loss\n",
    "    \n",
    "    loss1_value = loss.item()\n",
    "    \n",
    "    loss_all_3.append(loss1_value)\n",
    "    optimizer1.zero_grad()\n",
    "    loss_p.backward()\n",
    "    optimizer1.step()\n",
    "    \n",
    "    #########  test_loss NRMSE  #########\n",
    "    PINNs3.cpu()\n",
    "    test_loss =  relative_l2(PINNs3(test_x_y_t).detach().numpy(),test_u)\n",
    "    test_loss_3.append(test_loss)\n",
    "    \n",
    "    if it % 100 == 0:\n",
    "        print('It:', it, 'Loss:', loss.item(), 'testloss:', test_loss)\n",
    "    it = it + 1        \n",
    "loss1_value    "
   ]
  },
  {
   "cell_type": "code",
   "execution_count": null,
   "metadata": {},
   "outputs": [],
   "source": []
  },
  {
   "cell_type": "markdown",
   "metadata": {},
   "source": [
    "# Method4 \n",
    "$\\text { GA - PINN }^{\\dagger}$\n",
    "\n",
    "<div class=\"alert alert-info\">objective function：\n",
    "\n",
    "$\n",
    "\\mathrm{L}_D=\\frac{1}{J} \\sum_{j=1}^J\\left(1-D\\left[\\left(\\mathbf{x}_T^{(j)}, u_T^{(j)}\\right)\\right]\\right)+D\\left[\\left(x_L^{(j)}, G\\left[x_L^{(j)}\\right]\\right)\\right] \\\\\n",
    "\\mathrm{L}_G=\\mathrm{L}_T+\\frac{1}{J} \\sum_{j=1}^J\\left(1-D\\left[\\left(x_T^{(j)}, G\\left[x_T^{(j)}\\right]\\right)\\right]\\right)\\\\\n",
    "\\overline{\\mathrm{L}}_{\\text {PINN }} =\\mathrm{L}_{\\text {PINN }}+\\lambda_2\\mathrm{L}_T\n",
    "$\n",
    "\n",
    "\n",
    "\n",
    "</div>\n"
   ]
  },
  {
   "cell_type": "code",
   "execution_count": 13,
   "metadata": {
    "ExecuteTime": {
     "end_time": "2024-03-05T15:34:40.268243Z",
     "start_time": "2024-03-05T15:32:18.532549Z"
    },
    "scrolled": true
   },
   "outputs": [
    {
     "name": "stdout",
     "output_type": "stream",
     "text": [
      "It: 0 Loss: 0.15083111822605133 testloss: 0.9964910628676131\n",
      "It: 100 Loss: 0.00096617586677894 testloss: 0.05917623496735388\n",
      "It: 200 Loss: 0.0008984272717498243 testloss: 0.03280606293337447\n",
      "It: 300 Loss: 0.00033834358328022063 testloss: 0.02866524151276716\n",
      "It: 400 Loss: 0.00015967989747878164 testloss: 0.024999520631530013\n",
      "It: 500 Loss: 0.00029455695766955614 testloss: 0.021419667841735664\n",
      "It: 600 Loss: 0.0001466119138058275 testloss: 0.019839651891530707\n",
      "It: 700 Loss: 7.493895100196823e-05 testloss: 0.018871504486494262\n",
      "It: 800 Loss: 0.00016039240290410817 testloss: 0.01614244979127432\n",
      "It: 900 Loss: 7.123992691049352e-05 testloss: 0.015943465451868415\n",
      "It: 1000 Loss: 7.890559936640784e-05 testloss: 0.013976063271017811\n",
      "It: 1100 Loss: 9.124869393417612e-06 testloss: 0.01383212192742338\n",
      "It: 1200 Loss: 1.9706771126948297e-05 testloss: 0.013964679771277293\n",
      "It: 1300 Loss: 9.587460226612166e-06 testloss: 0.012874051988149433\n",
      "It: 1400 Loss: 6.140713594504632e-06 testloss: 0.011980473461531542\n",
      "It: 1500 Loss: 7.758894935250282e-05 testloss: 0.010244087206984961\n",
      "It: 1600 Loss: 1.50024479808053e-05 testloss: 0.009443665070415155\n",
      "It: 1700 Loss: 6.134638169896789e-06 testloss: 0.00839041376985246\n"
     ]
    },
    {
     "data": {
      "text/plain": [
       "4.998561053071171e-06"
      ]
     },
     "execution_count": 13,
     "metadata": {},
     "output_type": "execute_result"
    }
   ],
   "source": [
    "torch.manual_seed(1234)\n",
    "torch.cuda.manual_seed(1234)\n",
    "np.random.seed(1234)\n",
    "\n",
    "PINNs4 = NN_H2(3, 100, 4, 1)\n",
    "PINNs4.apply(weights_init)\n",
    "optimizer1 = optim.Adam([{'params': PINNs4.parameters()}], lr=1e-3)\n",
    "\n",
    "discriminator= get_discriminator(4, 100, 1, 1)\n",
    "discriminator.apply(weights_init)\n",
    "optimizer2 = optim.Adam([{'params': discriminator.parameters(), 'weight_decay': 0.01}], lr=5e-3)\n",
    "\n",
    "\n",
    "loss_all_4 = []\n",
    "test_loss_4 = []\n",
    "\n",
    "#########gpu############\n",
    "discriminator.cuda()\n",
    "gan_data_x_t = gan_data_x_t.cuda()\n",
    "gan_data_u = gan_data_u.cuda()\n",
    "bound_x_y_t = bound_x_y_t.cuda()\n",
    "bound_x_y = bound_x_y.cuda()\n",
    "PINNs4.cuda()\n",
    "x = x.cuda()\n",
    "y = y.cuda()\n",
    "t = t.cuda()\n",
    "#########gpu############\n",
    "\n",
    "\n",
    "loss1_value = 1\n",
    "it = 0\n",
    "while  loss1_value>5e-6:\n",
    "    PINNs4.cuda()\n",
    "    \n",
    "    ##############loss D############\n",
    "    pre_H = PINNs4(gan_data_x_t)\n",
    "    d_fake = discriminator(torch.cat((gan_data_x_t,pre_H.detach()),1))\n",
    "    d_real = discriminator(torch.cat((gan_data_x_t,gan_data_u),1))\n",
    "    \n",
    "    loss_d = torch.mean(1-d_real)+torch.mean(d_fake)\n",
    "    \n",
    "    optimizer2.zero_grad()\n",
    "    loss_d .backward()\n",
    "    optimizer2.step()  \n",
    "    \n",
    "    ##############loss G############\n",
    "    pre_H = PINNs4(gan_data_x_t)\n",
    "    d_fake = discriminator(torch.cat((gan_data_x_t,pre_H.detach()),1))\n",
    "    loss_L = torch.mean(torch.square(pre_H - gan_data_u))+torch.mean(1-d_fake)\n",
    "    \n",
    "    optimizer1.zero_grad()\n",
    "    loss_L.backward()\n",
    "    optimizer1.step()  \n",
    "\n",
    "    ##### loss_Bi  ######\n",
    "    u_bound = PINNs4(bound_x_y_t)\n",
    "    \n",
    "    loss_bound = torch.mean(torch.square(u_bound-(bound_x_y[:,0:1]-bound_x_y[:,1:2])))\n",
    "  \n",
    "    ##### loss f  ######\n",
    "    \n",
    "    u_inside = PINNs4(torch.cat((x,y,t),1))\n",
    "    u_x = autograd.grad(outputs=u_inside, inputs=x,\n",
    "                              grad_outputs=torch.ones_like(u_inside),\n",
    "                              create_graph=True, retain_graph=True, only_inputs=True)[0]\n",
    "    u_xx = autograd.grad(outputs=u_x, inputs=x,\n",
    "                              grad_outputs=torch.ones_like(u_x),\n",
    "                              create_graph=True, retain_graph=True, only_inputs=True)[0]\n",
    "    u_y = autograd.grad(outputs=u_inside, inputs=y,\n",
    "                              grad_outputs=torch.ones_like(u_inside),\n",
    "                              create_graph=True, retain_graph=True, only_inputs=True)[0]\n",
    "    u_yy = autograd.grad(outputs=u_y, inputs=y,\n",
    "                              grad_outputs=torch.ones_like(u_y),\n",
    "                              create_graph=True, retain_graph=True, only_inputs=True)[0]  \n",
    "    u_t = autograd.grad(outputs=u_inside, inputs=t,\n",
    "                          grad_outputs=torch.ones_like(u_inside),\n",
    "                          create_graph=True, retain_graph=True, only_inputs=True)[0]\n",
    "    deata_u = u_xx+u_yy\n",
    "    loss_f = torch.mean(torch.square(deata_u-u_t))\n",
    "    \n",
    "    #####loss PI#######\n",
    "    loss = loss_bound+loss_f\n",
    "    pre_H = PINNs4(gan_data_x_t)\n",
    "    \n",
    "    loss_p = k*torch.mean(torch.square(pre_H - gan_data_u))+loss\n",
    "    \n",
    "    loss1_value = loss.item()\n",
    "    \n",
    "    loss_all_4.append(loss1_value)\n",
    "    optimizer1.zero_grad()\n",
    "    loss_p.backward()\n",
    "    optimizer1.step()\n",
    "    \n",
    "    #########  test_loss NRMSE  #########\n",
    "    PINNs4.cpu()\n",
    "    test_loss =  relative_l2(PINNs4(test_x_y_t).detach().numpy(),test_u)\n",
    "    test_loss_4.append(test_loss)\n",
    "    \n",
    "    if it % 100 == 0:\n",
    "        print('It:', it, 'Loss:', loss.item(), 'testloss:', test_loss)\n",
    "    it = it + 1        \n",
    "loss1_value    "
   ]
  },
  {
   "cell_type": "code",
   "execution_count": null,
   "metadata": {},
   "outputs": [],
   "source": []
  },
  {
   "cell_type": "code",
   "execution_count": null,
   "metadata": {},
   "outputs": [],
   "source": []
  },
  {
   "cell_type": "code",
   "execution_count": 14,
   "metadata": {
    "ExecuteTime": {
     "end_time": "2024-03-05T15:34:40.276204Z",
     "start_time": "2024-03-05T15:34:40.271062Z"
    }
   },
   "outputs": [],
   "source": [
    "test_loss_2 = np.array(test_loss_2)\n",
    "test_loss_3 = np.array(test_loss_3)\n",
    "test_loss_4 = np.array(test_loss_4)"
   ]
  },
  {
   "cell_type": "code",
   "execution_count": null,
   "metadata": {},
   "outputs": [],
   "source": []
  },
  {
   "cell_type": "code",
   "execution_count": 16,
   "metadata": {
    "ExecuteTime": {
     "end_time": "2024-03-05T15:34:40.933019Z",
     "start_time": "2024-03-05T15:34:40.928467Z"
    }
   },
   "outputs": [],
   "source": [
    "np.save('../../experimental_data/J_6/test_loss_2',test_loss_2)\n",
    "np.save('../../experimental_data/J_6/test_loss_3',test_loss_3)\n",
    "np.save('../../experimental_data/J_6/test_loss_4',test_loss_4)"
   ]
  },
  {
   "cell_type": "code",
   "execution_count": null,
   "metadata": {},
   "outputs": [],
   "source": []
  },
  {
   "cell_type": "code",
   "execution_count": null,
   "metadata": {},
   "outputs": [],
   "source": []
  },
  {
   "cell_type": "code",
   "execution_count": null,
   "metadata": {},
   "outputs": [],
   "source": []
  }
 ],
 "metadata": {
  "kernelspec": {
   "display_name": "GA-PINNs",
   "language": "python",
   "name": "gapings"
  },
  "language_info": {
   "codemirror_mode": {
    "name": "ipython",
    "version": 3
   },
   "file_extension": ".py",
   "mimetype": "text/x-python",
   "name": "python",
   "nbconvert_exporter": "python",
   "pygments_lexer": "ipython3",
   "version": "3.7.12"
  },
  "toc": {
   "base_numbering": 1,
   "nav_menu": {},
   "number_sections": true,
   "sideBar": true,
   "skip_h1_title": false,
   "title_cell": "Table of Contents",
   "title_sidebar": "Contents",
   "toc_cell": false,
   "toc_position": {
    "height": "calc(100% - 180px)",
    "left": "10px",
    "top": "150px",
    "width": "165px"
   },
   "toc_section_display": true,
   "toc_window_display": true
  },
  "varInspector": {
   "cols": {
    "lenName": 16,
    "lenType": 16,
    "lenVar": 40
   },
   "kernels_config": {
    "python": {
     "delete_cmd_postfix": "",
     "delete_cmd_prefix": "del ",
     "library": "var_list.py",
     "varRefreshCmd": "print(var_dic_list())"
    },
    "r": {
     "delete_cmd_postfix": ") ",
     "delete_cmd_prefix": "rm(",
     "library": "var_list.r",
     "varRefreshCmd": "cat(var_dic_list()) "
    }
   },
   "types_to_exclude": [
    "module",
    "function",
    "builtin_function_or_method",
    "instance",
    "_Feature"
   ],
   "window_display": false
  }
 },
 "nbformat": 4,
 "nbformat_minor": 2
}
