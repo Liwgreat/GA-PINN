{
 "cells": [
  {
   "cell_type": "code",
   "execution_count": null,
   "metadata": {
    "ExecuteTime": {
     "end_time": "2024-02-06T05:18:36.055886Z",
     "start_time": "2024-02-06T05:18:34.821312Z"
    }
   },
   "outputs": [],
   "source": [
    "import numpy as np\n",
    "import torch\n",
    "from torch import nn, optim, autograd\n",
    "from torch.nn import functional as F\n",
    "from pyDOE import lhs\n",
    "import scipy.io\n",
    "import matplotlib.pyplot as plt\n",
    "import matplotlib as mpl\n",
    "import matplotlib.gridspec as gridspec\n",
    "%matplotlib inline\n",
    "from mpl_toolkits.axes_grid1 import make_axes_locatable\n",
    "\n",
    "from models_all import *\n",
    "\n",
    "#Paper reproduction\n",
    "torch.manual_seed(1234)\n",
    "torch.cuda.manual_seed(1234)\n",
    "np.random.seed(1234)"
   ]
  },
  {
   "cell_type": "code",
   "execution_count": null,
   "metadata": {
    "ExecuteTime": {
     "end_time": "2024-02-06T05:18:36.065639Z",
     "start_time": "2024-02-06T05:18:36.058127Z"
    }
   },
   "outputs": [],
   "source": [
    "N_train = 5000\n",
    "N_bound = 100\n",
    "\n",
    "np.random.seed(123)\n",
    "train_x_y_t = lhs(3,N_train)\n",
    "np.random.seed(12345)\n",
    "bound_x_y = lhs(2,N_bound)\n",
    "bound_x_y_t = np.concatenate((bound_x_y,np.zeros((N_bound,1))),1)"
   ]
  },
  {
   "cell_type": "code",
   "execution_count": null,
   "metadata": {
    "ExecuteTime": {
     "end_time": "2024-02-06T05:18:36.093927Z",
     "start_time": "2024-02-06T05:18:36.070379Z"
    },
    "scrolled": true
   },
   "outputs": [],
   "source": [
    "train_x_y_t = torch.from_numpy(train_x_y_t).float()\n",
    "bound_x_y = torch.from_numpy(bound_x_y).float()\n",
    "bound_x_y_t = torch.from_numpy(bound_x_y_t).float()\n",
    "\n",
    "x = train_x_y_t[:,0:1]\n",
    "y = train_x_y_t[:,1:2]\n",
    "t = train_x_y_t[:,2:3]\n",
    "x.requires_grad_()\n",
    "y.requires_grad_()\n",
    "t.requires_grad_()"
   ]
  },
  {
   "cell_type": "code",
   "execution_count": null,
   "metadata": {
    "ExecuteTime": {
     "end_time": "2024-02-06T05:18:36.098585Z",
     "start_time": "2024-02-06T05:18:36.095856Z"
    }
   },
   "outputs": [],
   "source": [
    "def relative_l2(u_pred,u_real):\n",
    "    l2 = np.linalg.norm(u_real-u_pred,2)/np.linalg.norm(u_real,2)\n",
    "    return l2"
   ]
  },
  {
   "cell_type": "code",
   "execution_count": null,
   "metadata": {
    "ExecuteTime": {
     "end_time": "2024-02-06T05:18:36.156573Z",
     "start_time": "2024-02-06T05:18:36.100342Z"
    }
   },
   "outputs": [],
   "source": [
    "import scipy.integrate\n",
    "from numpy import exp\n",
    "from math import sqrt\n",
    "import math\n",
    "def InIn(x_y_t):\n",
    "    x1 = x_y_t[:,0:1]\n",
    "    x2 = x_y_t[:,1:2]\n",
    "    t = x_y_t[:,2:3]\n",
    "    P = np.zeros_like(t)\n",
    "    for i in range(len(t)):\n",
    "        f = lambda y1,y2 : exp(-((x1[i]-y1)**2+(x2[i]-y2)**2)/(4*t[i]))*(y1-y2)\n",
    "        p,err= scipy.integrate.dblquad(f, -np.inf, np.inf, lambda g : -np.inf, lambda h : np.inf)\n",
    "        P[i] = p/(4*np.pi*t[i])\n",
    "    return P"
   ]
  },
  {
   "cell_type": "code",
   "execution_count": null,
   "metadata": {
    "ExecuteTime": {
     "end_time": "2024-02-06T05:23:36.360666Z",
     "start_time": "2024-02-06T05:18:36.158980Z"
    },
    "scrolled": true
   },
   "outputs": [],
   "source": [
    "np.random.seed(5678)\n",
    "test_x_y_t = lhs(3,500)\n",
    "x1 = test_x_y_t[:,0:1]\n",
    "x2 = test_x_y_t[:,1:2]\n",
    "t_ = test_x_y_t[:,2:3]\n",
    "test_u = np.zeros_like(t_)\n",
    "for i in range(len(t_)):\n",
    "    f = lambda y1,y2 : exp(-((x1[i]-y1)**2+(x2[i]-y2)**2)/(4*t_[i]))*(y1-y2)\n",
    "    p,err= scipy.integrate.dblquad(f, -np.inf, np.inf, lambda g : -np.inf, lambda h : np.inf)\n",
    "    test_u[i] = p/(4*np.pi*t_[i])\n"
   ]
  },
  {
   "cell_type": "code",
   "execution_count": null,
   "metadata": {
    "ExecuteTime": {
     "end_time": "2024-02-06T05:23:36.368505Z",
     "start_time": "2024-02-06T05:23:36.363780Z"
    }
   },
   "outputs": [],
   "source": [
    "test_x_y_t = torch.from_numpy(test_x_y_t).float()"
   ]
  },
  {
   "cell_type": "markdown",
   "metadata": {},
   "source": [
    "### Labeled Data"
   ]
  },
  {
   "cell_type": "code",
   "execution_count": null,
   "metadata": {
    "ExecuteTime": {
     "end_time": "2024-02-06T05:23:42.539963Z",
     "start_time": "2024-02-06T05:23:36.370810Z"
    },
    "scrolled": true
   },
   "outputs": [],
   "source": [
    "np.random.seed(234)\n",
    "gan_data_x_t = lhs(3,10)\n",
    "gan_data_u = InIn(gan_data_x_t)"
   ]
  },
  {
   "cell_type": "code",
   "execution_count": null,
   "metadata": {
    "ExecuteTime": {
     "end_time": "2024-02-06T05:23:42.547750Z",
     "start_time": "2024-02-06T05:23:42.544036Z"
    }
   },
   "outputs": [],
   "source": [
    "gan_data_x_t = torch.from_numpy(gan_data_x_t).float()\n",
    "gan_data_u = torch.from_numpy(gan_data_u).float()"
   ]
  },
  {
   "cell_type": "markdown",
   "metadata": {},
   "source": [
    "# Method4 \n",
    "$\\text { GA - PINN }^{\\dagger}$\n",
    "\n",
    "<div class=\"alert alert-info\">`loss_function：`\n",
    "\n",
    "$\n",
    "\\mathrm{L}_D=\\frac{1}{J} \\sum_{j=1}^J\\left(1-D\\left[\\left(\\mathbf{x}_T^{(j)}, u_T^{(j)}\\right)\\right]\\right)+D\\left[\\left(x_L^{(j)}, G\\left[x_L^{(j)}\\right]\\right)\\right] \\\\\n",
    "\\mathrm{L}_G=\\mathrm{L}_T+\\frac{1}{J} \\sum_{j=1}^J\\left(1-D\\left[\\left(x_T^{(j)}, G\\left[x_T^{(j)}\\right]\\right)\\right]\\right)\\\\\n",
    "\\overline{\\mathrm{L}}_{\\text {PINN }} =\\mathrm{L}_{\\text {PINN }}+\\lambda_2\\mathrm{L}_T\n",
    "$\n",
    "\n",
    "\n",
    "\n",
    "</div>\n",
    "\n"
   ]
  },
  {
   "cell_type": "code",
   "execution_count": null,
   "metadata": {
    "ExecuteTime": {
     "end_time": "2024-02-06T05:23:42.553000Z",
     "start_time": "2024-02-06T05:23:42.549887Z"
    }
   },
   "outputs": [],
   "source": [
    "k=2"
   ]
  },
  {
   "cell_type": "code",
   "execution_count": null,
   "metadata": {
    "ExecuteTime": {
     "end_time": "2024-02-06T05:27:11.529350Z",
     "start_time": "2024-02-06T05:23:42.555376Z"
    },
    "scrolled": true
   },
   "outputs": [],
   "source": [
    "torch.manual_seed(1234)\n",
    "torch.cuda.manual_seed(1234)\n",
    "np.random.seed(1234)\n",
    "\n",
    "PINNs4 = NN_H2(3, 100, 4, 1)\n",
    "PINNs4.apply(weights_init)\n",
    "optimizer1 = optim.Adam([{'params': PINNs4.parameters()}], lr=1e-3)\n",
    "\n",
    "discriminator= get_discriminator(4, 100, 1, 1)\n",
    "discriminator.apply(weights_init)\n",
    "optimizer2 = optim.Adam([{'params': discriminator.parameters(), 'weight_decay': 0.01}], lr=5e-3)\n",
    "\n",
    "\n",
    "loss_all_4 = []\n",
    "test_loss_4 = []\n",
    "\n",
    "#########gpu############\n",
    "discriminator.cuda()\n",
    "gan_data_x_t = gan_data_x_t.cuda()\n",
    "gan_data_u = gan_data_u.cuda()\n",
    "bound_x_y_t = bound_x_y_t.cuda()\n",
    "bound_x_y = bound_x_y.cuda()\n",
    "PINNs4.cuda()\n",
    "x = x.cuda()\n",
    "y = y.cuda()\n",
    "t = t.cuda()\n",
    "#########gpu############\n",
    "\n",
    "\n",
    "\n",
    "\n",
    "loss1_value = 1\n",
    "it = 0\n",
    "while  loss1_value>5e-6:\n",
    "    PINNs4.cuda()\n",
    "    \n",
    "    ##############loss D############\n",
    "    pre_H = PINNs4(gan_data_x_t)\n",
    "    d_fake = discriminator(torch.cat((gan_data_x_t,pre_H.detach()),1))\n",
    "    d_real = discriminator(torch.cat((gan_data_x_t,gan_data_u),1))\n",
    "    \n",
    "    loss_d = torch.mean(1-d_real)+torch.mean(d_fake)\n",
    "    \n",
    "    optimizer2.zero_grad()\n",
    "    loss_d .backward()\n",
    "    optimizer2.step()  \n",
    "    \n",
    "\n",
    "    \n",
    "    ##############loss G ############\n",
    "    pre_H = PINNs4(gan_data_x_t)\n",
    "    d_fake = discriminator(torch.cat((gan_data_x_t,pre_H.detach()),1))\n",
    "    loss_L = torch.mean(torch.square(pre_H - gan_data_u))+torch.mean(1-d_fake)\n",
    "    \n",
    "    optimizer1.zero_grad()\n",
    "    loss_L.backward()\n",
    "    optimizer1.step()  \n",
    "    \n",
    "\n",
    "    ##### loss_Bi  ######\n",
    "    u_bound = PINNs4(bound_x_y_t)\n",
    "    \n",
    "    loss_bound = torch.mean(torch.square(u_bound-(bound_x_y[:,0:1]-bound_x_y[:,1:2])))\n",
    "  \n",
    "    \n",
    "    \n",
    "    ##### loss f  ######\n",
    "    \n",
    "    u_inside = PINNs4(torch.cat((x,y,t),1))\n",
    "    u_x = autograd.grad(outputs=u_inside, inputs=x,\n",
    "                              grad_outputs=torch.ones_like(u_inside),\n",
    "                              create_graph=True, retain_graph=True, only_inputs=True)[0]\n",
    "    u_xx = autograd.grad(outputs=u_x, inputs=x,\n",
    "                              grad_outputs=torch.ones_like(u_x),\n",
    "                              create_graph=True, retain_graph=True, only_inputs=True)[0]\n",
    "    u_y = autograd.grad(outputs=u_inside, inputs=y,\n",
    "                              grad_outputs=torch.ones_like(u_inside),\n",
    "                              create_graph=True, retain_graph=True, only_inputs=True)[0]\n",
    "    u_yy = autograd.grad(outputs=u_y, inputs=y,\n",
    "                              grad_outputs=torch.ones_like(u_y),\n",
    "                              create_graph=True, retain_graph=True, only_inputs=True)[0]  \n",
    "    u_t = autograd.grad(outputs=u_inside, inputs=t,\n",
    "                          grad_outputs=torch.ones_like(u_inside),\n",
    "                          create_graph=True, retain_graph=True, only_inputs=True)[0]\n",
    "    deata_u = u_xx+u_yy\n",
    "    loss_f = torch.mean(torch.square(deata_u-u_t))\n",
    "    \n",
    "\n",
    "    loss = loss_bound+loss_f\n",
    "    pre_H = PINNs4(gan_data_x_t)\n",
    "    \n",
    "    loss_p = k*torch.mean(torch.square(pre_H - gan_data_u))+loss\n",
    "    \n",
    "    \n",
    "    loss1_value = loss.item()\n",
    "    \n",
    "    \n",
    "    loss_all_4.append(loss1_value)\n",
    "    optimizer1.zero_grad()\n",
    "    loss_p.backward()\n",
    "    optimizer1.step()\n",
    "    \n",
    "    \n",
    "    #########  test_loss NRMSE  #########\n",
    "    PINNs4.cpu()\n",
    "    test_loss =  relative_l2(PINNs4(test_x_y_t).detach().numpy(),test_u)\n",
    "    test_loss_4.append(test_loss)\n",
    "    \n",
    "    if it % 100 == 0:\n",
    "        print('It:', it, 'Loss:', loss.item())\n",
    "    it = it + 1        \n",
    "loss1_value    "
   ]
  },
  {
   "cell_type": "code",
   "execution_count": null,
   "metadata": {},
   "outputs": [],
   "source": []
  },
  {
   "cell_type": "code",
   "execution_count": null,
   "metadata": {},
   "outputs": [],
   "source": []
  },
  {
   "cell_type": "markdown",
   "metadata": {},
   "source": [
    "# Results"
   ]
  },
  {
   "cell_type": "markdown",
   "metadata": {},
   "source": [
    "## Save data"
   ]
  },
  {
   "cell_type": "code",
   "execution_count": null,
   "metadata": {},
   "outputs": [],
   "source": [
    "# np.save('../experimental_data/method_4/test_loss_4',test_loss_4)\n",
    "# np.save('../experimental_data/method_4/loss_all_4',loss_all_4)\n",
    "# torch.save(PINNs4,'../saved_model/PINNs4')"
   ]
  },
  {
   "cell_type": "markdown",
   "metadata": {},
   "source": [
    "## Epoch and NRMSE"
   ]
  },
  {
   "cell_type": "code",
   "execution_count": null,
   "metadata": {},
   "outputs": [],
   "source": [
    "Epochs = len(test_loss_4)\n",
    "NRMSE = relative_l2(PINNs4(test_x_y_t).detach().numpy(),test_u)\n",
    "\n",
    "print('Epochs:',Epochs,'NRMSE:',NRMSE)"
   ]
  },
  {
   "cell_type": "code",
   "execution_count": null,
   "metadata": {},
   "outputs": [],
   "source": []
  },
  {
   "cell_type": "code",
   "execution_count": null,
   "metadata": {},
   "outputs": [],
   "source": []
  }
 ],
 "metadata": {
  "kernelspec": {
   "display_name": "GA-PINNs",
   "language": "python",
   "name": "gapings"
  },
  "language_info": {
   "codemirror_mode": {
    "name": "ipython",
    "version": 3
   },
   "file_extension": ".py",
   "mimetype": "text/x-python",
   "name": "python",
   "nbconvert_exporter": "python",
   "pygments_lexer": "ipython3",
   "version": "3.7.12"
  },
  "toc": {
   "base_numbering": 1,
   "nav_menu": {},
   "number_sections": true,
   "sideBar": true,
   "skip_h1_title": false,
   "title_cell": "Table of Contents",
   "title_sidebar": "Contents",
   "toc_cell": false,
   "toc_position": {
    "height": "calc(100% - 180px)",
    "left": "10px",
    "top": "150px",
    "width": "294px"
   },
   "toc_section_display": true,
   "toc_window_display": false
  },
  "varInspector": {
   "cols": {
    "lenName": 16,
    "lenType": 16,
    "lenVar": 40
   },
   "kernels_config": {
    "python": {
     "delete_cmd_postfix": "",
     "delete_cmd_prefix": "del ",
     "library": "var_list.py",
     "varRefreshCmd": "print(var_dic_list())"
    },
    "r": {
     "delete_cmd_postfix": ") ",
     "delete_cmd_prefix": "rm(",
     "library": "var_list.r",
     "varRefreshCmd": "cat(var_dic_list()) "
    }
   },
   "types_to_exclude": [
    "module",
    "function",
    "builtin_function_or_method",
    "instance",
    "_Feature"
   ],
   "window_display": false
  }
 },
 "nbformat": 4,
 "nbformat_minor": 2
}
