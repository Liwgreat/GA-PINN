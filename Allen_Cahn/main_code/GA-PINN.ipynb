{
 "cells": [
  {
   "cell_type": "code",
   "execution_count": 1,
   "id": "13c53d24",
   "metadata": {
    "ExecuteTime": {
     "end_time": "2025-02-10T15:09:41.675659Z",
     "start_time": "2025-02-10T15:09:40.297859Z"
    }
   },
   "outputs": [],
   "source": [
    "import numpy as np\n",
    "import torch\n",
    "from torch import nn, optim, autograd\n",
    "from torch.nn import functional as F\n",
    "import torch.nn.init as init\n",
    "from pyDOE import lhs\n",
    "import scipy.io\n",
    "import matplotlib.pyplot as plt\n",
    "import matplotlib as mpl\n",
    "import matplotlib.gridspec as gridspec\n",
    "%matplotlib inline\n",
    "from mpl_toolkits.axes_grid1 import make_axes_locatable\n",
    "\n",
    "from utils_training import *\n",
    "\n",
    "#Paper reproduction\n",
    "torch.manual_seed(1234)\n",
    "torch.cuda.manual_seed(1234)\n",
    "np.random.seed(1234)"
   ]
  },
  {
   "cell_type": "code",
   "execution_count": 2,
   "id": "427a65a9",
   "metadata": {
    "ExecuteTime": {
     "end_time": "2025-02-10T15:09:45.208266Z",
     "start_time": "2025-02-10T15:09:41.678143Z"
    }
   },
   "outputs": [
    {
     "name": "stdout",
     "output_type": "stream",
     "text": [
      "x_inside: Column 0: range from -0.9999233922198485 to 0.9998822478677367\n",
      "t_inside: Column 0: range from 0.0001244217542079664 to 0.9999681727021804\n",
      "x_bound: Column 0: range from -0.9976551547696636 to 0.996510993325985\n",
      "t_bound: Column 0: range from 0.0015792012865775578 to 0.9975818878215208\n"
     ]
    }
   ],
   "source": [
    "N_train = 5000\n",
    "N_bound = 200\n",
    "\n",
    "# x,t\n",
    "la = np.array([1,1])\n",
    "lb = np.array([-1,0])\n",
    "\n",
    "traindata = lb+(la-lb)*lhs(2,N_train)\n",
    "x_inside = traindata[:,0:1]\n",
    "t_inside = traindata[:,1:2]\n",
    "\n",
    "x_inside = numpy_to_tensor(x_inside, var_name=\"x_inside\", value_range_dim = True, to_torch = True, to_cuda = True, requires_grad = True)\n",
    "t_inside = numpy_to_tensor(t_inside, var_name=\"t_inside\", value_range_dim = True, to_torch = True, to_cuda = True, requires_grad = True)\n",
    "\n",
    "x_bound = lb[0]+(la[0]-lb[0])*lhs(1,N_bound)\n",
    "t_bound = lb[1]+(la[1]-lb[1])*lhs(1,N_bound)\n",
    "\n",
    "x_bound = numpy_to_tensor(x_bound, var_name=\"x_bound\", value_range_dim = True, to_torch = True, to_cuda = True, requires_grad = False)\n",
    "t_bound = numpy_to_tensor(t_bound, var_name=\"t_bound\", value_range_dim = True, to_torch = True, to_cuda = True, requires_grad = False)"
   ]
  },
  {
   "cell_type": "code",
   "execution_count": 3,
   "id": "4aa57493",
   "metadata": {
    "ExecuteTime": {
     "end_time": "2025-02-10T15:09:45.220683Z",
     "start_time": "2025-02-10T15:09:45.212464Z"
    }
   },
   "outputs": [
    {
     "name": "stdout",
     "output_type": "stream",
     "text": [
      "t_exact: (101, 1)\n",
      "x_exact: (201, 1)\n",
      "Exact_u: (101, 201)\n"
     ]
    }
   ],
   "source": [
    "from scipy.io import loadmat\n",
    "\n",
    "data = loadmat(\"usol_D_0.001_k_5.mat\")\n",
    "\n",
    "t_exact = data[\"t\"].reshape(-1,1)\n",
    "\n",
    "x_exact = data[\"x\"].reshape(-1,1)\n",
    "\n",
    "Exact_u = data[\"u\"]\n",
    "\n",
    "print('t_exact:',t_exact.shape)\n",
    "print('x_exact:',x_exact.shape)\n",
    "print('Exact_u:',Exact_u.shape)"
   ]
  },
  {
   "cell_type": "code",
   "execution_count": 4,
   "id": "0ab00bbb",
   "metadata": {
    "ExecuteTime": {
     "end_time": "2025-02-10T15:09:45.228505Z",
     "start_time": "2025-02-10T15:09:45.222730Z"
    }
   },
   "outputs": [
    {
     "name": "stdout",
     "output_type": "stream",
     "text": [
      "X_exact: (101, 201)\n",
      "T_exact: (101, 201)\n"
     ]
    }
   ],
   "source": [
    "X_exact, T_exact = np.meshgrid(x_exact,t_exact)\n",
    "print('X_exact:',X_exact.shape)\n",
    "print('T_exact:',T_exact.shape)\n",
    "\n",
    "X_exact_flatten = X_exact.flatten()[:,None]\n",
    "T_exact_flatten = T_exact.flatten()[:,None]\n",
    "data_star = np.hstack((X_exact_flatten,T_exact_flatten))\n",
    "u_star = Exact_u.flatten()[:,None] "
   ]
  },
  {
   "cell_type": "code",
   "execution_count": 5,
   "id": "e5c4e7d7",
   "metadata": {
    "ExecuteTime": {
     "end_time": "2025-02-10T15:09:45.236274Z",
     "start_time": "2025-02-10T15:09:45.230604Z"
    }
   },
   "outputs": [
    {
     "data": {
      "text/plain": [
       "(20301, 2)"
      ]
     },
     "execution_count": 5,
     "metadata": {},
     "output_type": "execute_result"
    }
   ],
   "source": [
    "data_star.shape"
   ]
  },
  {
   "cell_type": "code",
   "execution_count": 6,
   "id": "b087e9ea",
   "metadata": {
    "ExecuteTime": {
     "end_time": "2025-02-10T15:09:45.248201Z",
     "start_time": "2025-02-10T15:09:45.238302Z"
    }
   },
   "outputs": [
    {
     "name": "stdout",
     "output_type": "stream",
     "text": [
      "observe_data: Column 0: range from -1.0 to 0.99\n",
      "observe_data: Column 1: range from 0.01 to 0.99\n",
      "observe_u: Column 0: range from -1.0 to 0.9528342844289072\n",
      "observe_u: Column 0: range from -1.0 to 0.9528342844289072\n",
      "J: 50\n"
     ]
    }
   ],
   "source": [
    "random_seed = 1234\n",
    "np.random.seed(random_seed)\n",
    "number_observe_data = 50\n",
    "\n",
    "index_x = (lhs(1,number_observe_data))*len(x_exact)\n",
    "index_x = np.floor(index_x).reshape(number_observe_data,).astype(int)\n",
    "observe_x = x_exact[index_x]\n",
    "\n",
    "index_t = (lhs(1,number_observe_data))*len(t_exact)\n",
    "index_t = np.floor(index_t).reshape(number_observe_data,).astype(int)\n",
    "observe_t = t_exact[index_t]\n",
    "\n",
    "observe_data = np.hstack((observe_x,observe_t))\n",
    "observe_clear_u = Exact_u[index_t,index_x].reshape(-1,1)\n",
    "\n",
    "observe_u = observe_clear_u\n",
    "\n",
    "observe_data = numpy_to_tensor(observe_data, var_name=\"observe_data\", value_range_dim = True, to_torch = True, to_cuda = True, requires_grad = True)\n",
    "observe_clear_u = numpy_to_tensor(observe_clear_u, var_name=\"observe_u\", value_range_dim = True, to_torch = True, to_cuda = True, requires_grad = True)\n",
    "observe_u = numpy_to_tensor(observe_u, var_name=\"observe_u\", value_range_dim = True, to_torch = True, to_cuda = True, requires_grad = True)\n",
    "print('J:',len(observe_u))\n",
    "\n",
    "observe_data_x_inside = observe_data[:,0:1]\n",
    "observe_data_t_inside = observe_data[:,1:2]"
   ]
  },
  {
   "cell_type": "code",
   "execution_count": 7,
   "id": "9d0d1a50",
   "metadata": {
    "ExecuteTime": {
     "end_time": "2025-02-10T15:09:45.262893Z",
     "start_time": "2025-02-10T15:09:45.250366Z"
    }
   },
   "outputs": [
    {
     "name": "stdout",
     "output_type": "stream",
     "text": [
      "test_data: Column 0: range from -1.0 to 1.0\n",
      "test_data: Column 1: range from 0.0 to 1.0\n",
      "test_u: Column 0: range from -1.0 to 0.9918199944816758\n"
     ]
    }
   ],
   "source": [
    "np.random.seed(5678)\n",
    "n_test_data = 10000\n",
    "\n",
    "index_x = (lhs(1,n_test_data))*len(x_exact)\n",
    "index_x = np.floor(index_x).reshape(n_test_data,).astype(int)\n",
    "observe_x = x_exact[index_x]\n",
    "\n",
    "index_t = (lhs(1,n_test_data))*len(t_exact)\n",
    "index_t = np.floor(index_t).reshape(n_test_data,).astype(int)\n",
    "observe_t = t_exact[index_t]\n",
    "\n",
    "test_data = np.hstack((observe_x,observe_t))\n",
    "test_u = Exact_u[index_t,index_x].reshape(-1,1)\n",
    "\n",
    "test_data = numpy_to_tensor(test_data, var_name=\"test_data\", value_range_dim = True, to_torch = True, to_cuda = True, requires_grad = True)\n",
    "test_u = numpy_to_tensor(test_u, var_name=\"test_u\", value_range_dim = True, to_torch = True, to_cuda = True, requires_grad = True)\n",
    "\n",
    "test_data_x_inside = test_data[:,0:1]\n",
    "test_data_t_inside = test_data[:,1:2]"
   ]
  },
  {
   "cell_type": "code",
   "execution_count": 8,
   "id": "8631d00e",
   "metadata": {
    "ExecuteTime": {
     "end_time": "2025-02-10T15:09:45.268104Z",
     "start_time": "2025-02-10T15:09:45.264856Z"
    }
   },
   "outputs": [],
   "source": [
    "C1 = torch.tensor(0.5, requires_grad=True)"
   ]
  },
  {
   "cell_type": "code",
   "execution_count": 9,
   "id": "b1049b16",
   "metadata": {
    "ExecuteTime": {
     "end_time": "2025-02-10T15:09:45.275952Z",
     "start_time": "2025-02-10T15:09:45.272149Z"
    }
   },
   "outputs": [
    {
     "name": "stdout",
     "output_type": "stream",
     "text": [
      "J: 50\n"
     ]
    }
   ],
   "source": [
    "print('J:',len(observe_u))"
   ]
  },
  {
   "cell_type": "code",
   "execution_count": 10,
   "id": "7e9fd6c2",
   "metadata": {
    "ExecuteTime": {
     "end_time": "2025-02-10T15:09:45.282251Z",
     "start_time": "2025-02-10T15:09:45.278156Z"
    }
   },
   "outputs": [],
   "source": [
    "def output_transform(data_input, u_input):\n",
    "    \n",
    "    x_in = data_input[:,0:1]\n",
    "    t_in = data_input[:,1:2]\n",
    "    \n",
    "    return x_in**2 * torch.cos(torch.tensor(np.pi) * x_in) + t_in * (1 - x_in**2) * u_input"
   ]
  },
  {
   "cell_type": "code",
   "execution_count": 11,
   "id": "37ef0f31",
   "metadata": {
    "ExecuteTime": {
     "end_time": "2025-02-10T15:09:45.290434Z",
     "start_time": "2025-02-10T15:09:45.284196Z"
    }
   },
   "outputs": [],
   "source": [
    "def get_loss_f(x_grad, y_grad, PINNs, C, return_sequence='not'):\n",
    "\n",
    "    E_inside = PINNs(torch.cat((x_grad,y_grad),axis=1))\n",
    "    E_inside = output_transform(torch.cat((x_grad,y_grad),axis=1),E_inside)\n",
    "\n",
    "    E_x = compute_higher_order_derivatives(E_inside, [x_grad])\n",
    "    E_xx = compute_higher_order_derivatives(E_x, [x_grad])\n",
    "    E_xxx = compute_higher_order_derivatives(E_xx, [x_grad])\n",
    "    E_xxt = compute_higher_order_derivatives(E_xx, [y_grad])\n",
    "    E_t = compute_higher_order_derivatives(E_inside, [y_grad])\n",
    "    E_tx = compute_higher_order_derivatives(E_t, [x_grad])\n",
    "    E_tt = compute_higher_order_derivatives(E_t, [y_grad])\n",
    "\n",
    "    loss_term = E_t - C * E_xx - 5 * (E_inside - E_inside**3)\n",
    "\n",
    "    if return_sequence == 'yes':\n",
    "        return torch.square(loss_term)\n",
    "    else:\n",
    "        return torch.mean(torch.square(loss_term))"
   ]
  },
  {
   "cell_type": "code",
   "execution_count": 12,
   "id": "f4579bff",
   "metadata": {
    "ExecuteTime": {
     "end_time": "2025-02-10T15:09:45.299243Z",
     "start_time": "2025-02-10T15:09:45.292407Z"
    }
   },
   "outputs": [],
   "source": [
    "def get_loss_bound(bound_x, bound_t, PINNs, C, return_sequence='not'):\n",
    "\n",
    "    E_bound_x_zero = PINNs(torch.cat((bound_x,torch.zeros_like(bound_x)),axis=1)) \n",
    "    Exact_x_zero = bound_x**2*torch.cos(torch.tensor(np.pi)*bound_x)\n",
    "    loss_bound_for_a = torch.mean(torch.square(E_bound_x_zero-Exact_x_zero))\n",
    "    \n",
    "    E_bound_fu_1_t = PINNs(torch.cat((-torch.ones_like(bound_t),bound_t),axis=1)) \n",
    "    Exact_fu_1_t = -torch.ones_like(E_bound_fu_1_t)\n",
    "    loss_bound_for_b = torch.mean(torch.square(E_bound_fu_1_t-Exact_fu_1_t))\n",
    "    \n",
    "    E_bound_1_t = PINNs(torch.cat((torch.ones_like(bound_t),bound_t),axis=1))\n",
    "    Exact_1_t = -torch.ones_like(E_bound_1_t)\n",
    "    loss_bound_for_c = torch.mean(torch.square(E_bound_1_t-Exact_1_t))\n",
    "    \n",
    "    loss_bound_value = loss_bound_for_a+loss_bound_for_b+loss_bound_for_c\n",
    "    \n",
    "    return loss_bound_value"
   ]
  },
  {
   "cell_type": "code",
   "execution_count": 13,
   "id": "4c9e357f",
   "metadata": {
    "ExecuteTime": {
     "end_time": "2025-02-10T15:09:45.305044Z",
     "start_time": "2025-02-10T15:09:45.301536Z"
    }
   },
   "outputs": [],
   "source": [
    "#Paper reproduction\n",
    "torch.manual_seed(1234)\n",
    "torch.cuda.manual_seed(1234)\n",
    "np.random.seed(1234)"
   ]
  },
  {
   "cell_type": "code",
   "execution_count": 14,
   "id": "258cec65",
   "metadata": {
    "ExecuteTime": {
     "end_time": "2025-02-10T15:09:45.315471Z",
     "start_time": "2025-02-10T15:09:45.307286Z"
    }
   },
   "outputs": [],
   "source": [
    "torch.manual_seed(1234)\n",
    "torch.cuda.manual_seed(1234)\n",
    "np.random.seed(1234)\n",
    "\n",
    "net_settings_for_PINNs1 = NetSetting(input_dims=2, hidden_neurons_list=[64]*6, \n",
    "                                     output_dims=1, hidden_activation='tanh', \n",
    "                                     output_activation=None, initializer_method='xavier')\n",
    "PINNs1 = get_mlp_pinn(net_settings_for_PINNs1)\n",
    "PINNs1.cuda()\n",
    "\n",
    "initialize_weights(PINNs1, net_settings_for_PINNs1.initializer_method)\n",
    "\n",
    "optimizer1 = optim.Adam(PINNs1.parameters(), lr=0.001,betas=(0.9, 0.999), eps=1e-08, weight_decay=0, amsgrad=False)    \n",
    "optimizer1.add_param_group({'params': [C1], 'lr': 0.001})"
   ]
  },
  {
   "cell_type": "code",
   "execution_count": 15,
   "id": "a23e0ffa",
   "metadata": {
    "ExecuteTime": {
     "end_time": "2025-02-10T15:09:45.321072Z",
     "start_time": "2025-02-10T15:09:45.317450Z"
    }
   },
   "outputs": [],
   "source": [
    "x_inside_all = torch.cat((x_inside,observe_data[:,0:1]),axis=0)\n",
    "t_inside_all = torch.cat((t_inside,observe_data[:,1:2]),axis=0)"
   ]
  },
  {
   "cell_type": "code",
   "execution_count": 16,
   "id": "768ed247",
   "metadata": {
    "ExecuteTime": {
     "end_time": "2025-02-10T15:09:45.329598Z",
     "start_time": "2025-02-10T15:09:45.323274Z"
    }
   },
   "outputs": [],
   "source": [
    "net_settings_for_discriminator1 = NetSetting(input_dims=3, hidden_neurons_list=[64]*3, \n",
    "                                     output_dims=1, hidden_activation='sigmoid(tanh)', \n",
    "                                     output_activation='sigmoid(tanh)', initializer_method='xavier')\n",
    "\n",
    "discriminator1 = get_mlp_pinn(net_settings_for_discriminator1)\n",
    "discriminator1.cuda() \n",
    "initialize_weights(discriminator1, net_settings_for_discriminator1.initializer_method)\n",
    "\n",
    "optimizer2 = optim.Adam(discriminator1.parameters(), lr=1e-3,betas=(0.9, 0.999), eps=1e-08, weight_decay=0.001, amsgrad=False)"
   ]
  },
  {
   "cell_type": "code",
   "execution_count": 17,
   "id": "90375c44",
   "metadata": {
    "ExecuteTime": {
     "end_time": "2025-02-10T15:09:45.335662Z",
     "start_time": "2025-02-10T15:09:45.331714Z"
    }
   },
   "outputs": [],
   "source": [
    "def train_optimizer1(PINNs,C,discriminator):\n",
    "    \n",
    "    for param in PINNs.parameters():\n",
    "        param.requires_grad = True\n",
    "    \n",
    "    C.requires_grad = True\n",
    "    \n",
    "    for param in discriminator.parameters():\n",
    "        param.requires_grad = False"
   ]
  },
  {
   "cell_type": "code",
   "execution_count": 18,
   "id": "93bc6547",
   "metadata": {
    "ExecuteTime": {
     "end_time": "2025-02-10T15:09:45.341538Z",
     "start_time": "2025-02-10T15:09:45.337677Z"
    }
   },
   "outputs": [],
   "source": [
    "def train_optimizer2(PINNs,C,discriminator):\n",
    "    \n",
    "    for param in PINNs.parameters():\n",
    "        param.requires_grad = False\n",
    "    \n",
    "    C.requires_grad = False\n",
    "    \n",
    "    for param in discriminator.parameters():\n",
    "        param.requires_grad = True"
   ]
  },
  {
   "cell_type": "code",
   "execution_count": 19,
   "id": "b485bdc7",
   "metadata": {
    "ExecuteTime": {
     "end_time": "2025-02-10T15:09:45.349546Z",
     "start_time": "2025-02-10T15:09:45.343593Z"
    }
   },
   "outputs": [],
   "source": [
    "def train_for_gan(PINNs,C,discriminator,observe_data_input,observe_u_input):\n",
    "    \n",
    "    \n",
    "    ############ loss D ###########\n",
    "    train_optimizer2(PINNs,C,discriminator)\n",
    "    \n",
    "    pre_H = PINNs(observe_data_input)\n",
    "    pre_H = output_transform(observe_data_input,pre_H)\n",
    "    \n",
    "    d_fake = discriminator(torch.cat((observe_data_input,pre_H),1))\n",
    "    d_real = discriminator(torch.cat((observe_data_input,observe_u_input),1))\n",
    "\n",
    "    loss_D = torch.mean(1-d_real)+torch.mean(d_fake)\n",
    "\n",
    "    optimizer2.zero_grad()\n",
    "    loss_D .backward()\n",
    "    optimizer2.step()  \n",
    "\n",
    "    ############ loss G ###########\n",
    "    train_optimizer1(PINNs,C,discriminator)\n",
    "    \n",
    "    pre_H = PINNs(observe_data_input)\n",
    "    pre_H = output_transform(observe_data_input,pre_H)\n",
    "    \n",
    "    d_fake = discriminator(torch.cat((observe_data_input,pre_H),1))\n",
    "\n",
    "    loss_G = torch.mean(1-d_fake)+torch.mean(torch.square(pre_H - observe_u_input))\n",
    "\n",
    "    optimizer1.zero_grad()\n",
    "    loss_G.backward()\n",
    "    optimizer1.step()  \n",
    "    \n",
    "    return PINNs,C,discriminator"
   ]
  },
  {
   "cell_type": "code",
   "execution_count": 20,
   "id": "ceef9e8c",
   "metadata": {
    "ExecuteTime": {
     "end_time": "2025-02-10T15:16:20.394165Z",
     "start_time": "2025-02-10T15:09:45.351840Z"
    },
    "scrolled": true
   },
   "outputs": [
    {
     "name": "stdout",
     "output_type": "stream",
     "text": [
      "It: 0 train_loss: 8.277297973632812 test_loss: 0.6611247062683105\n",
      "tensor(0.5000, requires_grad=True)\n",
      "It: 1000 train_loss: 0.018136000260710716 test_loss: 0.07932429015636444\n",
      "tensor(0.0032, requires_grad=True)\n",
      "It: 2000 train_loss: 0.014250827953219414 test_loss: 0.05685986205935478\n",
      "tensor(0.0017, requires_grad=True)\n",
      "It: 3000 train_loss: 0.00538280513137579 test_loss: 0.03836940973997116\n",
      "tensor(0.0012, requires_grad=True)\n",
      "It: 4000 train_loss: 0.0014072509948164225 test_loss: 0.026851344853639603\n",
      "tensor(0.0011, requires_grad=True)\n",
      "It: 5000 train_loss: 0.0005835536867380142 test_loss: 0.015040514059364796\n",
      "tensor(0.0011, requires_grad=True)\n",
      "It: 6000 train_loss: 0.0017009468283504248 test_loss: 0.016024192795157433\n",
      "tensor(0.0011, requires_grad=True)\n",
      "It: 7000 train_loss: 0.0005161423468962312 test_loss: 0.010685734450817108\n",
      "tensor(0.0011, requires_grad=True)\n",
      "It: 8000 train_loss: 0.00032323499908670783 test_loss: 0.008287093602120876\n",
      "tensor(0.0011, requires_grad=True)\n",
      "It: 9000 train_loss: 0.0003670850128401071 test_loss: 0.007878292351961136\n",
      "tensor(0.0011, requires_grad=True)\n",
      "Final: train_loss: 0.0004464813391678035 test_loss: 0.00738687627017498\n"
     ]
    }
   ],
   "source": [
    "############## Record list ###############\n",
    "loss_all_1 = []\n",
    "loss_f_1 = []\n",
    "loss_f_for_collocation_1 = []\n",
    "loss_f_for_T_1 = []\n",
    "loss_f_excapt_T_1 = []\n",
    "loss_T_1 = []\n",
    "loss_T_clear_1 = []\n",
    "loss_T_1_test_data = []\n",
    "test_loss_1 = []\n",
    "C1_list = []\n",
    "############## Record list ###############\n",
    "\n",
    "\n",
    "nIter1 = 10000\n",
    "it = 0\n",
    "\n",
    "while it<nIter1:\n",
    "    \n",
    "    if it<4000:\n",
    "        ######### GAN  #########\n",
    "        PINNs1,C1,discriminator1 = train_for_gan(PINNs1,C1,discriminator1,observe_data,observe_u)    \n",
    "        \n",
    "    #########loss f#########\n",
    "    loss_f = get_loss_f(x_inside_all,t_inside_all,PINNs1,C1,return_sequence='not')\n",
    "\n",
    "    #########loss T observation#########        \n",
    "    E_observation = PINNs1(observe_data) \n",
    "    E_observation = output_transform(observe_data,E_observation)\n",
    "    loss_observation = torch.mean(torch.square(E_observation-observe_u))            \n",
    "    \n",
    "    #########loss PI#########\n",
    "    loss = loss_f+10*loss_observation\n",
    "    \n",
    "    #########test_loss NRMSE#########\n",
    "    pre_u = PINNs1(test_data)\n",
    "    pre_u = output_transform(test_data,pre_u)\n",
    "    test_loss = relative_l2_torch(pre_u,test_u)\n",
    "    #########test_loss NRMSE#########\n",
    "    \n",
    "    #########Record#########\n",
    "    C1_list.append(C1.item())   \n",
    "    loss_T_1.append(loss_observation.item()) \n",
    "    test_loss_1.append(test_loss)\n",
    "    #########Record#########\n",
    "    \n",
    "    if it % 1000 == 0:\n",
    "        print('It:', it, 'train_loss:', loss.item(), 'test_loss:', test_loss)\n",
    "        print(C1)\n",
    "        \n",
    "    optimizer1.zero_grad()\n",
    "    loss.backward()\n",
    "    optimizer1.step()\n",
    "    \n",
    "    \n",
    "    it = it + 1   \n",
    "    \n",
    "print('Final:', 'train_loss:', loss.item(), 'test_loss:', test_loss)"
   ]
  },
  {
   "cell_type": "code",
   "execution_count": null,
   "id": "75f5d986",
   "metadata": {},
   "outputs": [],
   "source": []
  },
  {
   "cell_type": "code",
   "execution_count": 21,
   "id": "3137c492",
   "metadata": {
    "ExecuteTime": {
     "end_time": "2025-02-10T15:16:20.408962Z",
     "start_time": "2025-02-10T15:16:20.398144Z"
    }
   },
   "outputs": [],
   "source": [
    "import os\n",
    "folder_path = '../experimental_data/GA_PINN/'\n",
    "if not os.path.exists(folder_path):\n",
    "    os.makedirs(folder_path)\n",
    "\n",
    "np.save(os.path.join(folder_path, 'loss_T_1.npy'), loss_T_1)\n",
    "np.save(os.path.join(folder_path, 'test_loss_1.npy'), test_loss_1)\n",
    "np.save(os.path.join(folder_path, 'C1_list.npy'), C1_list)"
   ]
  },
  {
   "cell_type": "code",
   "execution_count": null,
   "id": "d648790e",
   "metadata": {},
   "outputs": [],
   "source": []
  },
  {
   "cell_type": "code",
   "execution_count": null,
   "id": "529dfcbd",
   "metadata": {},
   "outputs": [],
   "source": []
  }
 ],
 "metadata": {
  "kernelspec": {
   "display_name": "GA-PINNs",
   "language": "python",
   "name": "gapings"
  },
  "language_info": {
   "codemirror_mode": {
    "name": "ipython",
    "version": 3
   },
   "file_extension": ".py",
   "mimetype": "text/x-python",
   "name": "python",
   "nbconvert_exporter": "python",
   "pygments_lexer": "ipython3",
   "version": "3.7.12"
  },
  "toc": {
   "base_numbering": 1,
   "nav_menu": {},
   "number_sections": true,
   "sideBar": true,
   "skip_h1_title": false,
   "title_cell": "Table of Contents",
   "title_sidebar": "Contents",
   "toc_cell": false,
   "toc_position": {},
   "toc_section_display": true,
   "toc_window_display": false
  },
  "varInspector": {
   "cols": {
    "lenName": 16,
    "lenType": 16,
    "lenVar": 40
   },
   "kernels_config": {
    "python": {
     "delete_cmd_postfix": "",
     "delete_cmd_prefix": "del ",
     "library": "var_list.py",
     "varRefreshCmd": "print(var_dic_list())"
    },
    "r": {
     "delete_cmd_postfix": ") ",
     "delete_cmd_prefix": "rm(",
     "library": "var_list.r",
     "varRefreshCmd": "cat(var_dic_list()) "
    }
   },
   "types_to_exclude": [
    "module",
    "function",
    "builtin_function_or_method",
    "instance",
    "_Feature"
   ],
   "window_display": false
  }
 },
 "nbformat": 4,
 "nbformat_minor": 5
}
